{
  "nbformat": 4,
  "nbformat_minor": 0,
  "metadata": {
    "colab": {
      "provenance": [],
      "collapsed_sections": [
        "TKlOXVFpJj7q"
      ],
      "toc_visible": true,
      "include_colab_link": true
    },
    "kernelspec": {
      "name": "python3",
      "display_name": "Python 3"
    },
    "language_info": {
      "name": "python"
    }
  },
  "cells": [
    {
      "cell_type": "markdown",
      "metadata": {
        "id": "view-in-github",
        "colab_type": "text"
      },
      "source": [
        "<a href=\"https://colab.research.google.com/github/yajima-yasutoshi/DataScience/blob/main/20241224/%E5%88%86%E9%A1%9E.ipynb\" target=\"_parent\"><img src=\"https://colab.research.google.com/assets/colab-badge.svg\" alt=\"Open In Colab\"/></a>"
      ]
    },
    {
      "cell_type": "markdown",
      "source": [
        "#分類\n"
      ],
      "metadata": {
        "id": "pFvCJ4xCd13J"
      }
    },
    {
      "cell_type": "markdown",
      "source": [
        "#本日の講義の目的\n",
        "\n",
        "分類手法に関する説明を行う。特に、ロジスティック回帰による予測モデルの構築法を理解する。\n",
        "\n",
        "## 分類手法が活用されるシーン\n",
        "\n",
        "* 解約、離脱の予測\n",
        "> 携帯電話や動画配信サービスなどのサブスクリプションサービスでは、\n",
        "会員数を維持することがビジネス上非常に重要である。\n",
        "そこで、\n",
        "将来解約する可能性のある会員に対しては\n",
        "例えば、クーポンによる割引を実施するなどで\n",
        "解約をできるだけ防ぐ取り組みが行われます。\n",
        "分類手法を活用することで、\n",
        "会員の属性やサービスの利用傾向から\n",
        "将来解約するかしないかが予測でき、\n",
        "解約しそうな会員のみに施策を実施することで、\n",
        "効率よく解約を防ぐ試みが行われている。\n",
        "\n",
        "\n",
        "* 病気の診断\n",
        "> 検査の結果や過去の病歴などから病気にかかっているのか/いないのか、\n",
        "あるいは将来の発病を予測することにデータの活用が盛んに行われている。\n",
        "近年は画像データを使った予測も行われている。\n",
        "\n",
        "* 倒産や破産の予測\n",
        "> 金融機関で融資を行う際には、借り手が返済可能かそうでないかを判断する。\n",
        "個人向けの融資であれば、個人の属性や年収、職業といったデータが使われ、\n",
        "あるいは、企業向けの融資であれば、さまざまな財務指標データを使った\n",
        "予測が広く行われている。\n",
        "\n",
        "* 不正検知\n",
        "> クレジットカード利用や金融取引などでは、\n",
        "正当な利用か不正な利用か判断し、\n",
        "自動的に利用を制限するシステムが導入されている。\n",
        "こういったシステムには、\n",
        "取引に関するデータを使った予測モデルが組み込まれている。\n",
        "\n",
        "この例のように、ある事象の発生するかしないかを予測する問題を\n",
        "**2値の分類問題**と呼び、\n",
        "のそ代表的なAIモデルが**ロジスティック回帰**である。\n"
      ],
      "metadata": {
        "id": "wUezl4MyB_v3"
      }
    },
    {
      "cell_type": "markdown",
      "source": [
        "### 【参考】ロジスティック回帰ライブラリー\n",
        "https://scikit-learn.org/stable/modules/generated/sklearn.linear_model.LogisticRegression.html"
      ],
      "metadata": {
        "id": "Kag2HqlpNLtr"
      }
    },
    {
      "cell_type": "markdown",
      "source": [
        "# 環境の準備\n",
        "\n",
        "まず初めに、日本語を表示するための準備と\n",
        "分析に必要なライブラリーのインポートを行うため、\n",
        "以下のセルを実行する。"
      ],
      "metadata": {
        "id": "0OtdxoFueiQX"
      }
    },
    {
      "cell_type": "code",
      "source": [
        "# インストール\n",
        "!pip install japanize-matplotlib\n",
        "\n",
        "# 必要なライブラリをインポート\n",
        "import numpy as np\n",
        "import pandas as pd\n",
        "import seaborn as sns\n",
        "import matplotlib.pyplot as plt\n",
        "import japanize_matplotlib\n",
        "\n",
        "from sklearn.model_selection import train_test_split\n",
        "from sklearn.preprocessing import StandardScaler\n",
        "\n",
        "# 分類（ロジスティック回帰）に必要なライブラリー\n",
        "from sklearn.linear_model import LogisticRegression\n",
        "\n",
        "# その他必要なライブラリー\n",
        "from sklearn.model_selection import GridSearchCV\n",
        "from sklearn.metrics import accuracy_score\n",
        "from sklearn.metrics import confusion_matrix"
      ],
      "metadata": {
        "id": "g9TNYrU66eru"
      },
      "execution_count": null,
      "outputs": []
    },
    {
      "cell_type": "markdown",
      "source": [
        "# データの準備\n",
        "\n",
        "sklearn ライブラリーに格納されている\n",
        "cancer data と呼ばれるサンプルデータを使い、\n",
        "ロジスティック回帰の説明を行う。\n",
        "\n",
        "以下のセルでは、\n",
        "データを読み込みデータフレーム変数 df に格納\n",
        "する操作を行っている。"
      ],
      "metadata": {
        "id": "THzc4_hPdU3T"
      }
    },
    {
      "cell_type": "code",
      "source": [
        "from sklearn.datasets import load_breast_cancer\n",
        "\n",
        "cancer = load_breast_cancer()\n",
        "df = pd.DataFrame(cancer.data, columns = cancer.feature_names)\n",
        "df['diagnosis'] = cancer.target"
      ],
      "metadata": {
        "id": "bPDzMK4uN0IV"
      },
      "execution_count": null,
      "outputs": []
    },
    {
      "cell_type": "markdown",
      "source": [
        "データの構造を info() で確認する。"
      ],
      "metadata": {
        "id": "mGJgW90zyx81"
      }
    },
    {
      "cell_type": "code",
      "source": [
        "df.info()"
      ],
      "metadata": {
        "id": "ctN9Ru5my39l"
      },
      "execution_count": null,
      "outputs": []
    },
    {
      "cell_type": "markdown",
      "source": [
        "これは、癌の疑いのある細胞に関連した30項目（サイズ、形状、など細胞の状態）の情報と、そこから医師などが判断した診断結果（'diagnosis'）のデータである。\n",
        "\n",
        "このデータでは全ての項目は数値型となっており、\n",
        "また、欠損値もないことが確認できる。\n",
        "\n",
        "特に診断結果（'diagnosis'）は\n",
        "\n",
        "* 悪性の場合には 0\n",
        "* 良性の場合には 1\n",
        "\n",
        "が入力されており、\n",
        "このような項目を**2値**の項目と呼ぶ。\n",
        "\n",
        "このデータを学習させて、\n",
        "細胞に関する30項目を説明変数として\n",
        "**癌の診断（良性か悪性かの分類）を行うAIを構築**する。"
      ],
      "metadata": {
        "id": "LdH53ARgIepY"
      }
    },
    {
      "cell_type": "markdown",
      "source": [
        "##基礎集計"
      ],
      "metadata": {
        "id": "vIWgvtP6yxIk"
      }
    },
    {
      "cell_type": "markdown",
      "source": [
        "まず初めに、\n",
        "目的変数となる diagnosis の分布の確認する。"
      ],
      "metadata": {
        "id": "oGnsL5FRgqAg"
      }
    },
    {
      "cell_type": "code",
      "source": [
        "plt.figure(figsize=(6, 2))\n",
        "sns.countplot(y='diagnosis', data=df)"
      ],
      "metadata": {
        "id": "-OsMjN1xyBR7"
      },
      "execution_count": null,
      "outputs": []
    },
    {
      "cell_type": "markdown",
      "source": [
        "diagnosis は数値型の項目ではあるが、値は 0 と 1 の2値となっており\n",
        "分類問題の目的変数として用いることができることが確かめられる。"
      ],
      "metadata": {
        "id": "ZUq7hgo472nI"
      }
    },
    {
      "cell_type": "markdown",
      "source": [
        "ヒストグラムを作成して、各項目の分布を確認する。"
      ],
      "metadata": {
        "id": "F-qS51aHhHhK"
      }
    },
    {
      "cell_type": "code",
      "source": [
        "sns.histplot(data=df, x='mean radius')"
      ],
      "metadata": {
        "id": "FZzpGZOlFkRk"
      },
      "execution_count": null,
      "outputs": []
    },
    {
      "cell_type": "markdown",
      "source": [
        "hue を使い目的変数（diagnosis）で色分けする。"
      ],
      "metadata": {
        "id": "3O26SBlbhOSr"
      }
    },
    {
      "cell_type": "code",
      "source": [
        "sns.histplot(data=df, x='mean radius', hue='diagnosis', kde=True)"
      ],
      "metadata": {
        "id": "VNU4Aza-Dcie"
      },
      "execution_count": null,
      "outputs": []
    },
    {
      "cell_type": "markdown",
      "source": [
        "このグラフからは、mean radius がおよそ18を超えるとほぼ全てが悪性、\n",
        "逆に10を下回るとほぼ全てが良性になっていることが分かる。\n",
        "\n",
        "一方で、10から18の間では、良性も悪性もあり、\n",
        "この項目だけでは細胞が悪性か良性かを判断できないことが分かる。"
      ],
      "metadata": {
        "id": "bG_bnzU9yk52"
      }
    },
    {
      "cell_type": "code",
      "source": [
        "sns.histplot(data=df, x='radius error', hue='diagnosis', kde=True)"
      ],
      "metadata": {
        "id": "gZpKmrf2GIVG"
      },
      "execution_count": null,
      "outputs": []
    },
    {
      "cell_type": "code",
      "source": [
        "# sns.histplot(data=df, x='fractal dimension error', hue='diagnosis', kde=True)\n",
        "sns.histplot(data=df, x='mean compactness', hue='diagnosis')"
      ],
      "metadata": {
        "id": "exsst_OYEH79"
      },
      "execution_count": null,
      "outputs": []
    },
    {
      "cell_type": "code",
      "source": [
        "sns.histplot(data=df, x='mean area', hue='diagnosis')\n",
        "# sns.boxplot(data=df, y='mean area')"
      ],
      "metadata": {
        "id": "5zzajVsnn8V9"
      },
      "execution_count": null,
      "outputs": []
    },
    {
      "cell_type": "markdown",
      "source": [
        "# ロジスティック回帰\n",
        "30項目の数値データと癌の診断結果（diagnosis）から、\n",
        "悪性か良性かを分類するAIを構築する。\n",
        "\n",
        "悪性か良性かといった2値の分類を行いたい場合に用いられる手法として、\n",
        "最も基本となる**「ロジスティック回帰」**の使い方を説明する。"
      ],
      "metadata": {
        "id": "kflta2TyOaRw"
      }
    },
    {
      "cell_type": "markdown",
      "source": [
        "### ロジスティックモデル構築全体の流れ\n",
        "\n",
        "ロジスティックモデル構築の流れは以下のようになる。\n",
        "\n",
        "1. 変数の設定\n",
        "\n",
        "  説明変数と目的変数を設定する。\n",
        "\n",
        "2. データの分割\n",
        "\n",
        "  データ全体を、学習用データと評価用データに分割する。\n",
        "    train_test_split() を利用する。\n",
        "\n",
        "3. 説明変数の標準化\n",
        "\n",
        "  変数の平均を0、分散を1に標準化する。\n",
        "  StandardScaler の fit() と transform() を使うことで実現される。\n",
        "\n",
        "4. モデルの学習\n",
        "\n",
        "   学習用データを用いてモデルを構築する。fit() を使う。\n",
        "\n",
        "5. 評価用データでモデルの精度を評価\n",
        "\n",
        "   1. 評価用の説明変数で予測を行う。predict() を使う。\n",
        "   2. 予測と正解を比較して精度を求める。accuracy_score() を使う。\n"
      ],
      "metadata": {
        "id": "AK9BTPx7NK71"
      }
    },
    {
      "cell_type": "markdown",
      "source": [
        "\n",
        "## 変数の設定\n",
        "\n",
        "* **目的変数：** 予測の対象となる項目。上のデータでは diagnosis である。\n",
        "* **説明変数：** 予測する元になる項目。上のデータでは30項目の数値型データがある。\n",
        "\n",
        "ロジスティック回帰を適用するためには、\n",
        "\n",
        "* 目的変数が2値の項目（カテゴリ変数、数値型変数どちらでも良い）\n",
        "\n",
        "かつ\n",
        "\n",
        "* 説明変数が数値型のデータ\n",
        "\n",
        "となる必要がある。\n",
        "上で準備したデータはこの条件を満足している。\n"
      ],
      "metadata": {
        "id": "XECHEz4EhU7n"
      }
    },
    {
      "cell_type": "markdown",
      "source": [
        "説明変数と目的変数の項目を、それぞれ変数 X と y にセットする。"
      ],
      "metadata": {
        "id": "Spn955w6t_Bl"
      }
    },
    {
      "cell_type": "code",
      "source": [
        "X = df[ ['mean radius', 'mean texture', 'mean perimeter', 'mean area',\n",
        "       'mean smoothness', 'mean compactness', 'mean concavity',\n",
        "       'mean concave points', 'mean symmetry', 'mean fractal dimension',\n",
        "       'radius error', 'texture error', 'perimeter error', 'area error',\n",
        "       'smoothness error', 'compactness error', 'concavity error',\n",
        "       'concave points error', 'symmetry error', 'fractal dimension error',\n",
        "       'worst radius', 'worst texture', 'worst perimeter', 'worst area',\n",
        "       'worst smoothness', 'worst compactness', 'worst concavity',\n",
        "       'worst concave points', 'worst symmetry', 'worst fractal dimension']]\n",
        "y = df[['diagnosis']]"
      ],
      "metadata": {
        "id": "MWDJQ-uL5krA"
      },
      "execution_count": null,
      "outputs": []
    },
    {
      "cell_type": "markdown",
      "source": [
        "30項目全てを使うため多くの項目を記述する必要があるが、\n",
        "以下のようにすることもできる。"
      ],
      "metadata": {
        "id": "dFG91xWU50Pk"
      }
    },
    {
      "cell_type": "code",
      "source": [
        "# 項目'diagnosis'は変数dfの最後にある項目なので、「最後の列のみを除く」ことで実現する\n",
        "X = df.iloc[:,:-1]"
      ],
      "metadata": {
        "id": "pyHf_wHjOknH"
      },
      "execution_count": null,
      "outputs": []
    },
    {
      "cell_type": "markdown",
      "source": [
        "あるいは、drop を使うことも可能である。\n",
        "列削除は以下のように実行する。\n"
      ],
      "metadata": {
        "id": "Bq-3ZFncIzfk"
      }
    },
    {
      "cell_type": "code",
      "source": [
        "X = df.drop(['diagnosis'], axis=1)"
      ],
      "metadata": {
        "id": "ZZvKhaQT2K-d"
      },
      "execution_count": null,
      "outputs": []
    },
    {
      "cell_type": "markdown",
      "source": [
        "列を削除する場合は\n",
        "```\n",
        "axis=1\n",
        "```\n",
        "が必要である。"
      ],
      "metadata": {
        "id": "9x1oZtC1-3Jl"
      }
    },
    {
      "cell_type": "markdown",
      "metadata": {
        "id": "6kfCii5jgM6m"
      },
      "source": [
        "## データの分割\n",
        "\n",
        "予測モデルの精度を事前に確認するために、以下のように全データを「学習用データ」と「検証用データ」にランダム分け、\n",
        "学習用データでモデルを構築したのちに、\n",
        "検証用データで精度\n",
        "（今回の例では、AIの予測が医師の判断とどの程度一致するか）\n",
        "を確認することが一般的である。\n",
        "\n",
        "```\n",
        "train_test_split\n",
        "```\n",
        "を用いると、データを学習用と検証用に分割することができる。\n"
      ]
    },
    {
      "cell_type": "markdown",
      "metadata": {
        "id": "4TkBdqHdf1_m"
      },
      "source": [
        "\n",
        "![image.png](data:image/png;base64,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)"
      ]
    },
    {
      "cell_type": "markdown",
      "source": [
        " train_test_split を用いることで、\n",
        "説明変数 X と目的変数 y から\n",
        "学習用データと検証用データが作成できる。\n",
        "\n",
        "```\n",
        "A, B, C, D  = train_test_split(X, y, test_size=0.2, random_state=0)\n",
        "```\n",
        "\n",
        "A, B, C, Dは以下のようにセットされる。"
      ],
      "metadata": {
        "id": "znYuYWB2hKBz"
      }
    },
    {
      "cell_type": "markdown",
      "source": [
        "データ | 説明変数  | 目的変数\n",
        "--     | --        | --\n",
        "学習用データ | A   | C\n",
        "検証用データ | B   | D"
      ],
      "metadata": {
        "id": "-eQKHWB2EyVm"
      }
    },
    {
      "cell_type": "markdown",
      "source": [
        "一般的には検証用のレコード数は、\n",
        "全体の **2割** から3割程度が適切とされている。\n",
        "検証用のレコードの割合を2割にする場合は以下のように指定する。\n",
        "```\n",
        "test_size=0.2\n",
        "```"
      ],
      "metadata": {
        "id": "MiolgU5Y1RAX"
      }
    },
    {
      "cell_type": "code",
      "source": [
        "# 必要なライブラリのインポート\n",
        "from sklearn.model_selection import train_test_split\n",
        "\n",
        "# データを学習用データと検証用に分割\n",
        "# test_size を、0.2 から 0.3 程度が良いとされる\n",
        "X_train, X_val, y_train, y_val = train_test_split(X, y, test_size=0.2, random_state=0)"
      ],
      "metadata": {
        "id": "iu6fawtBVpj1"
      },
      "execution_count": null,
      "outputs": []
    },
    {
      "cell_type": "markdown",
      "source": [
        "shape を使ってレコード数を確認する。"
      ],
      "metadata": {
        "id": "ltucgPXmLnbx"
      }
    },
    {
      "cell_type": "code",
      "source": [
        "X.shape"
      ],
      "metadata": {
        "id": "lmZkwNBEkE9Y"
      },
      "execution_count": null,
      "outputs": []
    },
    {
      "cell_type": "code",
      "source": [
        "X_val.shape"
      ],
      "metadata": {
        "id": "EgHPjKyUjzPe"
      },
      "execution_count": null,
      "outputs": []
    },
    {
      "cell_type": "markdown",
      "source": [
        "検証用データのレコード数が全体の約2割になっていることが確認される。"
      ],
      "metadata": {
        "id": "w8dRtpzQ15qu"
      }
    },
    {
      "cell_type": "markdown",
      "source": [
        "## 説明変数の標準化\n",
        "\n",
        "ロジスティック回帰では、説明変数の標準化が必要とされる。\n",
        "\n",
        "> 標準化とは、データを変換して、平均 0、分散 1 にすることである。\n",
        "\n",
        "標準化は、\n",
        "StandardScaler の fit() と transform() を使うことで実現される。"
      ],
      "metadata": {
        "id": "5C6EYkRLklH6"
      }
    },
    {
      "cell_type": "code",
      "source": [
        "# 必要なライブラリのインポート\n",
        "from sklearn.preprocessing import StandardScaler\n",
        "\n",
        "# 準備のための手順\n",
        "scaler = StandardScaler()\n",
        "scaler.fit(X_train) #学習用のデータで標準化の設定を行う\n",
        "\n",
        "# 標準化後のものは別の変数にセットすると良い\n",
        "X_train_scaled = scaler.transform(X_train)\n",
        "X_val_scaled = scaler.transform(X_val)"
      ],
      "metadata": {
        "id": "sN5KzLk0moFq"
      },
      "execution_count": null,
      "outputs": []
    },
    {
      "cell_type": "markdown",
      "source": [
        "X_train_scaled では数値が標準化されたことを確認する。"
      ],
      "metadata": {
        "id": "3CjfP3dAJjWc"
      }
    },
    {
      "cell_type": "code",
      "source": [
        "# X_train_scaled では数値が標準化されたことを確認する\n",
        "pd.DataFrame(X_train_scaled, columns=X_train.columns).describe()"
      ],
      "metadata": {
        "id": "kSGzeuvQo279"
      },
      "execution_count": null,
      "outputs": []
    },
    {
      "cell_type": "markdown",
      "source": [
        "mean_redius の平均が\n",
        "\n",
        "-9.135549e-16\n",
        "\n",
        "と表示されている。これは、\n",
        "\n",
        "$-9.135549 \\times 10^{-16}$\n",
        "\n",
        "という意味である。計算誤差の範囲であり 0 と判断する。\n",
        "\n",
        "いずれの項目も平均が 0、標準偏差が 1.0 になっていることが確認できる。"
      ],
      "metadata": {
        "id": "wNnrBs-lJpUV"
      }
    },
    {
      "cell_type": "markdown",
      "source": [
        "##ロジスティック回帰モデルの学習"
      ],
      "metadata": {
        "id": "4I3xbCtTxWvc"
      }
    },
    {
      "cell_type": "markdown",
      "source": [
        "ロジスティック回帰に必要なライブラリーのインポートは\n",
        "以下のように行う。\n",
        "\n",
        "```\n",
        "from sklearn.linear_model import LogisticRegression\n",
        "```\n",
        "\n",
        "モデル変数に LogisticRegression() をセットしたのち学習を行う。\n",
        "学習を行う関数は回帰と同様に fit である。\n",
        "\n",
        "```\n",
        "model = LogisticRegression()\n",
        "model.fit(説明変数, 目的変数)\n",
        "```\n",
        "\n"
      ],
      "metadata": {
        "id": "llj-A_9JCdR0"
      }
    },
    {
      "cell_type": "code",
      "source": [
        "# 分類（ロジスティック回帰）に必要なライブラリー\n",
        "from sklearn.linear_model import LogisticRegression\n",
        "\n",
        "# ロジスティック回帰モデルの準備のための命令\n",
        "model = LogisticRegression()\n",
        "\n",
        "# モデルを学習\n",
        "model.fit(X_train_scaled, y_train)"
      ],
      "metadata": {
        "id": "H8cdaDg_PVwY"
      },
      "execution_count": null,
      "outputs": []
    },
    {
      "cell_type": "markdown",
      "source": [
        "### 参考\n",
        "\n",
        "上の例では警告メッセージが表示されるが特に問題はない。\n",
        "以下のようにプログラムすることで警告メッセージが出力されなくなる。"
      ],
      "metadata": {
        "id": "DklgVS-ipBpz"
      }
    },
    {
      "cell_type": "code",
      "source": [
        "# モデルを学習\n",
        "model.fit(X_train_scaled, y_train.values.ravel()  )"
      ],
      "metadata": {
        "id": "GnWR8vi4o9hx"
      },
      "execution_count": null,
      "outputs": []
    },
    {
      "cell_type": "markdown",
      "source": [
        "### ロジスティック関数\n",
        "\n",
        "ロジスティック回帰では、\n",
        "**ロジスティック関数**を用いて目的変数の値を近似する。\n",
        "\n",
        "**ロジスティック関数**とは、以下の関数である。\n",
        "$$ y = \\frac{1}{1+ e^{-z}} $$\n",
        "\n",
        "ただし、\n",
        "$$ z = a_1 x_1 + a_2 x_2\\cdots + a_{30} x_{30} $$\n",
        "である。\n",
        "\n",
        "上の $z$ の右辺は重回帰分析で求められた数式と同じ形で、\n",
        "$x_1, x_2, \\ldots, x_{30}$ が30個の変数に対応し、\n",
        "$a_1, a_2, \\ldots, a_{30}$ が回帰係数である。\n"
      ],
      "metadata": {
        "id": "lQNmZWkxiJbt"
      }
    },
    {
      "cell_type": "markdown",
      "source": [
        "$z$ を横軸、$y$ を縦軸にとり、ロジスティック関数を可視化した。"
      ],
      "metadata": {
        "id": "e3a0G0CJOTe2"
      }
    },
    {
      "cell_type": "code",
      "source": [
        "#@title ロジスティック関数の可視化\n",
        "import numpy as np\n",
        "import matplotlib.pyplot as plt\n",
        "\n",
        "def logistic_function(z):\n",
        "  return 1 / (1 + np.exp(-z))\n",
        "\n",
        "# zの値を-7から7まで生成\n",
        "z = np.linspace(-7, 7, 100)\n",
        "\n",
        "# ロジスティック関数の値を計算\n",
        "y = logistic_function(z)\n",
        "\n",
        "# プロット\n",
        "plt.plot(z, y)\n",
        "plt.xlabel('z')\n",
        "plt.ylabel('y')\n",
        "plt.title('ロジスティック関数')\n",
        "plt.grid(True)\n",
        "plt.show()"
      ],
      "metadata": {
        "cellView": "form",
        "id": "4Gkbk4yvNRbm"
      },
      "execution_count": null,
      "outputs": []
    },
    {
      "cell_type": "markdown",
      "source": [
        "この図からも分かるように、ロジスティック関数は $z$ を大きくすると  1 、\n",
        "小さくすると 0 になる関数である。\n",
        "すなわち、\n",
        "目的変数が 1 のデータでは z をできるだけ大きく、\n",
        "目的変数が 0 のデータでは z をできるだけ小さくするように\n",
        "回帰係数が計算される。"
      ],
      "metadata": {
        "id": "JBrYO0UCP3ea"
      }
    },
    {
      "cell_type": "markdown",
      "source": [
        "### 回帰係数\n",
        "\n",
        "線形回帰と同様、回帰係数が model.coef_ により得られる。"
      ],
      "metadata": {
        "id": "CAJ8EjxMxbRV"
      }
    },
    {
      "cell_type": "code",
      "source": [
        "model.coef_"
      ],
      "metadata": {
        "id": "InP_KRws0b1Q"
      },
      "execution_count": null,
      "outputs": []
    },
    {
      "cell_type": "markdown",
      "source": [
        "説明変数が30項目あるので、それぞれに対応する回帰係数が得られる。"
      ],
      "metadata": {
        "id": "4qznptRU4JJv"
      }
    },
    {
      "cell_type": "code",
      "source": [
        "sns.barplot(x=model.coef_[0], y=X.columns)"
      ],
      "metadata": {
        "id": "bwLUMPqbXVzL"
      },
      "execution_count": null,
      "outputs": []
    },
    {
      "cell_type": "markdown",
      "source": [
        "回帰係数には正のものと負のものが計算されていることが分かる。\n",
        "\n",
        "\n",
        "回帰係数は、\n",
        "\n",
        "* 正であれば、その項目の値が大きくなれば 1 （このデータの場合では良性）になりやすい、\n",
        "\n",
        " 逆に\n",
        "\n",
        "* 負であれば、項目の値が大きくなれば 0 （このデータの場合では悪性）になりやすい、\n",
        "\n",
        "と解釈ができる。"
      ],
      "metadata": {
        "id": "FVONDtRqC1_V"
      }
    },
    {
      "cell_type": "markdown",
      "source": [
        "## 推論\n",
        "\n",
        "構築したモデルで推論を行うためには、以下のように predict 関数を用いる\n",
        "\n",
        "```\n",
        "model.predict(説明変数)\n",
        "```"
      ],
      "metadata": {
        "id": "nPabeafrKr5e"
      }
    },
    {
      "cell_type": "markdown",
      "source": [
        "predict 関数の内部では z の値が計算され、\n",
        "0 より大きければ予測結果として 1 が、\n",
        "そうでなければ 0 が出力される。\n",
        "\n",
        "評価用として分割したデータに対して予測を行うためには、以下のようにすればよい。"
      ],
      "metadata": {
        "id": "98_6CN9WFl4n"
      }
    },
    {
      "cell_type": "code",
      "source": [
        "# 評価データで予測\n",
        "y_pred = model.predict(X_val_scaled)"
      ],
      "metadata": {
        "id": "g8rgdZcRFRih"
      },
      "execution_count": null,
      "outputs": []
    },
    {
      "cell_type": "markdown",
      "source": [
        "学習と同様、説明変数には標準化したものを(X_val_scaled)用いることに注意が必要である。"
      ],
      "metadata": {
        "id": "3A9XhWXJFTVZ"
      }
    },
    {
      "cell_type": "code",
      "source": [
        "y_pred"
      ],
      "metadata": {
        "id": "uTwKNCU5L2Ka"
      },
      "execution_count": null,
      "outputs": []
    },
    {
      "cell_type": "markdown",
      "source": [
        "## 精度の評価\n",
        "\n",
        "評価用のデータセットを用いて精度の評価を行う。\n"
      ],
      "metadata": {
        "id": "y-Mw7ikFGa6M"
      }
    },
    {
      "cell_type": "code",
      "source": [
        "#@title 予測と実際の診断結果との比較\n",
        "compare = y_val.copy()\n",
        "compare['Pred'] = y_pred\n",
        "compare"
      ],
      "metadata": {
        "id": "jGs8JmngMKHD",
        "cellView": "form"
      },
      "execution_count": null,
      "outputs": []
    },
    {
      "cell_type": "markdown",
      "source": [
        "diagnosis と Pred を比べ、\n",
        "予測(Pred)がデータ（医師の判断）と一致していれば\n",
        "正しく予測できたことになる。\n",
        "\n",
        "評価基準としては正解率を用いる。\n",
        "\n",
        "正解率は全体に対する正解したデータ数の割合である。"
      ],
      "metadata": {
        "id": "nolg8UVKMDiu"
      }
    },
    {
      "cell_type": "code",
      "source": [
        "from sklearn.metrics import accuracy_score\n",
        "\n",
        "# 評価データで予測\n",
        "y_pred = model.predict(X_val_scaled)\n",
        "\n",
        "# 精度を計算\n",
        "accuracy = accuracy_score(y_val, y_pred)\n",
        "accuracy"
      ],
      "metadata": {
        "id": "m_5Xu_pJGRLG"
      },
      "execution_count": null,
      "outputs": []
    },
    {
      "cell_type": "markdown",
      "source": [
        "### 混同行列を使った予測精度の確認\n",
        "\n",
        "混同行列（confusion matrix）とは、正しく予測できたレコード数や正しく予測できなかったレコード数を集計した、以下のような2行2列の表のことである。\n",
        "\n",
        "\n",
        " 混同行列   | 0 と予測  | 1 と予測\n",
        " -- | --        | --\n",
        " 正解が 0 のデータ |  A   | B\n",
        " 正解が 1 のデータ |  C   | D\n",
        "\n",
        "* A は、0 と予測したレコードの中で正解も 0 であったレコード数\n",
        "* C は、0 と予測したレコードの中で正解は 1 であったレコード数\n",
        "* B は、1 と予測したレコードの中で正解は 0 であったレコード数\n",
        "* D は、1 と予測したレコードの中で正解も 1 であったレコード数\n",
        "\n",
        "A と D の合計が正しく予測できたレコード数となる。"
      ],
      "metadata": {
        "id": "XRnmID-ampLm"
      }
    },
    {
      "cell_type": "markdown",
      "source": [
        "検証用データの場合で、混同行列を作成する。"
      ],
      "metadata": {
        "id": "nX7dK7imHB8x"
      }
    },
    {
      "cell_type": "code",
      "source": [
        "from sklearn.metrics import confusion_matrix\n",
        "confusion_matrix(y_val, y_pred)"
      ],
      "metadata": {
        "id": "acIil2mIsn8i"
      },
      "execution_count": null,
      "outputs": []
    },
    {
      "cell_type": "markdown",
      "source": [
        "したがって、正解率は以下のように計算できる。\n",
        "\n",
        "（45+65）÷（45+2+2+65）= 0.9649..."
      ],
      "metadata": {
        "id": "SQLc_l54LH8J"
      }
    },
    {
      "cell_type": "markdown",
      "source": [
        "\n",
        "\n",
        "---\n",
        "\n",
        "\n",
        "\n",
        "---\n",
        "\n",
        "\n",
        "\n",
        "---\n",
        "\n",
        "\n",
        "\n",
        "---\n",
        "\n"
      ],
      "metadata": {
        "id": "bCh8c-6jReuv"
      }
    },
    {
      "cell_type": "markdown",
      "source": [
        "# 分類手法の復習のための課題\n",
        "\n",
        "次週までの課題として、\n",
        "今回説明したロジスティック回帰を以下のデータに対して実行する。"
      ],
      "metadata": {
        "id": "TKlOXVFpJj7q"
      }
    },
    {
      "cell_type": "markdown",
      "source": [
        "## Titanic データ\n",
        "\n",
        "Titanic データとは、\n",
        "1912年に起きたTitanic号の沈没事故に関するデータで、\n",
        "乗客の属性と事故で生存したのか死亡したのかが記録されているものである。\n",
        "\n",
        "ここで利用するデータは、seaborn パッケージにサンプルとして含まれているものである。\n",
        "データは、以下のように読み込むことができる。"
      ],
      "metadata": {
        "id": "qbgDBNauqSb_"
      }
    },
    {
      "cell_type": "code",
      "source": [
        "# データを読み込む\n",
        "# 変数名を data とした\n",
        "data = sns.load_dataset(\"titanic\") #タイタニックのデータ"
      ],
      "metadata": {
        "id": "j_M6pfGUdT3f"
      },
      "execution_count": null,
      "outputs": []
    },
    {
      "cell_type": "markdown",
      "source": [
        "データの概要を info を使い確認する。"
      ],
      "metadata": {
        "id": "jp1K_DG2qsI8"
      }
    },
    {
      "cell_type": "code",
      "source": [
        "data.info()"
      ],
      "metadata": {
        "id": "uB2Gjl0xqzeg"
      },
      "execution_count": null,
      "outputs": []
    },
    {
      "cell_type": "markdown",
      "source": [
        "レコード数が 891 、項目数が 15 となっている。また、欠損値を含む項目も複数あることが確認できる。"
      ],
      "metadata": {
        "id": "HrBDpQwMq5f8"
      }
    },
    {
      "cell_type": "markdown",
      "source": [
        "##項目の説明\n",
        "\n",
        "このデータの各項目の意味は以下の通りである。\n",
        "\n",
        "列名 | 意味\n",
        "---  | ---\n",
        "survived\t| 生存フラグ（0=死亡、1=生存）\n",
        "pclass\t| チケットクラス（1stクラス、2ndクラス、3rdクラス）\n",
        "sex\t| 性別（male=男性、female＝女性）\n",
        "sge\t| 年齢\n",
        "sibsp\t| タイタニックに同乗している兄弟/配偶者の数\n",
        "parch\t| タイタニックに同乗している親/子供の数\n",
        "fare\t| 料金\n",
        "embarked\t| 出港地（タイタニックへ乗った港）(C=Cherbourg、Q=Queenstown、S=Southampton)\n",
        "class | 乗船クラス\n",
        "who |男性 or 女性\n",
        "adult_male | 成人男性であるかどうか\n",
        "deck | 乗船していたデッキ\n",
        "embark_town | 出港地\n",
        "alive | 生存したかどうか\n",
        "alone | 一人であったかどうか"
      ],
      "metadata": {
        "id": "t7UJupBadfY7"
      }
    },
    {
      "cell_type": "markdown",
      "source": [
        "### 欠損値の確認\n",
        "\n",
        "以下のセルを実行することで、列ごとに欠損値となるレコード数を求める。"
      ],
      "metadata": {
        "id": "ktCtieh3H0-8"
      }
    },
    {
      "cell_type": "code",
      "source": [
        "# 欠損値を確認する\n",
        "data.isnull().sum()"
      ],
      "metadata": {
        "id": "3mFcWAqQd0qe"
      },
      "execution_count": null,
      "outputs": []
    },
    {
      "cell_type": "markdown",
      "source": [
        "age, embarked, embark_town, deck に欠損値が含まれている。\n",
        "\n",
        "欠損値に対しては、以下の処理を行う。\n",
        "* 数値柄の項目: 欠損値を平均値で置き換え\n",
        "* カテゴリ型の項目: 欠損値を最頻値で置き換え\n",
        "\n",
        "ただし、deck は欠測値が多いので、この項目は分析には用いないことにする。"
      ],
      "metadata": {
        "id": "zW5P0m0HyuzK"
      }
    },
    {
      "cell_type": "code",
      "source": [
        "# 平均値で欠損値を埋める。\n",
        "data['age'] = data['age'].fillna(data['age'].mean())\n",
        "\n",
        "# 最頻値で欠損値を埋める。\n",
        "data['embarked'] = data['embarked'].fillna(data['embarked'].mode()[0])\n",
        "data['embark_town'] =  data['embark_town'].fillna(data['embark_town'].mode()[0])"
      ],
      "metadata": {
        "id": "_jzkQkrvd8kV"
      },
      "execution_count": null,
      "outputs": []
    },
    {
      "cell_type": "code",
      "source": [
        "# 結果を確認\n",
        "data.isnull().sum()"
      ],
      "metadata": {
        "id": "ZSA0AJf4JLiJ"
      },
      "execution_count": null,
      "outputs": []
    },
    {
      "cell_type": "markdown",
      "source": [
        "## 生存する乗客の分類\n",
        "\n",
        "データクレンジングを行ったデータを使い\n",
        "乗客の生存、すなわち\n",
        "項目 'survived' が 0 となるか 1 となるかを予測する分類モデルを構築してみる。"
      ],
      "metadata": {
        "id": "3xNykDhQftTi"
      }
    },
    {
      "cell_type": "markdown",
      "source": [
        "### 数値型の項目のみによるモデル構築\n",
        "\n",
        "まず、数値型の項目である以下の4項目\n",
        "\n",
        " 'age', 'fare', 'sibsp', 'parch'\n",
        "\n",
        "を説明変数、'survived' を目的変数としたロジスティック回帰モデルを構築する。\n",
        "すなわち、以下のように変数 X と y を設定する。\n",
        "\n",
        "\n"
      ],
      "metadata": {
        "id": "h3_peBU6uA-W"
      }
    },
    {
      "cell_type": "code",
      "source": [
        "# 説明変数と目的変数を選択\n",
        "# 数値データのみで予測\n",
        "X = data[[ 'age', 'fare', 'sibsp', 'parch']]\n",
        "y = data['survived']"
      ],
      "metadata": {
        "id": "ulgIt8EvebAA"
      },
      "execution_count": null,
      "outputs": []
    },
    {
      "cell_type": "markdown",
      "source": [
        "なお、以下のようにデータを分割した上で、\n",
        "学習用データでモデルを作成し検証用データで精度を評価する。\n",
        "また、得られたモデルの回帰係数も確認してみる。"
      ],
      "metadata": {
        "id": "ItiwywUAwXhs"
      }
    },
    {
      "cell_type": "code",
      "source": [
        "# データを学習用と検証用に分割\n",
        "X_train, X_val, y_train, y_val = train_test_split(X, y, test_size=0.2, random_state=42)"
      ],
      "metadata": {
        "id": "zHPvWdObwp46"
      },
      "execution_count": null,
      "outputs": []
    },
    {
      "cell_type": "markdown",
      "source": [
        "### カテゴリ型の項目も含めたモデル構築\n",
        "\n",
        "さらに、カテゴリ変数として、\n",
        "'embarked', 'class', 'who', 'adult_male', 'alone'\n",
        "を追加した場合でモデルを作り、精度を評価してみる。\n"
      ],
      "metadata": {
        "id": "dgh-W1z6xEkI"
      }
    },
    {
      "cell_type": "code",
      "source": [
        "# カテゴリ変数をOne Hot Encoding\n",
        "data_encoded = pd.get_dummies(data[['embarked', 'class', 'who', 'adult_male', 'alone']], drop_first=True)\n",
        "\n",
        "# 説明変数と目的変数を設定\n",
        "X = pd.concat([data[['age', 'fare', 'sibsp', 'parch']], data_encoded], axis=1)\n",
        "y = data['survived']"
      ],
      "metadata": {
        "id": "OzUk33bJn2j1"
      },
      "execution_count": null,
      "outputs": []
    },
    {
      "cell_type": "markdown",
      "source": [
        "---\n",
        "---\n",
        "---\n"
      ],
      "metadata": {
        "id": "eb2GYJAz5z_Q"
      }
    },
    {
      "cell_type": "markdown",
      "source": [
        "# 発展的な課題\n",
        "\n",
        "インターネット上には分類問題の学習に適したデータが\n",
        "数多く提供されています。\n",
        "例えば、以下のサイトにあるデータを使い、\n",
        "各自で分類を行うモデルを作成してみよ。\n",
        "\n",
        "https://www.kaggle.com/datasets/jsphyg/weather-dataset-rattle-package\n",
        "\n",
        "https://www.kaggle.com/datasets/yeanzc/telco-customer-churn-ibm-dataset"
      ],
      "metadata": {
        "id": "XZNhEBfLmwHZ"
      }
    }
  ]
}