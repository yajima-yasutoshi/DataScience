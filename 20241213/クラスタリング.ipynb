{
  "nbformat": 4,
  "nbformat_minor": 0,
  "metadata": {
    "colab": {
      "provenance": [],
      "collapsed_sections": [
        "JLCPTCMNJNLm"
      ],
      "include_colab_link": true
    },
    "kernelspec": {
      "name": "python3",
      "display_name": "Python 3"
    },
    "language_info": {
      "name": "python"
    }
  },
  "cells": [
    {
      "cell_type": "markdown",
      "metadata": {
        "id": "view-in-github",
        "colab_type": "text"
      },
      "source": [
        "<a href=\"https://colab.research.google.com/github/yajima-yasutoshi/DataScience/blob/main/20241213/%E3%82%AF%E3%83%A9%E3%82%B9%E3%82%BF%E3%83%AA%E3%83%B3%E3%82%B0.ipynb\" target=\"_parent\"><img src=\"https://colab.research.google.com/assets/colab-badge.svg\" alt=\"Open In Colab\"/></a>"
      ]
    },
    {
      "cell_type": "markdown",
      "source": [
        "# クラスタリング"
      ],
      "metadata": {
        "id": "JLCPTCMNJNLm"
      }
    },
    {
      "cell_type": "markdown",
      "source": [
        "20241213\n",
        "\n",
        "https://github.com/yajima-yasutoshi/DataMining2024/tree/main/20241112\n",
        "\n"
      ],
      "metadata": {
        "id": "7UTs4pi_JRy_"
      }
    },
    {
      "cell_type": "markdown",
      "source": [
        "# この講義の目的\n",
        "\n",
        "Pythonを用いたクラスタリング手法の理解"
      ],
      "metadata": {
        "id": "wUezl4MyB_v3"
      }
    },
    {
      "cell_type": "markdown",
      "source": [
        "# 環境の準備\n",
        "\n",
        "まず初めに、日本語を表示するための準備と\n",
        "分析に必要なライブラリーのインポートを行うため、\n",
        "以下のセルを実行する。"
      ],
      "metadata": {
        "id": "8zFBC9q961jw"
      }
    },
    {
      "cell_type": "code",
      "source": [
        "# インストール\n",
        "!pip install japanize-matplotlib\n",
        "\n",
        "# 必要なライブラリのインポート\n",
        "import pandas as pd\n",
        "import numpy as np\n",
        "import matplotlib.pyplot as plt\n",
        "import japanize_matplotlib\n",
        "import seaborn as sns\n",
        "\n",
        "# Pandasの表示形式を小数点以下1桁にする\n",
        "pd.options.display.float_format = '{:.1f}'.format"
      ],
      "metadata": {
        "id": "g9TNYrU66eru",
        "colab": {
          "base_uri": "https://localhost:8080/"
        },
        "outputId": "2c34f8cf-9136-480d-b9c0-b5dd7fac5d4c"
      },
      "execution_count": null,
      "outputs": [
        {
          "output_type": "stream",
          "name": "stdout",
          "text": [
            "Collecting japanize-matplotlib\n",
            "  Downloading japanize-matplotlib-1.1.3.tar.gz (4.1 MB)\n",
            "\u001b[2K     \u001b[90m━━━━━━━━━━━━━━━━━━━━━━━━━━━━━━━━━━━━━━━━\u001b[0m \u001b[32m4.1/4.1 MB\u001b[0m \u001b[31m20.4 MB/s\u001b[0m eta \u001b[36m0:00:00\u001b[0m\n",
            "\u001b[?25h  Preparing metadata (setup.py) ... \u001b[?25l\u001b[?25hdone\n",
            "Requirement already satisfied: matplotlib in /usr/local/lib/python3.10/dist-packages (from japanize-matplotlib) (3.8.0)\n",
            "Requirement already satisfied: contourpy>=1.0.1 in /usr/local/lib/python3.10/dist-packages (from matplotlib->japanize-matplotlib) (1.3.1)\n",
            "Requirement already satisfied: cycler>=0.10 in /usr/local/lib/python3.10/dist-packages (from matplotlib->japanize-matplotlib) (0.12.1)\n",
            "Requirement already satisfied: fonttools>=4.22.0 in /usr/local/lib/python3.10/dist-packages (from matplotlib->japanize-matplotlib) (4.54.1)\n",
            "Requirement already satisfied: kiwisolver>=1.0.1 in /usr/local/lib/python3.10/dist-packages (from matplotlib->japanize-matplotlib) (1.4.7)\n",
            "Requirement already satisfied: numpy<2,>=1.21 in /usr/local/lib/python3.10/dist-packages (from matplotlib->japanize-matplotlib) (1.26.4)\n",
            "Requirement already satisfied: packaging>=20.0 in /usr/local/lib/python3.10/dist-packages (from matplotlib->japanize-matplotlib) (24.2)\n",
            "Requirement already satisfied: pillow>=6.2.0 in /usr/local/lib/python3.10/dist-packages (from matplotlib->japanize-matplotlib) (11.0.0)\n",
            "Requirement already satisfied: pyparsing>=2.3.1 in /usr/local/lib/python3.10/dist-packages (from matplotlib->japanize-matplotlib) (3.2.0)\n",
            "Requirement already satisfied: python-dateutil>=2.7 in /usr/local/lib/python3.10/dist-packages (from matplotlib->japanize-matplotlib) (2.8.2)\n",
            "Requirement already satisfied: six>=1.5 in /usr/local/lib/python3.10/dist-packages (from python-dateutil>=2.7->matplotlib->japanize-matplotlib) (1.16.0)\n",
            "Building wheels for collected packages: japanize-matplotlib\n",
            "  Building wheel for japanize-matplotlib (setup.py) ... \u001b[?25l\u001b[?25hdone\n",
            "  Created wheel for japanize-matplotlib: filename=japanize_matplotlib-1.1.3-py3-none-any.whl size=4120257 sha256=f1422ffedfd3d8cc29969204980c2c9ac1fa5a3b41e99bf1a95ddeaa755027da\n",
            "  Stored in directory: /root/.cache/pip/wheels/61/7a/6b/df1f79be9c59862525070e157e62b08eab8ece27c1b68fbb94\n",
            "Successfully built japanize-matplotlib\n",
            "Installing collected packages: japanize-matplotlib\n",
            "Successfully installed japanize-matplotlib-1.1.3\n"
          ]
        }
      ]
    },
    {
      "cell_type": "markdown",
      "source": [
        "# データの準備\n",
        "今回利用するデータを準備する。\n",
        "本日の講義資料が置かれたサイトから\n",
        "「利用回数.xlsx」というファイルをいったん各自のPCダウンロードし、\n",
        "そのファイルをGoogle Drive にアップロードをする。\n",
        "\n",
        "アップロードができたら、\n",
        "Google Colab の環境に Google Drive がマウントされていることと、\n",
        "さらに、\n",
        "このファイルが保存されていることを\n",
        "Google Colab の環境から確認する。\n"
      ],
      "metadata": {
        "id": "6DL-YSEBBJ2h"
      }
    },
    {
      "cell_type": "markdown",
      "source": [
        "以下のセルでは、Google Drive のマウント実行する。\n"
      ],
      "metadata": {
        "id": "I6rpANB-QE62"
      }
    },
    {
      "cell_type": "code",
      "source": [
        "# Google Drive のマウント\n",
        "from google.colab import drive\n",
        "drive.mount('/content/drive')"
      ],
      "metadata": {
        "id": "zGDyK0aGQhUQ",
        "colab": {
          "base_uri": "https://localhost:8080/",
          "height": 343
        },
        "outputId": "92102178-b9dd-4879-b2f1-ce73472fda74"
      },
      "execution_count": null,
      "outputs": [
        {
          "output_type": "error",
          "ename": "MessageError",
          "evalue": "Error: credential propagation was unsuccessful",
          "traceback": [
            "\u001b[0;31m---------------------------------------------------------------------------\u001b[0m",
            "\u001b[0;31mMessageError\u001b[0m                              Traceback (most recent call last)",
            "\u001b[0;32m<ipython-input-2-94f602f7c79c>\u001b[0m in \u001b[0;36m<cell line: 3>\u001b[0;34m()\u001b[0m\n\u001b[1;32m      1\u001b[0m \u001b[0;31m# Google Drive のマウント\u001b[0m\u001b[0;34m\u001b[0m\u001b[0;34m\u001b[0m\u001b[0m\n\u001b[1;32m      2\u001b[0m \u001b[0;32mfrom\u001b[0m \u001b[0mgoogle\u001b[0m\u001b[0;34m.\u001b[0m\u001b[0mcolab\u001b[0m \u001b[0;32mimport\u001b[0m \u001b[0mdrive\u001b[0m\u001b[0;34m\u001b[0m\u001b[0;34m\u001b[0m\u001b[0m\n\u001b[0;32m----> 3\u001b[0;31m \u001b[0mdrive\u001b[0m\u001b[0;34m.\u001b[0m\u001b[0mmount\u001b[0m\u001b[0;34m(\u001b[0m\u001b[0;34m'/content/drive'\u001b[0m\u001b[0;34m)\u001b[0m\u001b[0;34m\u001b[0m\u001b[0;34m\u001b[0m\u001b[0m\n\u001b[0m",
            "\u001b[0;32m/usr/local/lib/python3.10/dist-packages/google/colab/drive.py\u001b[0m in \u001b[0;36mmount\u001b[0;34m(mountpoint, force_remount, timeout_ms, readonly)\u001b[0m\n\u001b[1;32m     98\u001b[0m \u001b[0;32mdef\u001b[0m \u001b[0mmount\u001b[0m\u001b[0;34m(\u001b[0m\u001b[0mmountpoint\u001b[0m\u001b[0;34m,\u001b[0m \u001b[0mforce_remount\u001b[0m\u001b[0;34m=\u001b[0m\u001b[0;32mFalse\u001b[0m\u001b[0;34m,\u001b[0m \u001b[0mtimeout_ms\u001b[0m\u001b[0;34m=\u001b[0m\u001b[0;36m120000\u001b[0m\u001b[0;34m,\u001b[0m \u001b[0mreadonly\u001b[0m\u001b[0;34m=\u001b[0m\u001b[0;32mFalse\u001b[0m\u001b[0;34m)\u001b[0m\u001b[0;34m:\u001b[0m\u001b[0;34m\u001b[0m\u001b[0;34m\u001b[0m\u001b[0m\n\u001b[1;32m     99\u001b[0m   \u001b[0;34m\"\"\"Mount your Google Drive at the specified mountpoint path.\"\"\"\u001b[0m\u001b[0;34m\u001b[0m\u001b[0;34m\u001b[0m\u001b[0m\n\u001b[0;32m--> 100\u001b[0;31m   return _mount(\n\u001b[0m\u001b[1;32m    101\u001b[0m       \u001b[0mmountpoint\u001b[0m\u001b[0;34m,\u001b[0m\u001b[0;34m\u001b[0m\u001b[0;34m\u001b[0m\u001b[0m\n\u001b[1;32m    102\u001b[0m       \u001b[0mforce_remount\u001b[0m\u001b[0;34m=\u001b[0m\u001b[0mforce_remount\u001b[0m\u001b[0;34m,\u001b[0m\u001b[0;34m\u001b[0m\u001b[0;34m\u001b[0m\u001b[0m\n",
            "\u001b[0;32m/usr/local/lib/python3.10/dist-packages/google/colab/drive.py\u001b[0m in \u001b[0;36m_mount\u001b[0;34m(mountpoint, force_remount, timeout_ms, ephemeral, readonly)\u001b[0m\n\u001b[1;32m    135\u001b[0m   )\n\u001b[1;32m    136\u001b[0m   \u001b[0;32mif\u001b[0m \u001b[0mephemeral\u001b[0m\u001b[0;34m:\u001b[0m\u001b[0;34m\u001b[0m\u001b[0;34m\u001b[0m\u001b[0m\n\u001b[0;32m--> 137\u001b[0;31m     _message.blocking_request(\n\u001b[0m\u001b[1;32m    138\u001b[0m         \u001b[0;34m'request_auth'\u001b[0m\u001b[0;34m,\u001b[0m\u001b[0;34m\u001b[0m\u001b[0;34m\u001b[0m\u001b[0m\n\u001b[1;32m    139\u001b[0m         \u001b[0mrequest\u001b[0m\u001b[0;34m=\u001b[0m\u001b[0;34m{\u001b[0m\u001b[0;34m'authType'\u001b[0m\u001b[0;34m:\u001b[0m \u001b[0;34m'dfs_ephemeral'\u001b[0m\u001b[0;34m}\u001b[0m\u001b[0;34m,\u001b[0m\u001b[0;34m\u001b[0m\u001b[0;34m\u001b[0m\u001b[0m\n",
            "\u001b[0;32m/usr/local/lib/python3.10/dist-packages/google/colab/_message.py\u001b[0m in \u001b[0;36mblocking_request\u001b[0;34m(request_type, request, timeout_sec, parent)\u001b[0m\n\u001b[1;32m    174\u001b[0m       \u001b[0mrequest_type\u001b[0m\u001b[0;34m,\u001b[0m \u001b[0mrequest\u001b[0m\u001b[0;34m,\u001b[0m \u001b[0mparent\u001b[0m\u001b[0;34m=\u001b[0m\u001b[0mparent\u001b[0m\u001b[0;34m,\u001b[0m \u001b[0mexpect_reply\u001b[0m\u001b[0;34m=\u001b[0m\u001b[0;32mTrue\u001b[0m\u001b[0;34m\u001b[0m\u001b[0;34m\u001b[0m\u001b[0m\n\u001b[1;32m    175\u001b[0m   )\n\u001b[0;32m--> 176\u001b[0;31m   \u001b[0;32mreturn\u001b[0m \u001b[0mread_reply_from_input\u001b[0m\u001b[0;34m(\u001b[0m\u001b[0mrequest_id\u001b[0m\u001b[0;34m,\u001b[0m \u001b[0mtimeout_sec\u001b[0m\u001b[0;34m)\u001b[0m\u001b[0;34m\u001b[0m\u001b[0;34m\u001b[0m\u001b[0m\n\u001b[0m",
            "\u001b[0;32m/usr/local/lib/python3.10/dist-packages/google/colab/_message.py\u001b[0m in \u001b[0;36mread_reply_from_input\u001b[0;34m(message_id, timeout_sec)\u001b[0m\n\u001b[1;32m    101\u001b[0m     ):\n\u001b[1;32m    102\u001b[0m       \u001b[0;32mif\u001b[0m \u001b[0;34m'error'\u001b[0m \u001b[0;32min\u001b[0m \u001b[0mreply\u001b[0m\u001b[0;34m:\u001b[0m\u001b[0;34m\u001b[0m\u001b[0;34m\u001b[0m\u001b[0m\n\u001b[0;32m--> 103\u001b[0;31m         \u001b[0;32mraise\u001b[0m \u001b[0mMessageError\u001b[0m\u001b[0;34m(\u001b[0m\u001b[0mreply\u001b[0m\u001b[0;34m[\u001b[0m\u001b[0;34m'error'\u001b[0m\u001b[0;34m]\u001b[0m\u001b[0;34m)\u001b[0m\u001b[0;34m\u001b[0m\u001b[0;34m\u001b[0m\u001b[0m\n\u001b[0m\u001b[1;32m    104\u001b[0m       \u001b[0;32mreturn\u001b[0m \u001b[0mreply\u001b[0m\u001b[0;34m.\u001b[0m\u001b[0mget\u001b[0m\u001b[0;34m(\u001b[0m\u001b[0;34m'data'\u001b[0m\u001b[0;34m,\u001b[0m \u001b[0;32mNone\u001b[0m\u001b[0;34m)\u001b[0m\u001b[0;34m\u001b[0m\u001b[0;34m\u001b[0m\u001b[0m\n\u001b[1;32m    105\u001b[0m \u001b[0;34m\u001b[0m\u001b[0m\n",
            "\u001b[0;31mMessageError\u001b[0m: Error: credential propagation was unsuccessful"
          ]
        }
      ]
    },
    {
      "cell_type": "code",
      "source": [
        "from google.colab import drive\n",
        "drive.mount('/content/drive')"
      ],
      "metadata": {
        "id": "O-_EFzANvsxN",
        "colab": {
          "base_uri": "https://localhost:8080/"
        },
        "outputId": "b3f7ca1c-2b22-40dd-dec6-0a77863f7e98"
      },
      "execution_count": null,
      "outputs": [
        {
          "output_type": "stream",
          "name": "stdout",
          "text": [
            "Mounted at /content/drive\n"
          ]
        }
      ]
    },
    {
      "cell_type": "markdown",
      "source": [
        "保存したファイルをデータフレーム変数 df に読み込む。 なお、ファイルパスは、個人の環境に合わせて変更が必要である。"
      ],
      "metadata": {
        "id": "27Ko8BApP6hy"
      }
    },
    {
      "cell_type": "code",
      "source": [
        "# 読み込むファイルを指定する\n",
        "file_path = '/content/drive/MyDrive/データマイニング/利用回数.xlsx'\n",
        "df = pd.read_excel(file_path)"
      ],
      "metadata": {
        "id": "E650gU8OiZPS"
      },
      "execution_count": null,
      "outputs": []
    },
    {
      "cell_type": "markdown",
      "source": [
        "## データの確認"
      ],
      "metadata": {
        "id": "4eHEsIBakA6P"
      }
    },
    {
      "cell_type": "markdown",
      "source": [
        "info()\n",
        "を用いて、データの列に関する情報を出力します。"
      ],
      "metadata": {
        "id": "S48Es7YEqB2w"
      }
    },
    {
      "cell_type": "code",
      "source": [
        "df.info()"
      ],
      "metadata": {
        "id": "RUubs_1jBgqQ"
      },
      "execution_count": null,
      "outputs": []
    },
    {
      "cell_type": "markdown",
      "source": [
        "「利用回数.xlsx」には、顧客ID、年齢、利用回数\n",
        "という数値型の項目が 3 つあることが確認できます。\n",
        "\n",
        "また、head() を使ってデータの先頭を表示します。"
      ],
      "metadata": {
        "id": "XzSDdEWli606"
      }
    },
    {
      "cell_type": "code",
      "source": [
        "df.head()"
      ],
      "metadata": {
        "id": "S6ROb70wityo"
      },
      "execution_count": null,
      "outputs": []
    },
    {
      "cell_type": "code",
      "source": [
        "df.describe()"
      ],
      "metadata": {
        "colab": {
          "base_uri": "https://localhost:8080/",
          "height": 300
        },
        "id": "YxrPK_x1wgNp",
        "outputId": "02caf065-acf2-4251-8af1-d0be57dcd7cb"
      },
      "execution_count": null,
      "outputs": [
        {
          "output_type": "execute_result",
          "data": {
            "text/plain": [
              "          顧客ID   年齢  利用回数\n",
              "count     90.0 90.0  90.0\n",
              "mean  534692.7 34.5  13.1\n",
              "std   252827.4  8.1   2.8\n",
              "min   105840.0 20.0   7.0\n",
              "25%   312516.2 28.0  10.0\n",
              "50%   516650.5 32.5  14.0\n",
              "75%   703758.0 41.0  15.0\n",
              "max   988571.0 51.0  17.0"
            ],
            "text/html": [
              "\n",
              "  <div id=\"df-2e6f643a-0883-4ecd-a084-584df0b2a882\" class=\"colab-df-container\">\n",
              "    <div>\n",
              "<style scoped>\n",
              "    .dataframe tbody tr th:only-of-type {\n",
              "        vertical-align: middle;\n",
              "    }\n",
              "\n",
              "    .dataframe tbody tr th {\n",
              "        vertical-align: top;\n",
              "    }\n",
              "\n",
              "    .dataframe thead th {\n",
              "        text-align: right;\n",
              "    }\n",
              "</style>\n",
              "<table border=\"1\" class=\"dataframe\">\n",
              "  <thead>\n",
              "    <tr style=\"text-align: right;\">\n",
              "      <th></th>\n",
              "      <th>顧客ID</th>\n",
              "      <th>年齢</th>\n",
              "      <th>利用回数</th>\n",
              "    </tr>\n",
              "  </thead>\n",
              "  <tbody>\n",
              "    <tr>\n",
              "      <th>count</th>\n",
              "      <td>90.0</td>\n",
              "      <td>90.0</td>\n",
              "      <td>90.0</td>\n",
              "    </tr>\n",
              "    <tr>\n",
              "      <th>mean</th>\n",
              "      <td>534692.7</td>\n",
              "      <td>34.5</td>\n",
              "      <td>13.1</td>\n",
              "    </tr>\n",
              "    <tr>\n",
              "      <th>std</th>\n",
              "      <td>252827.4</td>\n",
              "      <td>8.1</td>\n",
              "      <td>2.8</td>\n",
              "    </tr>\n",
              "    <tr>\n",
              "      <th>min</th>\n",
              "      <td>105840.0</td>\n",
              "      <td>20.0</td>\n",
              "      <td>7.0</td>\n",
              "    </tr>\n",
              "    <tr>\n",
              "      <th>25%</th>\n",
              "      <td>312516.2</td>\n",
              "      <td>28.0</td>\n",
              "      <td>10.0</td>\n",
              "    </tr>\n",
              "    <tr>\n",
              "      <th>50%</th>\n",
              "      <td>516650.5</td>\n",
              "      <td>32.5</td>\n",
              "      <td>14.0</td>\n",
              "    </tr>\n",
              "    <tr>\n",
              "      <th>75%</th>\n",
              "      <td>703758.0</td>\n",
              "      <td>41.0</td>\n",
              "      <td>15.0</td>\n",
              "    </tr>\n",
              "    <tr>\n",
              "      <th>max</th>\n",
              "      <td>988571.0</td>\n",
              "      <td>51.0</td>\n",
              "      <td>17.0</td>\n",
              "    </tr>\n",
              "  </tbody>\n",
              "</table>\n",
              "</div>\n",
              "    <div class=\"colab-df-buttons\">\n",
              "\n",
              "  <div class=\"colab-df-container\">\n",
              "    <button class=\"colab-df-convert\" onclick=\"convertToInteractive('df-2e6f643a-0883-4ecd-a084-584df0b2a882')\"\n",
              "            title=\"Convert this dataframe to an interactive table.\"\n",
              "            style=\"display:none;\">\n",
              "\n",
              "  <svg xmlns=\"http://www.w3.org/2000/svg\" height=\"24px\" viewBox=\"0 -960 960 960\">\n",
              "    <path d=\"M120-120v-720h720v720H120Zm60-500h600v-160H180v160Zm220 220h160v-160H400v160Zm0 220h160v-160H400v160ZM180-400h160v-160H180v160Zm440 0h160v-160H620v160ZM180-180h160v-160H180v160Zm440 0h160v-160H620v160Z\"/>\n",
              "  </svg>\n",
              "    </button>\n",
              "\n",
              "  <style>\n",
              "    .colab-df-container {\n",
              "      display:flex;\n",
              "      gap: 12px;\n",
              "    }\n",
              "\n",
              "    .colab-df-convert {\n",
              "      background-color: #E8F0FE;\n",
              "      border: none;\n",
              "      border-radius: 50%;\n",
              "      cursor: pointer;\n",
              "      display: none;\n",
              "      fill: #1967D2;\n",
              "      height: 32px;\n",
              "      padding: 0 0 0 0;\n",
              "      width: 32px;\n",
              "    }\n",
              "\n",
              "    .colab-df-convert:hover {\n",
              "      background-color: #E2EBFA;\n",
              "      box-shadow: 0px 1px 2px rgba(60, 64, 67, 0.3), 0px 1px 3px 1px rgba(60, 64, 67, 0.15);\n",
              "      fill: #174EA6;\n",
              "    }\n",
              "\n",
              "    .colab-df-buttons div {\n",
              "      margin-bottom: 4px;\n",
              "    }\n",
              "\n",
              "    [theme=dark] .colab-df-convert {\n",
              "      background-color: #3B4455;\n",
              "      fill: #D2E3FC;\n",
              "    }\n",
              "\n",
              "    [theme=dark] .colab-df-convert:hover {\n",
              "      background-color: #434B5C;\n",
              "      box-shadow: 0px 1px 3px 1px rgba(0, 0, 0, 0.15);\n",
              "      filter: drop-shadow(0px 1px 2px rgba(0, 0, 0, 0.3));\n",
              "      fill: #FFFFFF;\n",
              "    }\n",
              "  </style>\n",
              "\n",
              "    <script>\n",
              "      const buttonEl =\n",
              "        document.querySelector('#df-2e6f643a-0883-4ecd-a084-584df0b2a882 button.colab-df-convert');\n",
              "      buttonEl.style.display =\n",
              "        google.colab.kernel.accessAllowed ? 'block' : 'none';\n",
              "\n",
              "      async function convertToInteractive(key) {\n",
              "        const element = document.querySelector('#df-2e6f643a-0883-4ecd-a084-584df0b2a882');\n",
              "        const dataTable =\n",
              "          await google.colab.kernel.invokeFunction('convertToInteractive',\n",
              "                                                    [key], {});\n",
              "        if (!dataTable) return;\n",
              "\n",
              "        const docLinkHtml = 'Like what you see? Visit the ' +\n",
              "          '<a target=\"_blank\" href=https://colab.research.google.com/notebooks/data_table.ipynb>data table notebook</a>'\n",
              "          + ' to learn more about interactive tables.';\n",
              "        element.innerHTML = '';\n",
              "        dataTable['output_type'] = 'display_data';\n",
              "        await google.colab.output.renderOutput(dataTable, element);\n",
              "        const docLink = document.createElement('div');\n",
              "        docLink.innerHTML = docLinkHtml;\n",
              "        element.appendChild(docLink);\n",
              "      }\n",
              "    </script>\n",
              "  </div>\n",
              "\n",
              "\n",
              "<div id=\"df-05e9e928-d05f-491f-a44f-cc3d1fc35474\">\n",
              "  <button class=\"colab-df-quickchart\" onclick=\"quickchart('df-05e9e928-d05f-491f-a44f-cc3d1fc35474')\"\n",
              "            title=\"Suggest charts\"\n",
              "            style=\"display:none;\">\n",
              "\n",
              "<svg xmlns=\"http://www.w3.org/2000/svg\" height=\"24px\"viewBox=\"0 0 24 24\"\n",
              "     width=\"24px\">\n",
              "    <g>\n",
              "        <path d=\"M19 3H5c-1.1 0-2 .9-2 2v14c0 1.1.9 2 2 2h14c1.1 0 2-.9 2-2V5c0-1.1-.9-2-2-2zM9 17H7v-7h2v7zm4 0h-2V7h2v10zm4 0h-2v-4h2v4z\"/>\n",
              "    </g>\n",
              "</svg>\n",
              "  </button>\n",
              "\n",
              "<style>\n",
              "  .colab-df-quickchart {\n",
              "      --bg-color: #E8F0FE;\n",
              "      --fill-color: #1967D2;\n",
              "      --hover-bg-color: #E2EBFA;\n",
              "      --hover-fill-color: #174EA6;\n",
              "      --disabled-fill-color: #AAA;\n",
              "      --disabled-bg-color: #DDD;\n",
              "  }\n",
              "\n",
              "  [theme=dark] .colab-df-quickchart {\n",
              "      --bg-color: #3B4455;\n",
              "      --fill-color: #D2E3FC;\n",
              "      --hover-bg-color: #434B5C;\n",
              "      --hover-fill-color: #FFFFFF;\n",
              "      --disabled-bg-color: #3B4455;\n",
              "      --disabled-fill-color: #666;\n",
              "  }\n",
              "\n",
              "  .colab-df-quickchart {\n",
              "    background-color: var(--bg-color);\n",
              "    border: none;\n",
              "    border-radius: 50%;\n",
              "    cursor: pointer;\n",
              "    display: none;\n",
              "    fill: var(--fill-color);\n",
              "    height: 32px;\n",
              "    padding: 0;\n",
              "    width: 32px;\n",
              "  }\n",
              "\n",
              "  .colab-df-quickchart:hover {\n",
              "    background-color: var(--hover-bg-color);\n",
              "    box-shadow: 0 1px 2px rgba(60, 64, 67, 0.3), 0 1px 3px 1px rgba(60, 64, 67, 0.15);\n",
              "    fill: var(--button-hover-fill-color);\n",
              "  }\n",
              "\n",
              "  .colab-df-quickchart-complete:disabled,\n",
              "  .colab-df-quickchart-complete:disabled:hover {\n",
              "    background-color: var(--disabled-bg-color);\n",
              "    fill: var(--disabled-fill-color);\n",
              "    box-shadow: none;\n",
              "  }\n",
              "\n",
              "  .colab-df-spinner {\n",
              "    border: 2px solid var(--fill-color);\n",
              "    border-color: transparent;\n",
              "    border-bottom-color: var(--fill-color);\n",
              "    animation:\n",
              "      spin 1s steps(1) infinite;\n",
              "  }\n",
              "\n",
              "  @keyframes spin {\n",
              "    0% {\n",
              "      border-color: transparent;\n",
              "      border-bottom-color: var(--fill-color);\n",
              "      border-left-color: var(--fill-color);\n",
              "    }\n",
              "    20% {\n",
              "      border-color: transparent;\n",
              "      border-left-color: var(--fill-color);\n",
              "      border-top-color: var(--fill-color);\n",
              "    }\n",
              "    30% {\n",
              "      border-color: transparent;\n",
              "      border-left-color: var(--fill-color);\n",
              "      border-top-color: var(--fill-color);\n",
              "      border-right-color: var(--fill-color);\n",
              "    }\n",
              "    40% {\n",
              "      border-color: transparent;\n",
              "      border-right-color: var(--fill-color);\n",
              "      border-top-color: var(--fill-color);\n",
              "    }\n",
              "    60% {\n",
              "      border-color: transparent;\n",
              "      border-right-color: var(--fill-color);\n",
              "    }\n",
              "    80% {\n",
              "      border-color: transparent;\n",
              "      border-right-color: var(--fill-color);\n",
              "      border-bottom-color: var(--fill-color);\n",
              "    }\n",
              "    90% {\n",
              "      border-color: transparent;\n",
              "      border-bottom-color: var(--fill-color);\n",
              "    }\n",
              "  }\n",
              "</style>\n",
              "\n",
              "  <script>\n",
              "    async function quickchart(key) {\n",
              "      const quickchartButtonEl =\n",
              "        document.querySelector('#' + key + ' button');\n",
              "      quickchartButtonEl.disabled = true;  // To prevent multiple clicks.\n",
              "      quickchartButtonEl.classList.add('colab-df-spinner');\n",
              "      try {\n",
              "        const charts = await google.colab.kernel.invokeFunction(\n",
              "            'suggestCharts', [key], {});\n",
              "      } catch (error) {\n",
              "        console.error('Error during call to suggestCharts:', error);\n",
              "      }\n",
              "      quickchartButtonEl.classList.remove('colab-df-spinner');\n",
              "      quickchartButtonEl.classList.add('colab-df-quickchart-complete');\n",
              "    }\n",
              "    (() => {\n",
              "      let quickchartButtonEl =\n",
              "        document.querySelector('#df-05e9e928-d05f-491f-a44f-cc3d1fc35474 button');\n",
              "      quickchartButtonEl.style.display =\n",
              "        google.colab.kernel.accessAllowed ? 'block' : 'none';\n",
              "    })();\n",
              "  </script>\n",
              "</div>\n",
              "\n",
              "    </div>\n",
              "  </div>\n"
            ],
            "application/vnd.google.colaboratory.intrinsic+json": {
              "type": "dataframe",
              "summary": "{\n  \"name\": \"df\",\n  \"rows\": 8,\n  \"fields\": [\n    {\n      \"column\": \"\\u9867\\u5ba2ID\",\n      \"properties\": {\n        \"dtype\": \"number\",\n        \"std\": 325231.84649563686,\n        \"min\": 90.0,\n        \"max\": 988571.0,\n        \"num_unique_values\": 8,\n        \"samples\": [\n          534692.6777777778,\n          516650.5,\n          90.0\n        ],\n        \"semantic_type\": \"\",\n        \"description\": \"\"\n      }\n    },\n    {\n      \"column\": \"\\u5e74\\u9f62\",\n      \"properties\": {\n        \"dtype\": \"number\",\n        \"std\": 24.609800630323615,\n        \"min\": 8.143654040023772,\n        \"max\": 90.0,\n        \"num_unique_values\": 8,\n        \"samples\": [\n          34.53333333333333,\n          32.5,\n          90.0\n        ],\n        \"semantic_type\": \"\",\n        \"description\": \"\"\n      }\n    },\n    {\n      \"column\": \"\\u5229\\u7528\\u56de\\u6570\",\n      \"properties\": {\n        \"dtype\": \"number\",\n        \"std\": 28.21234937440994,\n        \"min\": 2.8222408996010184,\n        \"max\": 90.0,\n        \"num_unique_values\": 8,\n        \"samples\": [\n          13.11111111111111,\n          14.0,\n          90.0\n        ],\n        \"semantic_type\": \"\",\n        \"description\": \"\"\n      }\n    }\n  ]\n}"
            }
          },
          "metadata": {},
          "execution_count": 7
        }
      ]
    },
    {
      "cell_type": "markdown",
      "source": [
        "# クラスタリングとは"
      ],
      "metadata": {
        "id": "t5gAJm8O5W7-"
      }
    },
    {
      "cell_type": "markdown",
      "source": [
        "## 散布図による可視化\n",
        "\n",
        "年齢と利用回数の間の関係を可視化する。\n",
        "どちらも数値型の項目なので、\n",
        "**散布図**を使う。"
      ],
      "metadata": {
        "id": "CdpfIdUJ5qQw"
      }
    },
    {
      "cell_type": "code",
      "source": [
        "sns.scatterplot(x='年齢', y='利用回数', data=df)\n",
        "plt.grid(True)  # グリッド線を追加\n",
        "plt.title('散布図')\n",
        "plt.show()"
      ],
      "metadata": {
        "id": "lChaM9cHjFp9"
      },
      "execution_count": null,
      "outputs": []
    },
    {
      "cell_type": "markdown",
      "source": [
        "上の散布図から、全体の利用者は\n",
        " * 年齢が高く利用回数の多い利用者\n",
        " * 年齢が低く利用回数の多い利用者\n",
        " * 年齢が低く利用回数の少ない利用者\n",
        "\n",
        "に傾向が分かれていることが観察できる。\n",
        "\n",
        "傾向が似通っているレコード(この例では利用者)を似た性質のグループに分けて、\n",
        "全体をいくつかのまとまりとして理解する手法が\n",
        "**「クラスタリング」**である。\n",
        "\n",
        "スーパーやドラッグストア、コンビニなどの小売店などでは、\n",
        "顧客の属性（性別や年齢など）や\n",
        "購買行動（来店回数や利用回数、購買金額など）のデータを元にして、\n",
        "傾向が似ている顧客をいくつかのグループ（クラスター）に分類し、\n",
        "どのような顧客が良く利用しているのか、\n",
        "どのような商品を購入する顧客がいるのか、\n",
        "など、顧客の行動を理解することで販促や商品開発などを行っている。"
      ],
      "metadata": {
        "id": "v9yixNAB5zzo"
      }
    },
    {
      "cell_type": "markdown",
      "source": [
        "参考事例：\n",
        "https://www.nikkei.com/article/DGXZQOUC132X30T10C22A9000000/"
      ],
      "metadata": {
        "id": "boviUu5wxpyA"
      }
    },
    {
      "cell_type": "markdown",
      "source": [
        "# データを標準化する\n",
        "\n",
        " クラスタリングを実行する事前の準備として、\n",
        " データの**標準化**が必要である。\n",
        " 標準化とは、データの大きさを平均 0、分散 1 に変換することである。\n",
        "なお、分散の平方根が標準偏差となることから、\n",
        "分散が1となれば標準偏差も1になる。"
      ],
      "metadata": {
        "id": "1trcdk5dQ0gU"
      }
    },
    {
      "cell_type": "markdown",
      "source": [
        "アップロードしたデータの分布を確認する。\n",
        "年齢と利用回数の分布は以下のようである。"
      ],
      "metadata": {
        "id": "4U6R0yZGYQHr"
      }
    },
    {
      "cell_type": "code",
      "source": [
        "fig, (ax1, ax2) = plt.subplots( 1, 2 , figsize=(10,4))\n",
        "sns.histplot( df['年齢'], bins=10, kde=False, ax=ax1)\n",
        "sns.histplot( df['利用回数'], bins=10, kde=False, ax=ax2)\n",
        "plt.show()"
      ],
      "metadata": {
        "id": "HVq6-K2W1aVm"
      },
      "execution_count": null,
      "outputs": []
    },
    {
      "cell_type": "markdown",
      "source": [
        "上のグラフからも明らかなように、\n",
        "年齢と利用回数では値のばらつきの範囲が大きく異なっている。\n",
        "実際に分散を計算すると\n",
        "両者のばらつきが\n",
        "大きく異なっていることが確認できる。"
      ],
      "metadata": {
        "id": "s90J53w6ZuxV"
      }
    },
    {
      "cell_type": "code",
      "source": [
        "df['年齢'].var()"
      ],
      "metadata": {
        "id": "G68AeqxC3AlS"
      },
      "execution_count": null,
      "outputs": []
    },
    {
      "cell_type": "code",
      "source": [
        "df['利用回数'].var()"
      ],
      "metadata": {
        "id": "S25A3Qmj3MGa"
      },
      "execution_count": null,
      "outputs": []
    },
    {
      "cell_type": "markdown",
      "source": [
        "このように、項目によって数値の大きさや散らばりが異なる場合には、\n",
        "**標準化**が不可欠である。"
      ],
      "metadata": {
        "id": "x2FmDlsb7U2U"
      }
    },
    {
      "cell_type": "markdown",
      "source": [
        "## Pythonでの標準化の方法\n",
        "\n",
        "データ分析用のライブラリである sklearn には\n",
        "データを変換するたモジュールが用意されている。\n",
        "データの標準化には、\n",
        "StandardScaler() を用いる。\n",
        "\n",
        "インポートは以下のように行う。\n",
        "```\n",
        "sklearn.preprocessing import StandardScaler\n",
        "```\n",
        "\n",
        "\n",
        "StandardScaler は、以下の3つのステップで実行する。\n",
        "\n",
        "1. 準備：適当な名前で変数を用意\n",
        "2. 訓練（fit） ：変換に必要な情報（標準化の場合であれば、元のデータの平均と分散）の計算\n",
        "3. 変換（transform）：実際に変換を実施する\n"
      ],
      "metadata": {
        "id": "HU0SvWiXFKM9"
      }
    },
    {
      "cell_type": "code",
      "source": [
        "# 標準化に必要なライブラリーのインポート\n",
        "from sklearn.preprocessing import StandardScaler\n",
        "\n",
        "# 標準化の対象となる項目を変数 X にセットする\n",
        "X = df[['年齢', '利用回数']]\n",
        "\n",
        "# １．準備\n",
        "scaler = StandardScaler()\n",
        "\n",
        "# ２．訓練の実施\n",
        "scaler.fit(X)\n",
        "\n",
        "# ３．標準化の実施\n",
        "# 標準化後のデータを再びXにセットする\n",
        "X = scaler.transform(X)"
      ],
      "metadata": {
        "id": "_um17A_zmWCG"
      },
      "execution_count": null,
      "outputs": []
    },
    {
      "cell_type": "markdown",
      "source": [
        "変換に用いたパラメータ（平均や分散）を確認することもできる。\n",
        "\n",
        "\n",
        "*   平均：scaler.mean_\n",
        "*   分散：scaler.var_\n",
        "\n"
      ],
      "metadata": {
        "id": "npeiyPvJzopK"
      }
    },
    {
      "cell_type": "code",
      "source": [
        "scaler.mean_"
      ],
      "metadata": {
        "id": "G8vKkPhBzihe"
      },
      "execution_count": null,
      "outputs": []
    },
    {
      "cell_type": "code",
      "source": [
        "scaler.var_"
      ],
      "metadata": {
        "id": "myN4iKqIzxhY"
      },
      "execution_count": null,
      "outputs": []
    },
    {
      "cell_type": "markdown",
      "source": [
        "変数 X には2項目のデータ（年齢と利用回数）が格納されているので、\n",
        "項目ごとに平均と分散が表示される。"
      ],
      "metadata": {
        "id": "MgH47xAo0nB9"
      }
    },
    {
      "cell_type": "markdown",
      "source": [
        "## 可視化して確認する\n",
        "\n",
        "データの標準化が行われた様子を可視化して確認する。\n",
        "変換後の散布図では、\n",
        "縦軸と横軸の値のばらつきの範囲が等しいことが分かる。"
      ],
      "metadata": {
        "id": "mWZbDTGsaKA7"
      }
    },
    {
      "cell_type": "code",
      "source": [
        "# 標準化の確認\n",
        "X = pd.DataFrame( X, columns=['x1', 'x2'])\n",
        "\n",
        "fig, (ax1, ax2) = plt.subplots( 1, 2 , figsize=(10,4))\n",
        "\n",
        "ax1.set_title(\"変換前\")\n",
        "sns.scatterplot(data=df, x='年齢', y='利用回数', ax=ax1 )\n",
        "ax1.grid(True)  # グリッド線を追加\n",
        "\n",
        "ax2.set_title(\"変換後\")\n",
        "sns.scatterplot(data=X, x='x1', y='x2', ax=ax2)\n",
        "ax2.grid(True)  # グリッド線を追加\n",
        "\n",
        "plt.show()"
      ],
      "metadata": {
        "id": "YMfY61M1HN4G"
      },
      "execution_count": null,
      "outputs": []
    },
    {
      "cell_type": "markdown",
      "source": [
        "##数値で確認する\n",
        "\n",
        "変換後の平均と分散(標準偏差)を確認する。\n"
      ],
      "metadata": {
        "id": "UeHZYFYwnnSP"
      }
    },
    {
      "cell_type": "code",
      "source": [
        "X.describe()"
      ],
      "metadata": {
        "id": "K_z6rEka1EHR"
      },
      "execution_count": null,
      "outputs": []
    },
    {
      "cell_type": "markdown",
      "source": [
        "# クラスタリングの実行"
      ],
      "metadata": {
        "id": "vTR9Uh1hRW6B"
      }
    },
    {
      "cell_type": "markdown",
      "source": [
        "## K-means 法\n",
        "\n",
        "本講義では、クラスタリングを行う代表的な手法であるK-means法を扱う。\n",
        "\n",
        "データ分析ライブラリーの sklearn に含まれている **KMeans** を用いる。\n",
        "使い方は、\n",
        "\n",
        "\n",
        "1.   準備\n",
        "2.   計算（fit）\n",
        "\n",
        "の2ステップである。\n",
        "\n",
        "準備では、いくつかのパラメータを設定する。主なものは、\n",
        "*   n_clusters\n",
        "*   init\n",
        "*   max_iter\n",
        "*   n_init\n",
        "\n",
        "である。\n",
        "\n",
        "中でも、もっとも重要なパラメータは\n",
        "クラスタ数を指定する\n",
        "\n",
        "n_clusters\n",
        "\n",
        "である。\n",
        "\n",
        "\n",
        "\n",
        "詳しい使い方は以下のリンクを参照\n",
        "\n",
        "https://scikit-learn.org/stable/modules/generated/sklearn.cluster.KMeans.html\n"
      ],
      "metadata": {
        "id": "lzoQWo4E3XPl"
      }
    },
    {
      "cell_type": "markdown",
      "source": [
        "K-means法では、まずクラスタ数を決める必要がある。\n",
        "以下のコードでは、\n",
        "仮にクラスタ数を3として実行している。"
      ],
      "metadata": {
        "id": "HQbjJZs2cKZa"
      }
    },
    {
      "cell_type": "code",
      "source": [
        "# クラスタリングに必要なライブラリーのインポート\n",
        "from sklearn.cluster import KMeans\n",
        "\n",
        "# 仮にクラスタ数を3として実行する\n",
        "n = 3\n",
        "\n",
        "# １．準備\n",
        "kmeans = KMeans(n_clusters = n, init='k-means++', max_iter=500, n_init='auto')\n",
        "\n",
        "# ２．クラスタの計算\n",
        "kmeans.fit(X)"
      ],
      "metadata": {
        "id": "jJJmRUMqLmuP"
      },
      "execution_count": null,
      "outputs": []
    },
    {
      "cell_type": "code",
      "source": [
        "print(kmeans)"
      ],
      "metadata": {
        "id": "FTbLn0ll82mC"
      },
      "execution_count": null,
      "outputs": []
    },
    {
      "cell_type": "markdown",
      "source": [
        "#クラスタ結果の可視化"
      ],
      "metadata": {
        "id": "7LWY9OBVRLhH"
      }
    },
    {
      "cell_type": "markdown",
      "source": [
        "クラスタリングの結果は、\n",
        "kmeans.labels_ に格納されている。\n",
        "クラスタ数を 3 に設定したので、\n",
        "kmeans.labels_ には、0、1、2 のいずれかの数字が格納されている。\n",
        "\n",
        "結果を、元データのデータフレーム変数 df に追加することで、\n",
        "可視化が容易になる。\n",
        "以下のセルでは、\n",
        "クラスタリングの結果をデータフレームに 'cluster' という列で追加している。"
      ],
      "metadata": {
        "id": "w_ZsIEiiq9kQ"
      }
    },
    {
      "cell_type": "code",
      "source": [
        "# クラスタラベルをデータフレームに追加\n",
        "df['cluster'] = kmeans.labels_"
      ],
      "metadata": {
        "id": "uElN7zyyrJVo"
      },
      "execution_count": null,
      "outputs": []
    },
    {
      "cell_type": "code",
      "source": [
        "df.head()"
      ],
      "metadata": {
        "id": "tDvvaC0ppgCB"
      },
      "execution_count": null,
      "outputs": []
    },
    {
      "cell_type": "markdown",
      "source": [
        "年齢と利用回数の散布図を、クラスタで層別（色分け）して可視化する。"
      ],
      "metadata": {
        "id": "EbPrY4keuNEj"
      }
    },
    {
      "cell_type": "code",
      "source": [
        "# 結果の可視化（seabornを使用）\n",
        "sns.scatterplot(x='年齢', y='利用回数', hue='cluster', data=df, palette='Set1')\n",
        "plt.grid(True)  # グリッド線を追加\n",
        "plt.show()"
      ],
      "metadata": {
        "id": "BWpJXCB47zTe"
      },
      "execution_count": null,
      "outputs": []
    },
    {
      "cell_type": "markdown",
      "source": [
        "## クラスター平均\n",
        "\n",
        "クラスター毎にデータを平均した点をクラスター平均\n",
        "（クラスター重心、クラスター中心）と呼ぶ。\n",
        "\n",
        "基礎集計で説明した groupby を使って計算する。\n",
        "すなわち、\n",
        "分類の項目を「cluster」とし、\n",
        "「年齢」と「利用回数」の項目の平均を計算する。"
      ],
      "metadata": {
        "id": "Blu9HcTGc-t-"
      }
    },
    {
      "cell_type": "code",
      "source": [
        "# クラスタで分類して年齢と利用回数の平均を求める\n",
        "# クラスタ中心と呼ぶ\n",
        "df.groupby('cluster')[['年齢','利用回数']].mean()"
      ],
      "metadata": {
        "id": "PxHAf9fDJCpb"
      },
      "execution_count": null,
      "outputs": []
    },
    {
      "cell_type": "markdown",
      "source": [
        "上で計算したクラスタ中心は、\n",
        "それぞれのクラスターを代表するデータと考えることができ、\n",
        "クラスターの特徴を解釈する際に利用する。\n",
        "\n",
        "例えば、クラスタ0は、\n",
        "年齢も高く利用回数も多い顧客の集まりだと解釈をする。\n",
        "\n",
        "また、各顧客はクラスタ中心の中で最も距離が短いクラスタに属すように\n",
        "決められている。\n",
        "\n",
        "\n",
        "クラスタ中心を●で可視化すると以下のようになる。"
      ],
      "metadata": {
        "id": "4_fDXCBIdSXB"
      }
    },
    {
      "cell_type": "code",
      "source": [
        "c = df.groupby('cluster')[['年齢','利用回数']].mean().reset_index()\n",
        "sns.scatterplot(x='年齢', y='利用回数', hue='cluster', data=df, palette='Set1')\n",
        "#sns.scatterplot(x='年齢', y='利用回数', data=c, color='k', s=100)\n",
        "sns.scatterplot(x='年齢', y='利用回数', data=c, s=100, hue='cluster', palette='Set1')\n",
        "plt.grid(True)  # グリッド線を追加\n",
        "plt.show()"
      ],
      "metadata": {
        "id": "3k3FPW4ttaag"
      },
      "execution_count": null,
      "outputs": []
    },
    {
      "cell_type": "markdown",
      "source": [
        "# クラスタ数の決定\n",
        "\n",
        "今までの例では、\n",
        "先にクラスタ数を決めてからクラスタリングを実行した。\n",
        "ここでは、クラスタ数はどのように決めればよいか説明する。"
      ],
      "metadata": {
        "id": "lbsn1Feu-6Q3"
      }
    },
    {
      "cell_type": "markdown",
      "source": [
        "## クラスタ内距離\n",
        "まず、計算されたクラスターに\n",
        "どの程度データがまとまっているかを表す指標に\n",
        "**クラスタ内距離**\n",
        "がある。\n",
        "\n",
        "これは、\n",
        "クラスタ毎にクラスタ中心から各データへの距離の二乗の和を計算したもので、\n",
        "クラスタ内距離が小さいほど、クラスタ中心にデータが集中していることを表す。\n",
        "\n",
        "上のプログラムを実行した場合には、\n",
        "kmeans.inertia_\n",
        "という変数に格納されている。"
      ],
      "metadata": {
        "id": "dgB0U5tHiIDd"
      }
    },
    {
      "cell_type": "code",
      "source": [
        "# クラスタ毎にクラスタ中心から各データへの距離の二乗の和\n",
        "kmeans.inertia_"
      ],
      "metadata": {
        "id": "V4JfxuKXW21V"
      },
      "execution_count": null,
      "outputs": []
    },
    {
      "cell_type": "markdown",
      "source": [
        "例えば、\n",
        "クラスタ数を 4 に変更してクラスタリングを実行し、\n",
        "クラスタ内距離を確認する。"
      ],
      "metadata": {
        "id": "AkU2R-wbdIEJ"
      }
    },
    {
      "cell_type": "code",
      "source": [
        "# クラスタ数を 4 にして実行する\n",
        "best_n_clusters = 4\n",
        "\n",
        "kmeans = KMeans(n_clusters=best_n_clusters, init='k-means++', max_iter=500, n_init='auto')\n",
        "kmeans.fit(X)\n",
        "df['cluster'] = kmeans.labels_\n",
        "\n",
        "# 図示する\n",
        "c = df.groupby('cluster')[['年齢','利用回数']].mean().reset_index()\n",
        "sns.scatterplot(x='年齢', y='利用回数', hue='cluster', data=df, palette='Set1')\n",
        "sns.scatterplot(x='年齢', y='利用回数', data=c, color='k', s=100)\n",
        "plt.grid(True)  # グリッド線を追加\n",
        "plt.show()"
      ],
      "metadata": {
        "id": "D8HgB6iwuZeW"
      },
      "execution_count": null,
      "outputs": []
    },
    {
      "cell_type": "code",
      "source": [
        "# クラスタ毎にクラスタ中心から各データへの距離の二乗の和\n",
        "kmeans.inertia_"
      ],
      "metadata": {
        "id": "JueAjTgru1qD"
      },
      "execution_count": null,
      "outputs": []
    },
    {
      "cell_type": "markdown",
      "source": [
        "クラスタ数が 3 の場合では、クラスタ内距離が約35であった。\n",
        "それと比べるとクラスタ内距離が減少することが確認できる。"
      ],
      "metadata": {
        "id": "1fXL8-HRCLax"
      }
    },
    {
      "cell_type": "markdown",
      "source": [
        "一般に、クラスタ数を増やすとクラスタ内距離を減少させることができるものの、\n",
        "一方で、同程度のクラスタ内距離であればクラスタ数が少なくシンプルなクラスタリングが良いとされる。"
      ],
      "metadata": {
        "id": "bRJKRBSk_frC"
      }
    },
    {
      "cell_type": "markdown",
      "source": [
        "## エルボー法\n",
        "\n",
        "クラスタ内距離とクラスタ数のバランスの良いものを\n",
        "決める方法として、エルボー法が使われる。\n",
        "\n",
        "クラスタ数を変化させながら、クラスタ中心からの距離の二乗の和を計算しグラフ化する。\n",
        "グラフの減少度合いが変化し始めるところを、最適なクラスター数として採用する。\n",
        "\n",
        "こういった作業はAIの開発では一般的で、**「ハイパーパラメータチューニング」**と呼ばれる。"
      ],
      "metadata": {
        "id": "sX87VFAg6vth"
      }
    },
    {
      "cell_type": "code",
      "source": [
        "# Elbow Methodによるハイパーパラメータチューニング\n",
        "inertia = []\n",
        "for i in range(1, 11):\n",
        "    kmeans = KMeans(n_clusters=i, init='k-means++', max_iter=300, n_init='auto')\n",
        "    kmeans.fit(X)\n",
        "    inertia.append(kmeans.inertia_)"
      ],
      "metadata": {
        "id": "Tb5Jdh7I7P4d"
      },
      "execution_count": null,
      "outputs": []
    },
    {
      "cell_type": "code",
      "source": [
        "# グリッド線を表示するスタイルに変更する\n",
        "sns.set_style('whitegrid')\n",
        "# sns.set_theme('paper')\n",
        "sns.set(font='IPAexGothic')\n",
        "\n",
        "# エルボー図のプロット\n",
        "elbow = pd.DataFrame( inertia, columns = ['Inertia'])\n",
        "elbow['Num of clusters'] = range(1,11)\n",
        "sns.lineplot(data = elbow, x='Num of clusters', y= 'Inertia')"
      ],
      "metadata": {
        "id": "Nh8AsjOYYvtK"
      },
      "execution_count": null,
      "outputs": []
    },
    {
      "cell_type": "markdown",
      "source": [
        "上のグラフから、クラスタ数が3のところで\n",
        "グラフの傾きが大きく変化しており、\n",
        "最適なクラスタ数は3であると判断する。"
      ],
      "metadata": {
        "id": "PThefoTueM2N"
      }
    },
    {
      "cell_type": "code",
      "source": [
        "# データをを変数 X にセットする\n",
        "X = df[ ['年齢', '利用回数']]\n",
        "\n",
        "# 準備の準備\n",
        "scaler = StandardScaler()\n",
        "\n",
        "# 標準化後のデータを再びXにセットする\n",
        "X = scaler.fit_transform(X)\n",
        "\n",
        "# クラスタ数を3として実行する\n",
        "best_n_clusters = 3\n",
        "\n",
        "# 準備\n",
        "kmeans = KMeans(n_clusters=best_n_clusters, init='k-means++', max_iter=500, n_init='auto')\n",
        "\n",
        "# クラスタの計算\n",
        "kmeans.fit(X)\n",
        "\n",
        "# クラスタラベルをデータフレームに追加\n",
        "df['cluster'] = kmeans.labels_\n",
        "\n",
        "# クラスタで分類して年齢と利用回数の平均を求める\n",
        "sns.set_style('whitegrid')\n",
        "sns.set(font='IPAexGothic')\n",
        "c = df.groupby('cluster')[['年齢','利用回数']].mean().reset_index()\n",
        "sns.scatterplot(x='年齢', y='利用回数', hue='cluster', data=df, palette='Set1')\n",
        "sns.scatterplot(x='年齢', y='利用回数', data=c, color='k', s=100)"
      ],
      "metadata": {
        "id": "xGsBBM5UfIjJ"
      },
      "execution_count": null,
      "outputs": []
    },
    {
      "cell_type": "markdown",
      "source": [
        "---\n",
        "---\n"
      ],
      "metadata": {
        "id": "zfYgTRRzsAtA"
      }
    },
    {
      "cell_type": "markdown",
      "source": [
        "#小テスト\n",
        "\n",
        "それでは、以上の内容の確認するための小テストに取組む。\n",
        "\n",
        "**講義の時間内に必ず提出すること**\n"
      ],
      "metadata": {
        "id": "2Z235LNtUbKw"
      }
    },
    {
      "cell_type": "markdown",
      "source": [
        "\n",
        "\n",
        "---\n",
        "\n",
        "\n",
        "\n",
        "---\n",
        "\n"
      ],
      "metadata": {
        "id": "kRRR8Fu5Uuap"
      }
    },
    {
      "cell_type": "markdown",
      "source": [
        "#次回の講義に向けて\n",
        "\n",
        "上で説明したクラスタリングを別のデータで実行する。\n",
        "\n",
        "用いるデータは「Wineデータ」と呼ばれるものである。\n",
        "\n",
        "簡単にWineデータに関して説明する。"
      ],
      "metadata": {
        "id": "NLu6IzGtQKHw"
      }
    },
    {
      "cell_type": "markdown",
      "source": [
        "## データの読み込み\n",
        "\n",
        "まず、Wineデータをデータフレームにセットするために\n",
        "以下のセルを実行する。\n",
        "wine_df という変数にセットされる。"
      ],
      "metadata": {
        "id": "6_3cg0OPRMDz"
      }
    },
    {
      "cell_type": "code",
      "source": [
        "from sklearn.datasets import load_wine\n",
        "# データの読み込み\n",
        "wine = load_wine()\n",
        "wine_df = pd.DataFrame(wine.data, columns=wine.feature_names)"
      ],
      "metadata": {
        "id": "T3rUNpTkRmtL"
      },
      "execution_count": null,
      "outputs": []
    },
    {
      "cell_type": "markdown",
      "source": [
        "## データの概要\n",
        "\n",
        "データの列を確認する。"
      ],
      "metadata": {
        "id": "xpk_xTaqRYU-"
      }
    },
    {
      "cell_type": "code",
      "source": [
        "wine_df.info()"
      ],
      "metadata": {
        "id": "poF1vlELR_AD"
      },
      "execution_count": null,
      "outputs": []
    },
    {
      "cell_type": "markdown",
      "source": [
        "Wineデータセットは、イタリアの同じ地域で栽培されたワインに\n",
        "含まれる成分を測定したデータで、全部で13項目ある。\n",
        "\n",
        "| 項目                          | 説明                                       |\n",
        "|---------------------------------|--------------------------------------------|\n",
        "| Alcohol（アルコール）           | ワインに含まれるアルコールの量。           |\n",
        "| Malic Acid（リンゴ酸）          | ワインに含まれるリンゴ酸の量。             |\n",
        "| Ash（灰分）                     | ワインの灰分の量。                         |\n",
        "| Alcalinity of Ash（灰分のアルカリ度） | 灰分のアルカリ度。                   |\n",
        "| Magnesium（マグネシウム）       | ワインに含まれるマグネシウムの量。         |\n",
        "| Total Phenols（総フェノール）   | ワインに含まれるフェノール類の総量。       |\n",
        "| Flavanoids（フラバノイド）      | ワインに含まれるフラバノイドの量。         |\n",
        "| Nonflavanoid Phenols（非フラバノイドフェノール） | ワインに含まれる非フラバノイドフェノールの量。 |\n",
        "| Proanthocyanins（プロアントシアニン） | ワインに含まれるプロアントシアニンの量。 |\n",
        "| Color Intensity（色の強度）     | ワインの色の強度。                         |\n",
        "| Hue（色相）                     | ワインの色相。                             |\n",
        "| OD280/OD315 of Diluted Wines（希釈ワインのOD280/OD315） | 希釈されたワインのOD280/OD315の比率。 |\n",
        "| Proline（プロリン）             | ワインに含まれるプロリンの量。             |"
      ],
      "metadata": {
        "id": "dLKZsXKXRmtL"
      }
    },
    {
      "cell_type": "markdown",
      "source": [
        "分析を簡単にするため以下の処理を実行し\n",
        "項目を限定する。\n"
      ],
      "metadata": {
        "id": "4vceJk9QURQj"
      }
    },
    {
      "cell_type": "code",
      "source": [
        "wine_df = pd.DataFrame(wine.data, columns=wine.feature_names)\n",
        "# 相関行列を計算\n",
        "correlation_matrix = wine_df.corr().abs()\n",
        "# sns.heatmap(correlation_matrix, cmap= sns.color_palette('coolwarm', 10), annot=True,fmt='.2f', vmin = -1, vmax = 1)\n",
        "\n",
        "# 相関が0.6以上の変数を取得\n",
        "high_corr_var = {}\n",
        "for i in range(len(correlation_matrix.columns)):\n",
        "    for j in range(i):\n",
        "        if abs(correlation_matrix.iloc[i, j]) >= 0.5:\n",
        "            colname = correlation_matrix.columns[i]\n",
        "            high_corr_var[colname] = abs(correlation_matrix.iloc[i, j])\n",
        "\n",
        "# 相関性の高い変数を削除\n",
        "wine_df.drop(columns=high_corr_var.keys(), inplace=True)\n",
        "\n",
        "# 結果の表示\n",
        "# print(\"Remaining columns after removing highly correlated variables:\")\n",
        "print(wine_df.columns)\n",
        "wine_df.info()"
      ],
      "metadata": {
        "id": "J4OtrtNsRmtM"
      },
      "execution_count": null,
      "outputs": []
    },
    {
      "cell_type": "markdown",
      "source": [
        "## 次回の講義までの課題\n",
        "\n",
        "データフレーム wine_df に対して\n",
        "クラスタリングを実行する。\n",
        "\n",
        "できるだけ講義時間内で行う。\n"
      ],
      "metadata": {
        "id": "jWbcaCjySc1a"
      }
    }
  ]
}