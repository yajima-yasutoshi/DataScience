{
  "nbformat": 4,
  "nbformat_minor": 0,
  "metadata": {
    "colab": {
      "provenance": [],
      "include_colab_link": true
    },
    "kernelspec": {
      "name": "python3",
      "display_name": "Python 3"
    },
    "language_info": {
      "name": "python"
    }
  },
  "cells": [
    {
      "cell_type": "markdown",
      "metadata": {
        "id": "view-in-github",
        "colab_type": "text"
      },
      "source": [
        "<a href=\"https://colab.research.google.com/github/yajima-yasutoshi/DataScience/blob/main/20250213/%E8%BF%BD%E8%A9%A6%E9%A8%93.ipynb\" target=\"_parent\"><img src=\"https://colab.research.google.com/assets/colab-badge.svg\" alt=\"Open In Colab\"/></a>"
      ]
    },
    {
      "cell_type": "markdown",
      "source": [
        "# 追試験\n",
        "\n",
        "20250213\n"
      ],
      "metadata": {
        "id": "g8YJ3oojiqNa"
      }
    },
    {
      "cell_type": "markdown",
      "source": [
        "## 準備\n"
      ],
      "metadata": {
        "id": "8zFBC9q961jw"
      }
    },
    {
      "cell_type": "code",
      "source": [
        "# 日本語環境のインストール\n",
        "!pip install japanize-matplotlib\n",
        "\n",
        "# 必要なライブラリをインポート\n",
        "import numpy as np\n",
        "import pandas as pd\n",
        "import seaborn as sns\n",
        "import matplotlib.pyplot as plt\n",
        "import japanize_matplotlib\n",
        "\n",
        "\n",
        "from sklearn.model_selection import train_test_split\n",
        "from sklearn.preprocessing import StandardScaler\n",
        "\n",
        "# 分類（ロジスティック回帰）に必要なライブラリー\n",
        "from sklearn.linear_model import LogisticRegression\n",
        "\n",
        "# 決定木に必要なライブラリー\n",
        "from sklearn.tree import DecisionTreeClassifier, plot_tree\n",
        "\n",
        "# ランダムフォレストに必要なライブラリー\n",
        "from sklearn.ensemble import RandomForestClassifier\n",
        "\n",
        "# その他必要なライブラリー\n",
        "from sklearn.model_selection import GridSearchCV\n",
        "from sklearn.metrics import accuracy_score\n",
        "from sklearn.metrics import confusion_matrix"
      ],
      "metadata": {
        "id": "g9TNYrU66eru"
      },
      "execution_count": null,
      "outputs": []
    },
    {
      "cell_type": "markdown",
      "source": [
        "# ローン審査データ\n",
        "\n",
        "データは以下のサイトに保存してある。\n",
        "\n",
        "https://github.com/yajima-yasutoshi/shunan-u/tree/main/data\n",
        "\n",
        "上記のURLより、cleaned_loan_approval_dataset.csv をダウンロードして利用する。"
      ],
      "metadata": {
        "id": "NFMTKfBS0HP5"
      }
    },
    {
      "cell_type": "markdown",
      "source": [
        "以下のプログラムは不完全である。\n",
        "必要な部分を補って動くようにする。"
      ],
      "metadata": {
        "id": "bqAvSXvfrwxZ"
      }
    },
    {
      "cell_type": "code",
      "source": [
        "# 読み込むファイルを指定する\n",
        "file_path =\n",
        "# csv ファイルを df という変数に読み込む\n",
        "df ="
      ],
      "metadata": {
        "id": "vFWjVtMO0N6P"
      },
      "execution_count": null,
      "outputs": []
    },
    {
      "cell_type": "markdown",
      "source": [
        "これは、住宅ローンの審査結果のデータである。\n",
        "ローン申込者に関するデータおよび、ローン審査の結果(loan_status)が格納されている。\n"
      ],
      "metadata": {
        "id": "nHKt1c1WoA_0"
      }
    },
    {
      "cell_type": "markdown",
      "source": [
        "\n",
        " No | 列名 | 型 | 意味\n",
        " -- | -- | --  | --\n",
        " 0  | loan_id                 | 数値 |  ID番号\n",
        " 1  | no_of_dependents        | 数値 |   同居している家族の人数\n",
        " 2  | education               | カテゴリ | 学歴  \n",
        " 3  |  self_employed          | カテゴリ | 自営業かそうでないか\n",
        " 4  |  income_annum           | 数値 | 年収\n",
        " 5  |  loan_amount            | 数値 | ローン金額\n",
        " 6  |  loan_term              | 数値 | ローン年数\n",
        " 7  |  cibil_score            | 数値 | スコア\n",
        " 8  | residential_assets_value  | 数値 | 住居の資産価値\n",
        " 9  |  commercial_assets_value  | 数値 | 商業用の資産価値\n",
        " 10 |  luxury_assets_value      | 数値 | 贅沢品の資産価値\n",
        " 11 |  bank_asset_value         | 数値 | 預貯金額\n",
        " 12 | loan_status               | カテゴリ| 審査結果\n"
      ],
      "metadata": {
        "id": "QCG8SPw1B4sr"
      }
    },
    {
      "cell_type": "markdown",
      "source": [
        "このデータを学習することで、\n",
        "ローンの審査を行うAIをロジスティック回帰および\n",
        "決定木によって構築する。"
      ],
      "metadata": {
        "id": "pVUfCg_DE9wu"
      }
    },
    {
      "cell_type": "markdown",
      "source": [
        "まず、ローンの審査結果（loan_status）を目的変数、\n",
        "数値型の項目を説明変数としたロジスティック回帰モデルを学習する。説明変数として使う項目は、以下の通りである。\n",
        "\n",
        "'no_of_dependents', 'income_annum', 'loan_amount',\n",
        "       'loan_term', 'cibil_score', 'residential_assets_value',\n",
        "       'commercial_assets_value', 'luxury_assets_value', 'bank_asset_value'\n",
        "\n",
        "以下のプログラムでは、Xに説明変数、yに目的変数をセットする。\n",
        "なお、\n",
        "以下のようにすることで、y は、Approved であれば 1 、そうでないならば\n",
        "0 となる。\n",
        "\n",
        "```\n",
        "y = ( df['loan_status']  == 'Approved' )\n",
        "\n",
        "```\n"
      ],
      "metadata": {
        "id": "hk-sIBZWFOsL"
      }
    },
    {
      "cell_type": "markdown",
      "source": [
        "以下のプログラムは不完全である。\n",
        "必要な部分を補って動くようにする。"
      ],
      "metadata": {
        "id": "7zS4sl-7sR3-"
      }
    },
    {
      "cell_type": "code",
      "source": [
        "y = ( df['loan_status']  == 'Approved' )\n",
        "X ="
      ],
      "metadata": {
        "id": "1krbh3_cF5rG"
      },
      "execution_count": null,
      "outputs": []
    },
    {
      "cell_type": "markdown",
      "source": [
        "データを学習用と評価用に分割する。\n",
        "評価用のデータを全体の2割にする。\n",
        "\n",
        "\n",
        "**注意：以下のコードを変更しないこと**"
      ],
      "metadata": {
        "id": "z3mF1U6PTqWb"
      }
    },
    {
      "cell_type": "code",
      "source": [
        "# データを学習用と評価用に分割\n",
        "X_train, X_validate, y_train, y_validate = train_test_split(X, y, test_size=0.2, random_state=2)"
      ],
      "metadata": {
        "id": "5WygGn5WTwLE"
      },
      "execution_count": null,
      "outputs": []
    },
    {
      "cell_type": "markdown",
      "source": [
        "ロジスティック回帰では、説明変数の標準化が必要である。\n",
        "StandardScalerを使って標準化を行う。"
      ],
      "metadata": {
        "id": "93SqsBcAttJg"
      }
    },
    {
      "cell_type": "code",
      "source": [
        "# 連続変数を標準化\n",
        "scaler = StandardScaler()\n",
        "scaler.fit(X_train)\n",
        "\n",
        "# 学習用データを標準化\n",
        "X_train_scaled = scaler.transform(X_train)\n",
        "\n",
        "# 検証用データを標準化\n",
        "X_validate_scaled = scaler.transform(X_validate)\n"
      ],
      "metadata": {
        "id": "ZmHnMFls6qy5"
      },
      "execution_count": null,
      "outputs": []
    },
    {
      "cell_type": "markdown",
      "source": [
        "学習用データを使い、ロジスティック回帰モデルを構築する。\n",
        "以下の A, B を適切に書き換えよ。"
      ],
      "metadata": {
        "id": "3a03wrXUT-WJ"
      }
    },
    {
      "cell_type": "code",
      "source": [
        "# ロジスティック回帰モデルを作成\n",
        "model = LogisticRegression()\n",
        "\n",
        "# モデルを学習する\n",
        "model.fit(A, B)"
      ],
      "metadata": {
        "id": "FXrIw09NUH6p"
      },
      "execution_count": null,
      "outputs": []
    },
    {
      "cell_type": "markdown",
      "source": [
        "検証用データを使い予測を計算する。"
      ],
      "metadata": {
        "id": "33Ab2qcZUcUn"
      }
    },
    {
      "cell_type": "markdown",
      "source": [
        "以下のプログラムは不完全である。\n",
        "必要な部分を補って動くようにする。"
      ],
      "metadata": {
        "id": "Rr_tVHHjsWln"
      }
    },
    {
      "cell_type": "code",
      "source": [
        "# テストデータで予測\n",
        "y_pred = model.#この部分を適切に記述せよ"
      ],
      "metadata": {
        "id": "m_IYeJO9Ugnp"
      },
      "execution_count": null,
      "outputs": []
    },
    {
      "cell_type": "code",
      "source": [
        "# 精度を計算\n",
        "accuracy = accuracy_score(y_validate, y_pred)\n",
        "print(f'Accuracy: {accuracy}')"
      ],
      "metadata": {
        "id": "_oZwiNld-0XR"
      },
      "execution_count": null,
      "outputs": []
    },
    {
      "cell_type": "markdown",
      "source": [
        "混同行列を表示する。以下の XXX を適切に記載する。"
      ],
      "metadata": {
        "id": "YYqdMvKQY6ET"
      }
    },
    {
      "cell_type": "code",
      "source": [
        "XXX(y_validate, y_pred)"
      ],
      "metadata": {
        "id": "9BmIZHOpByht"
      },
      "execution_count": null,
      "outputs": []
    },
    {
      "cell_type": "markdown",
      "source": [
        "次に、カテゴリ型の項目\n",
        "'education', 'self_employed'\n",
        "を One-Hot エンコーディングし、\n",
        "数値型の説明変数に追加して学習を行う。\n",
        "\n",
        "**注意：以下のコードを変更しないこと**"
      ],
      "metadata": {
        "id": "86SBZHK1NpMO"
      }
    },
    {
      "cell_type": "code",
      "source": [
        "# 再度、dfという変数にデータを読み込む\n",
        "df = pd.read_csv(file_path)\n",
        "\n",
        "# カテゴリ変数をOne Hot Encoding\n",
        "df_encoded = pd.get_dummies( df[['education', 'self_employed']] )\n",
        "\n",
        "# エンコードされたデータと元のデータを結合\n",
        "df = pd.concat([df, df_encoded], axis=1)\n",
        "\n",
        "X = df[['no_of_dependents', 'income_annum', 'loan_amount',\n",
        "       'loan_term', 'cibil_score', 'residential_assets_value',\n",
        "       'commercial_assets_value', 'luxury_assets_value', 'bank_asset_value',\n",
        "        'education_Graduate', 'education_Not Graduate', 'self_employed_No','self_employed_Yes']]\n",
        "y = ( df['loan_status']  == 'Approved' )"
      ],
      "metadata": {
        "id": "htQHNaxXI2wN"
      },
      "execution_count": null,
      "outputs": []
    },
    {
      "cell_type": "code",
      "source": [
        "# データを訓練用と検証用に分割\n",
        "X_train, X_validate, y_train, y_validate = train_test_split(X, y, test_size=0.2, random_state=1)\n",
        "\n",
        "scaler = StandardScaler()\n",
        "scaler.fit(X_train)\n",
        "\n",
        "# 学習用データを標準化\n",
        "X_train_scaled = scaler.transform(X_train)\n",
        "\n",
        "# 検証用データを標準化\n",
        "X_validate_scaled = scaler.transform(X_validate)"
      ],
      "metadata": {
        "id": "cKfwH--D0wET"
      },
      "execution_count": null,
      "outputs": []
    },
    {
      "cell_type": "markdown",
      "source": [
        "正則化パラメータ C を調整する。\n",
        "C は、 0.1, 0.15, 0.2, 0.3, 0.4, 0.5, 1, 2\n",
        "を候補として、グリッドサーチを実施する。\n",
        "\n",
        "以下のコードのXXXの部分を記述せよ。"
      ],
      "metadata": {
        "id": "Dii_uVtMzRZm"
      }
    },
    {
      "cell_type": "code",
      "source": [
        "# パラメータグリッドを設定\n",
        "param_grid = XXX"
      ],
      "metadata": {
        "id": "b8z6wjaVaDuT"
      },
      "execution_count": null,
      "outputs": []
    },
    {
      "cell_type": "code",
      "source": [
        "# グリッドサーチで最適なハイパーパラメータを探す\n",
        "grid_search = GridSearchCV(LogisticRegression(), param_grid=param_grid, cv=5)\n",
        "grid_search.fit(X_train_scaled, y_train.values.ravel() )\n",
        "\n",
        "# 以下適切なコードを書くこと\n"
      ],
      "metadata": {
        "id": "l3pidFcf2Wt1"
      },
      "execution_count": null,
      "outputs": []
    },
    {
      "cell_type": "markdown",
      "source": [
        "次に、決定木モデルを構築する。\n",
        "ハイパーパラメータチューニングは、\n",
        "max_depth を、2, 3, 4, 5, 10, 20, 50 を候補として実施する。"
      ],
      "metadata": {
        "id": "y2NrQ0R6z56U"
      }
    },
    {
      "cell_type": "markdown",
      "source": [
        "以下のプログラムは不完全である。\n",
        "必要な部分を補って動くようにする。"
      ],
      "metadata": {
        "id": "zMCU1ivosf8D"
      }
    },
    {
      "cell_type": "code",
      "source": [
        "# ハイパーパラメータの候補\n",
        "param_grid = XXX"
      ],
      "metadata": {
        "id": "MkdljWKmaTSC"
      },
      "execution_count": null,
      "outputs": []
    },
    {
      "cell_type": "code",
      "source": [
        "# グリッドサーチで最適なハイパーパラメータを探す\n",
        "grid_search = GridSearchCV( DecisionTreeClassifier(random_state=0), param_grid=param_grid, cv=5)\n",
        "grid_search.fit(X_train, y_train.values.ravel())\n",
        "\n",
        "# 以下適切なコードを書くこと\n"
      ],
      "metadata": {
        "id": "wZfp-XXCT5DD"
      },
      "execution_count": null,
      "outputs": []
    }
  ]
}