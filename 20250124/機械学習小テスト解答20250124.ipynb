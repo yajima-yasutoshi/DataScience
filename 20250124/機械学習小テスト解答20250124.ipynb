{
  "nbformat": 4,
  "nbformat_minor": 0,
  "metadata": {
    "colab": {
      "provenance": [],
      "collapsed_sections": [
        "DSwFQUGOD0iT"
      ],
      "include_colab_link": true
    },
    "kernelspec": {
      "name": "python3",
      "display_name": "Python 3"
    },
    "language_info": {
      "name": "python"
    }
  },
  "cells": [
    {
      "cell_type": "markdown",
      "metadata": {
        "id": "view-in-github",
        "colab_type": "text"
      },
      "source": [
        "<a href=\"https://colab.research.google.com/github/yajima-yasutoshi/DataScience/blob/main/20250124/%E6%A9%9F%E6%A2%B0%E5%AD%A6%E7%BF%92%E5%B0%8F%E3%83%86%E3%82%B9%E3%83%88%E8%A7%A3%E7%AD%9420250124.ipynb\" target=\"_parent\"><img src=\"https://colab.research.google.com/assets/colab-badge.svg\" alt=\"Open In Colab\"/></a>"
      ]
    },
    {
      "cell_type": "markdown",
      "source": [
        "# 小テスト解答\n"
      ],
      "metadata": {
        "id": "DSwFQUGOD0iT"
      }
    },
    {
      "cell_type": "markdown",
      "source": [
        "# 準備\n"
      ],
      "metadata": {
        "id": "8zFBC9q961jw"
      }
    },
    {
      "cell_type": "markdown",
      "source": [
        "## 日本語環境のインストールと必要なライブラリーのインポート"
      ],
      "metadata": {
        "id": "ZcX_E1F-64Qu"
      }
    },
    {
      "cell_type": "code",
      "source": [
        "# 日本語環境のインストール\n",
        "!pip install japanize-matplotlib\n",
        "\n",
        "# 必要なライブラリをインポート\n",
        "import numpy as np\n",
        "import pandas as pd\n",
        "import seaborn as sns\n",
        "import matplotlib.pyplot as plt\n",
        "import japanize_matplotlib\n",
        "\n",
        "# 必要なライブラリのインポート\n",
        "from sklearn.model_selection import train_test_split\n",
        "from sklearn.preprocessing import StandardScaler\n",
        "\n",
        "from sklearn.model_selection import train_test_split, GridSearchCV\n",
        "\n",
        "# 決定木に必要なライブラリー\n",
        "from sklearn.tree import DecisionTreeClassifier, plot_tree\n",
        "\n",
        "# ランダムフォレストに必要なライブラリー\n",
        "from sklearn.ensemble import RandomForestClassifier\n",
        "\n",
        "# その他必要なライブラリー\n",
        "from sklearn.metrics import accuracy_score\n",
        "from sklearn.metrics import confusion_matrix"
      ],
      "metadata": {
        "id": "g9TNYrU66eru"
      },
      "execution_count": null,
      "outputs": []
    },
    {
      "cell_type": "markdown",
      "source": [
        "### Titanic データ"
      ],
      "metadata": {
        "id": "W8mberWjkoPn"
      }
    },
    {
      "cell_type": "code",
      "source": [
        "# データを読み込む\n",
        "data = sns.load_dataset(\"titanic\") #タイタニックのデータ\n",
        "\n",
        "# 欠損値を埋める\n",
        "data['age'] = data['age'].fillna(data['age'].mean() )\n",
        "data['embarked'] = data['embarked'].fillna(data['embarked'].mode()[0] )\n",
        "data['embark_town'] = data['embark_town'].fillna(data['embark_town'].mode()[0] )\n",
        "\n",
        "# 説明変数と目的変数を設定\n",
        "X = data[['age', 'fare', 'sibsp', 'parch']]\n",
        "y = data['survived']\n",
        "\n",
        "# 決定木に必要なライブラリー\n",
        "from sklearn.tree import DecisionTreeClassifier\n",
        "\n",
        "# 決定木の準備\n",
        "model = DecisionTreeClassifier(max_depth=2, random_state=25)\n",
        "\n",
        "# 学習\n",
        "model.fit(X, y.values.ravel())\n",
        "\n",
        "# 決定木を可視化する\n",
        "plt.figure(figsize=(16,7))\n",
        "plot_tree(model, filled=True, feature_names=X.columns[:-1], class_names=['0(死亡)','1(生存)'])\n",
        "plt.show()"
      ],
      "metadata": {
        "id": "o8GrukeQvqcT"
      },
      "execution_count": null,
      "outputs": []
    },
    {
      "cell_type": "code",
      "source": [
        "# データを読み込む\n",
        "data = sns.load_dataset(\"titanic\") #タイタニックのデータ\n",
        "\n",
        "# 欠損値を埋める\n",
        "data['age'] = data['age'].fillna(data['age'].mean() )\n",
        "data['embarked'] = data['embarked'].fillna(data['embarked'].mode()[0] )\n",
        "data['embark_town'] = data['embark_town'].fillna(data['embark_town'].mode()[0] )\n",
        "\n",
        "# 説明変数と目的変数を設定\n",
        "X = data[['age', 'fare', 'sibsp', 'parch']]\n",
        "y = data['survived']\n",
        "\n",
        "# 決定木に必要なライブラリー\n",
        "from sklearn.tree import DecisionTreeClassifier\n",
        "\n",
        "# 決定木の準備\n",
        "model = DecisionTreeClassifier(max_depth=3, random_state=25)\n",
        "\n",
        "# 学習\n",
        "model.fit(X, y.values.ravel())\n",
        "\n",
        "\n",
        "# 決定木を可視化する\n",
        "plt.figure(figsize=(16,8))\n",
        "plot_tree(model, filled=True, feature_names=X.columns[:-1], class_names=['0(死亡)','1(生存)'])\n",
        "plt.show()"
      ],
      "metadata": {
        "id": "csrb2oS6s_D1"
      },
      "execution_count": null,
      "outputs": []
    },
    {
      "cell_type": "markdown",
      "source": [
        "#【参考】詳しい説明が書かれたサイト\n",
        "\n",
        "各モジュールの詳しい使い方は以下のサイトに記載されている。\n",
        "\n",
        "* 決定木 https://scikit-learn.org/stable/api/sklearn.tree.html\n",
        "\n",
        "* ランダムフォレスト\n",
        "https://scikit-learn.org/stable/modules/generated/sklearn.ensemble.RandomForestClassifier.html\n"
      ],
      "metadata": {
        "id": "JCJUulT9-jTY"
      }
    }
  ]
}