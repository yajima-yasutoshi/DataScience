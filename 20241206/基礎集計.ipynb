{
  "nbformat": 4,
  "nbformat_minor": 0,
  "metadata": {
    "colab": {
      "provenance": [],
      "collapsed_sections": [
        "IPTN-WrP7iux",
        "mAt7NlnQAheK",
        "mwovNNXn-2sl",
        "qUXrtNpMSfre",
        "CI6sTnJRsQxb"
      ],
      "toc_visible": true,
      "mount_file_id": "1eKJwZpQopgL7sPrB4xDZngZEWFmokr5u",
      "authorship_tag": "ABX9TyPpbl/gAvAwZjm2WKPpRW2g",
      "include_colab_link": true
    },
    "kernelspec": {
      "name": "python3",
      "display_name": "Python 3"
    },
    "language_info": {
      "name": "python"
    }
  },
  "cells": [
    {
      "cell_type": "markdown",
      "metadata": {
        "id": "view-in-github",
        "colab_type": "text"
      },
      "source": [
        "<a href=\"https://colab.research.google.com/github/yajima-yasutoshi/DataScience/blob/main/20241206/%E5%9F%BA%E7%A4%8E%E9%9B%86%E8%A8%88.ipynb\" target=\"_parent\"><img src=\"https://colab.research.google.com/assets/colab-badge.svg\" alt=\"Open In Colab\"/></a>"
      ]
    },
    {
      "cell_type": "markdown",
      "source": [
        "# 基礎集計"
      ],
      "metadata": {
        "id": "OYxLBvA1ik_8"
      }
    },
    {
      "cell_type": "markdown",
      "source": [
        "## 資料保管場所\n",
        "\n",
        "20241206"
      ],
      "metadata": {
        "id": "g8YJ3oojiqNa"
      }
    },
    {
      "cell_type": "markdown",
      "source": [
        "# 講義の目的\n",
        "\n",
        "データ分析の基本となるデータの操作方法を理解する。\n",
        "\n",
        "*   Pandas データフレームの基本的な操作法\n",
        "  * データの読み込み\n",
        "  * データの加工や変換\n",
        "\n",
        "*   基礎集計（データ集計）"
      ],
      "metadata": {
        "id": "_RqzmktfLtac"
      }
    },
    {
      "cell_type": "markdown",
      "source": [
        "#準備\n",
        "日本語を表示するための準備と、\n",
        "データ分析に必要な Python ライブラリー（モジュール）のインストールと読み込みを実施する。\n",
        "\n",
        "データ分析で必要となる主なモジュールとその機能は以下の通り。\n",
        "\n",
        "\n",
        "*   numpy：数値計算\n",
        "*   pandas：主にデータ加工\n",
        "*   matplotlib：グラフを作成\n",
        "*   japanize_matplotlib：日本語の表示用\n",
        "*   seaborn：グラフ作成\n",
        "\n"
      ],
      "metadata": {
        "id": "IPTN-WrP7iux"
      }
    },
    {
      "cell_type": "code",
      "source": [
        "# 日本語を表示する準備\n",
        "!pip install japanize-matplotlib\n",
        "\n",
        "# 分析で必要となるライブラリーの読み込み\n",
        "import numpy as np\n",
        "import pandas as pd\n",
        "import matplotlib.pyplot as plt\n",
        "import japanize_matplotlib\n",
        "import seaborn as sns"
      ],
      "metadata": {
        "id": "TXJ4eLnaaS74",
        "colab": {
          "base_uri": "https://localhost:8080/"
        },
        "outputId": "0c947d0d-b1ff-4b7d-e409-8bab01ca50cf"
      },
      "execution_count": null,
      "outputs": [
        {
          "output_type": "stream",
          "name": "stdout",
          "text": [
            "Collecting japanize-matplotlib\n",
            "  Downloading japanize-matplotlib-1.1.3.tar.gz (4.1 MB)\n",
            "\u001b[2K     \u001b[90m━━━━━━━━━━━━━━━━━━━━━━━━━━━━━━━━━━━━━━━━\u001b[0m \u001b[32m4.1/4.1 MB\u001b[0m \u001b[31m13.9 MB/s\u001b[0m eta \u001b[36m0:00:00\u001b[0m\n",
            "\u001b[?25h  Preparing metadata (setup.py) ... \u001b[?25l\u001b[?25hdone\n",
            "Requirement already satisfied: matplotlib in /usr/local/lib/python3.10/dist-packages (from japanize-matplotlib) (3.8.0)\n",
            "Requirement already satisfied: contourpy>=1.0.1 in /usr/local/lib/python3.10/dist-packages (from matplotlib->japanize-matplotlib) (1.3.0)\n",
            "Requirement already satisfied: cycler>=0.10 in /usr/local/lib/python3.10/dist-packages (from matplotlib->japanize-matplotlib) (0.12.1)\n",
            "Requirement already satisfied: fonttools>=4.22.0 in /usr/local/lib/python3.10/dist-packages (from matplotlib->japanize-matplotlib) (4.54.1)\n",
            "Requirement already satisfied: kiwisolver>=1.0.1 in /usr/local/lib/python3.10/dist-packages (from matplotlib->japanize-matplotlib) (1.4.7)\n",
            "Requirement already satisfied: numpy<2,>=1.21 in /usr/local/lib/python3.10/dist-packages (from matplotlib->japanize-matplotlib) (1.26.4)\n",
            "Requirement already satisfied: packaging>=20.0 in /usr/local/lib/python3.10/dist-packages (from matplotlib->japanize-matplotlib) (24.2)\n",
            "Requirement already satisfied: pillow>=6.2.0 in /usr/local/lib/python3.10/dist-packages (from matplotlib->japanize-matplotlib) (11.0.0)\n",
            "Requirement already satisfied: pyparsing>=2.3.1 in /usr/local/lib/python3.10/dist-packages (from matplotlib->japanize-matplotlib) (3.2.0)\n",
            "Requirement already satisfied: python-dateutil>=2.7 in /usr/local/lib/python3.10/dist-packages (from matplotlib->japanize-matplotlib) (2.8.2)\n",
            "Requirement already satisfied: six>=1.5 in /usr/local/lib/python3.10/dist-packages (from python-dateutil>=2.7->matplotlib->japanize-matplotlib) (1.16.0)\n",
            "Building wheels for collected packages: japanize-matplotlib\n",
            "  Building wheel for japanize-matplotlib (setup.py) ... \u001b[?25l\u001b[?25hdone\n",
            "  Created wheel for japanize-matplotlib: filename=japanize_matplotlib-1.1.3-py3-none-any.whl size=4120257 sha256=ca51ecb3493b621f0cc18a27bcff6d8dd8b50d72d71b498db7b1e95c94afb308\n",
            "  Stored in directory: /root/.cache/pip/wheels/61/7a/6b/df1f79be9c59862525070e157e62b08eab8ece27c1b68fbb94\n",
            "Successfully built japanize-matplotlib\n",
            "Installing collected packages: japanize-matplotlib\n",
            "Successfully installed japanize-matplotlib-1.1.3\n"
          ]
        }
      ]
    },
    {
      "cell_type": "markdown",
      "source": [
        "## モジュールを使うための命令文\n",
        "\n",
        "Python言語では、様々な機能が「モジュール」として提供されている。\n",
        "例えば、この講義ではデータ分析に欠かせない Pandas や、\n",
        "機械学習を行うための sklearn （サイキットラーン）などを用いる。\n",
        "\n",
        "モジュールを使うためには、\n",
        "プログラムの中に以下のようは import 文が必要である。\n",
        "```\n",
        "import モジュール名\n",
        "```\n",
        "\n",
        "モジュール名が長い場合、以下のように  「as ○○」とすることで\n",
        "名前を短縮できる。\n",
        "短縮名は自由に変更が可能である。\n",
        "\n",
        "```\n",
        "import モジュール名 as 短縮名\n",
        "```\n",
        "\n",
        "例えば、pandas モジュールは、\n",
        "```\n",
        "import pandas as pd\n",
        "```\n",
        "とすることで、pd と省略して用いることが多い。"
      ],
      "metadata": {
        "id": "hp66wOlGq3_n"
      }
    },
    {
      "cell_type": "markdown",
      "source": [
        "## データ準備\n",
        "データを Google Colab の環境で使うための手順は以下の通りである。\n",
        "\n",
        "\n",
        "### ファイルの取得\n",
        "\n",
        "今回の講義で必要となるデータは、以下のサイト\n",
        "\n",
        "https://github.com/yajima-yasutoshi/shunan-u/tree/main/data\n",
        "\n",
        "に保存されている customer_data.xlsx である。\n",
        "このファイルを各自の PC にダウンロードする。\n",
        "ダウンロードする PC のフォルダーはどこでも構わない。\n",
        "\n",
        "### ファイルのGoogle Drive へのアップロード\n",
        "1. Google Drive で適当なフォルダーを作成\n",
        "2. PCのファイルをドラッグ＆ドロップでアップロードする。  \n",
        "あるいは、Google Driveで右クリックでメニューを開き、ファイルのアップロードを選択してもアップロードが可能である。\n",
        "\n",
        "### ドライブのマウント\n",
        "1. Colabにて、左端のフォルダーのアイコンをクリックし、ファイルメニューを開く。\n",
        "1. マウントアイコンをクリックし Google Driveをマウントする。\n",
        "1. drive の中の「MyDrive」が Google Drive のマイドライブとなる。\n",
        "\n",
        "  なお、一度設定すると、次回以降はノートブックを開くと自動的にマウントされる。\n",
        "\n",
        "### Colabでファイルパスの取得\n",
        "1. Driveメニューで目的のファイルにマウスを合わせ、ファイル名の右にある縦3つの「・」部分をクリックして「パスをコピー」を選択する。\n",
        "1. プログラムコードの中で、ctrl+v でコピーされる。"
      ],
      "metadata": {
        "id": "p9PmCg4E75Et"
      }
    },
    {
      "cell_type": "markdown",
      "source": [
        "# データをファイルから読み込む\n"
      ],
      "metadata": {
        "id": "1qbshOJilmnM"
      }
    },
    {
      "cell_type": "markdown",
      "source": [
        "エクセルファイルをPython環境に読み込むためには、\n",
        "Pandas モジュールの read_excel() 関数を使う。\n",
        "\n",
        "以下のコードセルを実行することで、\n",
        "変数 file_path で指定したエクセルファイルのデータが\n",
        "変数 data に格納される。\n",
        "\n",
        "\n",
        "\n",
        "\n",
        "変数 data は、**データフレーム**と呼ばれる。\n"
      ],
      "metadata": {
        "id": "g0EOTGBEmGPB"
      }
    },
    {
      "cell_type": "code",
      "source": [
        "import pandas as pd\n",
        "# 読み込むファイルを指定する\n",
        "# ファイルパスは、シングルクオーテーションで囲む必要がある。\n",
        "file_path = '/content/drive/MyDrive/データマイニング/customer_data.xlsx'\n",
        "\n",
        "# ファイルのデータを data という変数に読み込む\n",
        "data = pd.read_excel(file_path)"
      ],
      "metadata": {
        "id": "XlK06fuGmGPB"
      },
      "execution_count": null,
      "outputs": []
    },
    {
      "cell_type": "markdown",
      "source": [
        "Pandas モジュールをインポートする際に、\n",
        "```\n",
        "import pandas as pd\n",
        "```\n",
        "と **pd** という省略名を付与たので\n",
        "\n",
        "```\n",
        "pd.read_excel(file_path)\n",
        "```\n",
        "としていることに注意する。"
      ],
      "metadata": {
        "id": "oJUk_FdprCqc"
      }
    },
    {
      "cell_type": "markdown",
      "source": [
        "#データの構造把握\n",
        "\n",
        "データフレームに読み込まれたデータの構造を把握する\n",
        "ための方法について説明する。"
      ],
      "metadata": {
        "id": "hzx6m3x8n9Nd"
      }
    },
    {
      "cell_type": "markdown",
      "source": [
        "## 項目の一覧\n",
        "\n",
        "info() 関数を実行すると、\n",
        "データの項目一覧が得られる。"
      ],
      "metadata": {
        "id": "rYiDk2nioVRx"
      }
    },
    {
      "cell_type": "code",
      "source": [
        "#データの項目一覧の表示\n",
        "data.info()"
      ],
      "metadata": {
        "id": "2UCphamJbWLC",
        "colab": {
          "base_uri": "https://localhost:8080/"
        },
        "outputId": "8664020f-d994-4a6d-d9e3-20e9a26959c3"
      },
      "execution_count": null,
      "outputs": [
        {
          "output_type": "stream",
          "name": "stdout",
          "text": [
            "<class 'pandas.core.frame.DataFrame'>\n",
            "RangeIndex: 500 entries, 0 to 499\n",
            "Data columns (total 9 columns):\n",
            " #   Column   Non-Null Count  Dtype  \n",
            "---  ------   --------------  -----  \n",
            " 0   顧客ID     500 non-null    int64  \n",
            " 1   性別       497 non-null    object \n",
            " 2   年齢       496 non-null    float64\n",
            " 3   職業       499 non-null    object \n",
            " 4   年収       500 non-null    int64  \n",
            " 5   スマホの所有   500 non-null    object \n",
            " 6   スマホ利用時間  500 non-null    float64\n",
            " 7   Aの利用回数   499 non-null    float64\n",
            " 8   Bの利用回数   500 non-null    int64  \n",
            "dtypes: float64(3), int64(3), object(3)\n",
            "memory usage: 35.3+ KB\n"
          ]
        }
      ]
    },
    {
      "cell_type": "markdown",
      "source": [
        "各項目の型は Dtype に示されている。\n",
        "Dtype と型の関係性は以下のとおりである。\n",
        "\n",
        "Dtype | 型\n",
        "-- | --\n",
        "datetime?? | 日付型\n",
        "int??, float?? | 数値型\n",
        "object | カテゴリ型\n"
      ],
      "metadata": {
        "id": "y-q17KtxAo-b"
      }
    },
    {
      "cell_type": "markdown",
      "source": [
        "##データの定義 (各列の説明)\n",
        "\n",
        "customer_data.xlsx は、\n",
        "あるサービスに登録したユーザのデータである。\n",
        "各項目の意味は以下の通りである。\n",
        "\n",
        "\n",
        "列名 | 型 | 説明\n",
        "--   | -- | --\n",
        "顧客ID | 数値（整数） |\n",
        "性別\t | カテゴリ型 |\n",
        "年齢\t | 数値（整数）|\n",
        "職業\t | カテゴリ型|\n",
        "年収\t | 数値（整数）|\n",
        "スマホの所有\t| カテゴリ型 |\n",
        "スマホ利用時間\t| 数値（実数）| 1日の平均使用時間\n",
        "Aの利用回数\t|  数値（整数）| サービスＡの利用回数\n",
        "Bの利用回数 |  数値（整数） | サービスＢの利用回数\n"
      ],
      "metadata": {
        "id": "4C4u1s2uoJQp"
      }
    },
    {
      "cell_type": "markdown",
      "source": [
        "## 行数と列数表示\n",
        "\n",
        "データの行数と列数を調べるためには、shape を用いる。"
      ],
      "metadata": {
        "id": "2Qd9OLCNnlwK"
      }
    },
    {
      "cell_type": "code",
      "source": [
        "data.shape"
      ],
      "metadata": {
        "id": "6WPtHYI09r95",
        "colab": {
          "base_uri": "https://localhost:8080/"
        },
        "outputId": "f05d90e9-70dc-4a53-9291-25c56a9899aa"
      },
      "execution_count": null,
      "outputs": [
        {
          "output_type": "execute_result",
          "data": {
            "text/plain": [
              "(500, 9)"
            ]
          },
          "metadata": {},
          "execution_count": 5
        }
      ]
    },
    {
      "cell_type": "markdown",
      "source": [
        "data.shape は要素が2つある。\n",
        "最初の要素がレコード数、2番目の要素が項目数である。\n",
        "\n",
        "もし、レコード数のみを得たいのであれば以下のようにすればよい。"
      ],
      "metadata": {
        "id": "cKNzsZGjXWKK"
      }
    },
    {
      "cell_type": "code",
      "source": [
        "data.shape[0]"
      ],
      "metadata": {
        "id": "6eQsO8eVlm8o"
      },
      "execution_count": null,
      "outputs": []
    },
    {
      "cell_type": "markdown",
      "source": [
        "## データを表示\n",
        "head() を使うことで、\n",
        "データの内容を表示させることが可能である。\n"
      ],
      "metadata": {
        "id": "N9DLRD3dZWwc"
      }
    },
    {
      "cell_type": "code",
      "source": [
        "# データの最初の10行を表示する\n",
        "pd.options.display.float_format = '{:.2f}'.format  # 小数点以下2桁で表示\n",
        "data.head(10)"
      ],
      "metadata": {
        "id": "Dj_AjG6wG-y6",
        "colab": {
          "base_uri": "https://localhost:8080/",
          "height": 363
        },
        "outputId": "6c58afb8-3032-4092-d997-9a45875cd572"
      },
      "execution_count": null,
      "outputs": [
        {
          "output_type": "execute_result",
          "data": {
            "text/plain": [
              "       顧客ID  性別    年齢   職業   年収 スマホの所有  スマホ利用時間  Aの利用回数  Bの利用回数\n",
              "0  81336944  男性   NaN  会社員  393     はい     1.67    1.00      12\n",
              "1  41990933  女性 51.00  NaN  450     はい     2.44    0.00      11\n",
              "2  84494791  男性 45.00  会社員  497     はい     0.69    1.00      21\n",
              "3  29406622  女性 27.00  公務員  313     はい     1.40     NaN       8\n",
              "4  20205360  女性 61.00  会社員  292     はい     1.77    2.00      24\n",
              "5  55928989  男性 39.00  公務員  317     はい     1.60    1.00      11\n",
              "6  46119309  女性 12.00   学生    0    いいえ     0.00    4.00       8\n",
              "7  81075284  男性 12.00   学生    0    いいえ     0.00   11.00      13\n",
              "8  39537381  男性 16.00  その他  214     はい     1.14   13.00      19\n",
              "9  41429479  男性 59.00  公務員  935    いいえ     0.00    3.00      13"
            ],
            "text/html": [
              "\n",
              "  <div id=\"df-3e0dc5c9-ebf2-4446-abc4-02d2ef736e1b\" class=\"colab-df-container\">\n",
              "    <div>\n",
              "<style scoped>\n",
              "    .dataframe tbody tr th:only-of-type {\n",
              "        vertical-align: middle;\n",
              "    }\n",
              "\n",
              "    .dataframe tbody tr th {\n",
              "        vertical-align: top;\n",
              "    }\n",
              "\n",
              "    .dataframe thead th {\n",
              "        text-align: right;\n",
              "    }\n",
              "</style>\n",
              "<table border=\"1\" class=\"dataframe\">\n",
              "  <thead>\n",
              "    <tr style=\"text-align: right;\">\n",
              "      <th></th>\n",
              "      <th>顧客ID</th>\n",
              "      <th>性別</th>\n",
              "      <th>年齢</th>\n",
              "      <th>職業</th>\n",
              "      <th>年収</th>\n",
              "      <th>スマホの所有</th>\n",
              "      <th>スマホ利用時間</th>\n",
              "      <th>Aの利用回数</th>\n",
              "      <th>Bの利用回数</th>\n",
              "    </tr>\n",
              "  </thead>\n",
              "  <tbody>\n",
              "    <tr>\n",
              "      <th>0</th>\n",
              "      <td>81336944</td>\n",
              "      <td>男性</td>\n",
              "      <td>NaN</td>\n",
              "      <td>会社員</td>\n",
              "      <td>393</td>\n",
              "      <td>はい</td>\n",
              "      <td>1.67</td>\n",
              "      <td>1.00</td>\n",
              "      <td>12</td>\n",
              "    </tr>\n",
              "    <tr>\n",
              "      <th>1</th>\n",
              "      <td>41990933</td>\n",
              "      <td>女性</td>\n",
              "      <td>51.00</td>\n",
              "      <td>NaN</td>\n",
              "      <td>450</td>\n",
              "      <td>はい</td>\n",
              "      <td>2.44</td>\n",
              "      <td>0.00</td>\n",
              "      <td>11</td>\n",
              "    </tr>\n",
              "    <tr>\n",
              "      <th>2</th>\n",
              "      <td>84494791</td>\n",
              "      <td>男性</td>\n",
              "      <td>45.00</td>\n",
              "      <td>会社員</td>\n",
              "      <td>497</td>\n",
              "      <td>はい</td>\n",
              "      <td>0.69</td>\n",
              "      <td>1.00</td>\n",
              "      <td>21</td>\n",
              "    </tr>\n",
              "    <tr>\n",
              "      <th>3</th>\n",
              "      <td>29406622</td>\n",
              "      <td>女性</td>\n",
              "      <td>27.00</td>\n",
              "      <td>公務員</td>\n",
              "      <td>313</td>\n",
              "      <td>はい</td>\n",
              "      <td>1.40</td>\n",
              "      <td>NaN</td>\n",
              "      <td>8</td>\n",
              "    </tr>\n",
              "    <tr>\n",
              "      <th>4</th>\n",
              "      <td>20205360</td>\n",
              "      <td>女性</td>\n",
              "      <td>61.00</td>\n",
              "      <td>会社員</td>\n",
              "      <td>292</td>\n",
              "      <td>はい</td>\n",
              "      <td>1.77</td>\n",
              "      <td>2.00</td>\n",
              "      <td>24</td>\n",
              "    </tr>\n",
              "    <tr>\n",
              "      <th>5</th>\n",
              "      <td>55928989</td>\n",
              "      <td>男性</td>\n",
              "      <td>39.00</td>\n",
              "      <td>公務員</td>\n",
              "      <td>317</td>\n",
              "      <td>はい</td>\n",
              "      <td>1.60</td>\n",
              "      <td>1.00</td>\n",
              "      <td>11</td>\n",
              "    </tr>\n",
              "    <tr>\n",
              "      <th>6</th>\n",
              "      <td>46119309</td>\n",
              "      <td>女性</td>\n",
              "      <td>12.00</td>\n",
              "      <td>学生</td>\n",
              "      <td>0</td>\n",
              "      <td>いいえ</td>\n",
              "      <td>0.00</td>\n",
              "      <td>4.00</td>\n",
              "      <td>8</td>\n",
              "    </tr>\n",
              "    <tr>\n",
              "      <th>7</th>\n",
              "      <td>81075284</td>\n",
              "      <td>男性</td>\n",
              "      <td>12.00</td>\n",
              "      <td>学生</td>\n",
              "      <td>0</td>\n",
              "      <td>いいえ</td>\n",
              "      <td>0.00</td>\n",
              "      <td>11.00</td>\n",
              "      <td>13</td>\n",
              "    </tr>\n",
              "    <tr>\n",
              "      <th>8</th>\n",
              "      <td>39537381</td>\n",
              "      <td>男性</td>\n",
              "      <td>16.00</td>\n",
              "      <td>その他</td>\n",
              "      <td>214</td>\n",
              "      <td>はい</td>\n",
              "      <td>1.14</td>\n",
              "      <td>13.00</td>\n",
              "      <td>19</td>\n",
              "    </tr>\n",
              "    <tr>\n",
              "      <th>9</th>\n",
              "      <td>41429479</td>\n",
              "      <td>男性</td>\n",
              "      <td>59.00</td>\n",
              "      <td>公務員</td>\n",
              "      <td>935</td>\n",
              "      <td>いいえ</td>\n",
              "      <td>0.00</td>\n",
              "      <td>3.00</td>\n",
              "      <td>13</td>\n",
              "    </tr>\n",
              "  </tbody>\n",
              "</table>\n",
              "</div>\n",
              "    <div class=\"colab-df-buttons\">\n",
              "\n",
              "  <div class=\"colab-df-container\">\n",
              "    <button class=\"colab-df-convert\" onclick=\"convertToInteractive('df-3e0dc5c9-ebf2-4446-abc4-02d2ef736e1b')\"\n",
              "            title=\"Convert this dataframe to an interactive table.\"\n",
              "            style=\"display:none;\">\n",
              "\n",
              "  <svg xmlns=\"http://www.w3.org/2000/svg\" height=\"24px\" viewBox=\"0 -960 960 960\">\n",
              "    <path d=\"M120-120v-720h720v720H120Zm60-500h600v-160H180v160Zm220 220h160v-160H400v160Zm0 220h160v-160H400v160ZM180-400h160v-160H180v160Zm440 0h160v-160H620v160ZM180-180h160v-160H180v160Zm440 0h160v-160H620v160Z\"/>\n",
              "  </svg>\n",
              "    </button>\n",
              "\n",
              "  <style>\n",
              "    .colab-df-container {\n",
              "      display:flex;\n",
              "      gap: 12px;\n",
              "    }\n",
              "\n",
              "    .colab-df-convert {\n",
              "      background-color: #E8F0FE;\n",
              "      border: none;\n",
              "      border-radius: 50%;\n",
              "      cursor: pointer;\n",
              "      display: none;\n",
              "      fill: #1967D2;\n",
              "      height: 32px;\n",
              "      padding: 0 0 0 0;\n",
              "      width: 32px;\n",
              "    }\n",
              "\n",
              "    .colab-df-convert:hover {\n",
              "      background-color: #E2EBFA;\n",
              "      box-shadow: 0px 1px 2px rgba(60, 64, 67, 0.3), 0px 1px 3px 1px rgba(60, 64, 67, 0.15);\n",
              "      fill: #174EA6;\n",
              "    }\n",
              "\n",
              "    .colab-df-buttons div {\n",
              "      margin-bottom: 4px;\n",
              "    }\n",
              "\n",
              "    [theme=dark] .colab-df-convert {\n",
              "      background-color: #3B4455;\n",
              "      fill: #D2E3FC;\n",
              "    }\n",
              "\n",
              "    [theme=dark] .colab-df-convert:hover {\n",
              "      background-color: #434B5C;\n",
              "      box-shadow: 0px 1px 3px 1px rgba(0, 0, 0, 0.15);\n",
              "      filter: drop-shadow(0px 1px 2px rgba(0, 0, 0, 0.3));\n",
              "      fill: #FFFFFF;\n",
              "    }\n",
              "  </style>\n",
              "\n",
              "    <script>\n",
              "      const buttonEl =\n",
              "        document.querySelector('#df-3e0dc5c9-ebf2-4446-abc4-02d2ef736e1b button.colab-df-convert');\n",
              "      buttonEl.style.display =\n",
              "        google.colab.kernel.accessAllowed ? 'block' : 'none';\n",
              "\n",
              "      async function convertToInteractive(key) {\n",
              "        const element = document.querySelector('#df-3e0dc5c9-ebf2-4446-abc4-02d2ef736e1b');\n",
              "        const dataTable =\n",
              "          await google.colab.kernel.invokeFunction('convertToInteractive',\n",
              "                                                    [key], {});\n",
              "        if (!dataTable) return;\n",
              "\n",
              "        const docLinkHtml = 'Like what you see? Visit the ' +\n",
              "          '<a target=\"_blank\" href=https://colab.research.google.com/notebooks/data_table.ipynb>data table notebook</a>'\n",
              "          + ' to learn more about interactive tables.';\n",
              "        element.innerHTML = '';\n",
              "        dataTable['output_type'] = 'display_data';\n",
              "        await google.colab.output.renderOutput(dataTable, element);\n",
              "        const docLink = document.createElement('div');\n",
              "        docLink.innerHTML = docLinkHtml;\n",
              "        element.appendChild(docLink);\n",
              "      }\n",
              "    </script>\n",
              "  </div>\n",
              "\n",
              "\n",
              "<div id=\"df-07e248fb-c351-4b02-970a-d82d535ca17e\">\n",
              "  <button class=\"colab-df-quickchart\" onclick=\"quickchart('df-07e248fb-c351-4b02-970a-d82d535ca17e')\"\n",
              "            title=\"Suggest charts\"\n",
              "            style=\"display:none;\">\n",
              "\n",
              "<svg xmlns=\"http://www.w3.org/2000/svg\" height=\"24px\"viewBox=\"0 0 24 24\"\n",
              "     width=\"24px\">\n",
              "    <g>\n",
              "        <path d=\"M19 3H5c-1.1 0-2 .9-2 2v14c0 1.1.9 2 2 2h14c1.1 0 2-.9 2-2V5c0-1.1-.9-2-2-2zM9 17H7v-7h2v7zm4 0h-2V7h2v10zm4 0h-2v-4h2v4z\"/>\n",
              "    </g>\n",
              "</svg>\n",
              "  </button>\n",
              "\n",
              "<style>\n",
              "  .colab-df-quickchart {\n",
              "      --bg-color: #E8F0FE;\n",
              "      --fill-color: #1967D2;\n",
              "      --hover-bg-color: #E2EBFA;\n",
              "      --hover-fill-color: #174EA6;\n",
              "      --disabled-fill-color: #AAA;\n",
              "      --disabled-bg-color: #DDD;\n",
              "  }\n",
              "\n",
              "  [theme=dark] .colab-df-quickchart {\n",
              "      --bg-color: #3B4455;\n",
              "      --fill-color: #D2E3FC;\n",
              "      --hover-bg-color: #434B5C;\n",
              "      --hover-fill-color: #FFFFFF;\n",
              "      --disabled-bg-color: #3B4455;\n",
              "      --disabled-fill-color: #666;\n",
              "  }\n",
              "\n",
              "  .colab-df-quickchart {\n",
              "    background-color: var(--bg-color);\n",
              "    border: none;\n",
              "    border-radius: 50%;\n",
              "    cursor: pointer;\n",
              "    display: none;\n",
              "    fill: var(--fill-color);\n",
              "    height: 32px;\n",
              "    padding: 0;\n",
              "    width: 32px;\n",
              "  }\n",
              "\n",
              "  .colab-df-quickchart:hover {\n",
              "    background-color: var(--hover-bg-color);\n",
              "    box-shadow: 0 1px 2px rgba(60, 64, 67, 0.3), 0 1px 3px 1px rgba(60, 64, 67, 0.15);\n",
              "    fill: var(--button-hover-fill-color);\n",
              "  }\n",
              "\n",
              "  .colab-df-quickchart-complete:disabled,\n",
              "  .colab-df-quickchart-complete:disabled:hover {\n",
              "    background-color: var(--disabled-bg-color);\n",
              "    fill: var(--disabled-fill-color);\n",
              "    box-shadow: none;\n",
              "  }\n",
              "\n",
              "  .colab-df-spinner {\n",
              "    border: 2px solid var(--fill-color);\n",
              "    border-color: transparent;\n",
              "    border-bottom-color: var(--fill-color);\n",
              "    animation:\n",
              "      spin 1s steps(1) infinite;\n",
              "  }\n",
              "\n",
              "  @keyframes spin {\n",
              "    0% {\n",
              "      border-color: transparent;\n",
              "      border-bottom-color: var(--fill-color);\n",
              "      border-left-color: var(--fill-color);\n",
              "    }\n",
              "    20% {\n",
              "      border-color: transparent;\n",
              "      border-left-color: var(--fill-color);\n",
              "      border-top-color: var(--fill-color);\n",
              "    }\n",
              "    30% {\n",
              "      border-color: transparent;\n",
              "      border-left-color: var(--fill-color);\n",
              "      border-top-color: var(--fill-color);\n",
              "      border-right-color: var(--fill-color);\n",
              "    }\n",
              "    40% {\n",
              "      border-color: transparent;\n",
              "      border-right-color: var(--fill-color);\n",
              "      border-top-color: var(--fill-color);\n",
              "    }\n",
              "    60% {\n",
              "      border-color: transparent;\n",
              "      border-right-color: var(--fill-color);\n",
              "    }\n",
              "    80% {\n",
              "      border-color: transparent;\n",
              "      border-right-color: var(--fill-color);\n",
              "      border-bottom-color: var(--fill-color);\n",
              "    }\n",
              "    90% {\n",
              "      border-color: transparent;\n",
              "      border-bottom-color: var(--fill-color);\n",
              "    }\n",
              "  }\n",
              "</style>\n",
              "\n",
              "  <script>\n",
              "    async function quickchart(key) {\n",
              "      const quickchartButtonEl =\n",
              "        document.querySelector('#' + key + ' button');\n",
              "      quickchartButtonEl.disabled = true;  // To prevent multiple clicks.\n",
              "      quickchartButtonEl.classList.add('colab-df-spinner');\n",
              "      try {\n",
              "        const charts = await google.colab.kernel.invokeFunction(\n",
              "            'suggestCharts', [key], {});\n",
              "      } catch (error) {\n",
              "        console.error('Error during call to suggestCharts:', error);\n",
              "      }\n",
              "      quickchartButtonEl.classList.remove('colab-df-spinner');\n",
              "      quickchartButtonEl.classList.add('colab-df-quickchart-complete');\n",
              "    }\n",
              "    (() => {\n",
              "      let quickchartButtonEl =\n",
              "        document.querySelector('#df-07e248fb-c351-4b02-970a-d82d535ca17e button');\n",
              "      quickchartButtonEl.style.display =\n",
              "        google.colab.kernel.accessAllowed ? 'block' : 'none';\n",
              "    })();\n",
              "  </script>\n",
              "</div>\n",
              "\n",
              "    </div>\n",
              "  </div>\n"
            ],
            "application/vnd.google.colaboratory.intrinsic+json": {
              "type": "dataframe",
              "variable_name": "data",
              "summary": "{\n  \"name\": \"data\",\n  \"rows\": 500,\n  \"fields\": [\n    {\n      \"column\": \"\\u9867\\u5ba2ID\",\n      \"properties\": {\n        \"dtype\": \"number\",\n        \"std\": 25439201,\n        \"min\": 10180519,\n        \"max\": 99854703,\n        \"num_unique_values\": 499,\n        \"samples\": [\n          76442793,\n          71440504,\n          55919363\n        ],\n        \"semantic_type\": \"\",\n        \"description\": \"\"\n      }\n    },\n    {\n      \"column\": \"\\u6027\\u5225\",\n      \"properties\": {\n        \"dtype\": \"category\",\n        \"num_unique_values\": 2,\n        \"samples\": [\n          \"\\u5973\\u6027\",\n          \"\\u7537\\u6027\"\n        ],\n        \"semantic_type\": \"\",\n        \"description\": \"\"\n      }\n    },\n    {\n      \"column\": \"\\u5e74\\u9f62\",\n      \"properties\": {\n        \"dtype\": \"number\",\n        \"std\": 17.79647436536463,\n        \"min\": 10.0,\n        \"max\": 130.0,\n        \"num_unique_values\": 57,\n        \"samples\": [\n          51.0,\n          12.0\n        ],\n        \"semantic_type\": \"\",\n        \"description\": \"\"\n      }\n    },\n    {\n      \"column\": \"\\u8077\\u696d\",\n      \"properties\": {\n        \"dtype\": \"category\",\n        \"num_unique_values\": 4,\n        \"samples\": [\n          \"\\u516c\\u52d9\\u54e1\",\n          \"\\u305d\\u306e\\u4ed6\"\n        ],\n        \"semantic_type\": \"\",\n        \"description\": \"\"\n      }\n    },\n    {\n      \"column\": \"\\u5e74\\u53ce\",\n      \"properties\": {\n        \"dtype\": \"number\",\n        \"std\": 294,\n        \"min\": 0,\n        \"max\": 3500,\n        \"num_unique_values\": 329,\n        \"samples\": [\n          413,\n          415\n        ],\n        \"semantic_type\": \"\",\n        \"description\": \"\"\n      }\n    },\n    {\n      \"column\": \"\\u30b9\\u30de\\u30db\\u306e\\u6240\\u6709\",\n      \"properties\": {\n        \"dtype\": \"category\",\n        \"num_unique_values\": 2,\n        \"samples\": [\n          \"\\u3044\\u3044\\u3048\",\n          \"\\u306f\\u3044\"\n        ],\n        \"semantic_type\": \"\",\n        \"description\": \"\"\n      }\n    },\n    {\n      \"column\": \"\\u30b9\\u30de\\u30db\\u5229\\u7528\\u6642\\u9593\",\n      \"properties\": {\n        \"dtype\": \"number\",\n        \"std\": 0.9617921754607659,\n        \"min\": 0.0,\n        \"max\": 6.87,\n        \"num_unique_values\": 215,\n        \"samples\": [\n          2.33,\n          2.94\n        ],\n        \"semantic_type\": \"\",\n        \"description\": \"\"\n      }\n    },\n    {\n      \"column\": \"A\\u306e\\u5229\\u7528\\u56de\\u6570\",\n      \"properties\": {\n        \"dtype\": \"number\",\n        \"std\": 3.837089227055899,\n        \"min\": 0.0,\n        \"max\": 20.0,\n        \"num_unique_values\": 21,\n        \"samples\": [\n          1.0,\n          19.0\n        ],\n        \"semantic_type\": \"\",\n        \"description\": \"\"\n      }\n    },\n    {\n      \"column\": \"B\\u306e\\u5229\\u7528\\u56de\\u6570\",\n      \"properties\": {\n        \"dtype\": \"number\",\n        \"std\": 4,\n        \"min\": 4,\n        \"max\": 31,\n        \"num_unique_values\": 25,\n        \"samples\": [\n          18,\n          22\n        ],\n        \"semantic_type\": \"\",\n        \"description\": \"\"\n      }\n    }\n  ]\n}"
            }
          },
          "metadata": {},
          "execution_count": 6
        }
      ]
    },
    {
      "cell_type": "markdown",
      "source": [
        "ここで、\n",
        "NaNと表示されているのは数値が入力されいないことを意味しており、\n",
        " **欠損値**\n",
        "あるいは\n",
        " **欠測値**\n",
        " と呼ぶ。\n"
      ],
      "metadata": {
        "id": "0jkJxTu907pz"
      }
    },
    {
      "cell_type": "code",
      "source": [
        "# 最後の 4 行を表示する\n",
        "data.tail(4)"
      ],
      "metadata": {
        "id": "dr6M8wEZ7vO1",
        "colab": {
          "base_uri": "https://localhost:8080/",
          "height": 175
        },
        "outputId": "5bfd2ad4-61ca-48f0-9c09-e3365339254c"
      },
      "execution_count": null,
      "outputs": [
        {
          "output_type": "execute_result",
          "data": {
            "text/plain": [
              "         顧客ID   性別    年齢   職業   年収 スマホの所有  スマホ利用時間  Aの利用回数  Bの利用回数\n",
              "496  30507179   男性 18.00   学生  215     はい     2.01   12.00       8\n",
              "497  30507179   男性 18.00   学生  215     はい     2.01   12.00       8\n",
              "498  59997136   男性 65.00  公務員  556    いいえ     0.00    2.00      12\n",
              "499  99854703  NaN 26.00  会社員  290     はい     1.28    9.00      18"
            ],
            "text/html": [
              "\n",
              "  <div id=\"df-0f9ff09c-eab2-4d50-8106-c0fac10934d2\" class=\"colab-df-container\">\n",
              "    <div>\n",
              "<style scoped>\n",
              "    .dataframe tbody tr th:only-of-type {\n",
              "        vertical-align: middle;\n",
              "    }\n",
              "\n",
              "    .dataframe tbody tr th {\n",
              "        vertical-align: top;\n",
              "    }\n",
              "\n",
              "    .dataframe thead th {\n",
              "        text-align: right;\n",
              "    }\n",
              "</style>\n",
              "<table border=\"1\" class=\"dataframe\">\n",
              "  <thead>\n",
              "    <tr style=\"text-align: right;\">\n",
              "      <th></th>\n",
              "      <th>顧客ID</th>\n",
              "      <th>性別</th>\n",
              "      <th>年齢</th>\n",
              "      <th>職業</th>\n",
              "      <th>年収</th>\n",
              "      <th>スマホの所有</th>\n",
              "      <th>スマホ利用時間</th>\n",
              "      <th>Aの利用回数</th>\n",
              "      <th>Bの利用回数</th>\n",
              "    </tr>\n",
              "  </thead>\n",
              "  <tbody>\n",
              "    <tr>\n",
              "      <th>496</th>\n",
              "      <td>30507179</td>\n",
              "      <td>男性</td>\n",
              "      <td>18.00</td>\n",
              "      <td>学生</td>\n",
              "      <td>215</td>\n",
              "      <td>はい</td>\n",
              "      <td>2.01</td>\n",
              "      <td>12.00</td>\n",
              "      <td>8</td>\n",
              "    </tr>\n",
              "    <tr>\n",
              "      <th>497</th>\n",
              "      <td>30507179</td>\n",
              "      <td>男性</td>\n",
              "      <td>18.00</td>\n",
              "      <td>学生</td>\n",
              "      <td>215</td>\n",
              "      <td>はい</td>\n",
              "      <td>2.01</td>\n",
              "      <td>12.00</td>\n",
              "      <td>8</td>\n",
              "    </tr>\n",
              "    <tr>\n",
              "      <th>498</th>\n",
              "      <td>59997136</td>\n",
              "      <td>男性</td>\n",
              "      <td>65.00</td>\n",
              "      <td>公務員</td>\n",
              "      <td>556</td>\n",
              "      <td>いいえ</td>\n",
              "      <td>0.00</td>\n",
              "      <td>2.00</td>\n",
              "      <td>12</td>\n",
              "    </tr>\n",
              "    <tr>\n",
              "      <th>499</th>\n",
              "      <td>99854703</td>\n",
              "      <td>NaN</td>\n",
              "      <td>26.00</td>\n",
              "      <td>会社員</td>\n",
              "      <td>290</td>\n",
              "      <td>はい</td>\n",
              "      <td>1.28</td>\n",
              "      <td>9.00</td>\n",
              "      <td>18</td>\n",
              "    </tr>\n",
              "  </tbody>\n",
              "</table>\n",
              "</div>\n",
              "    <div class=\"colab-df-buttons\">\n",
              "\n",
              "  <div class=\"colab-df-container\">\n",
              "    <button class=\"colab-df-convert\" onclick=\"convertToInteractive('df-0f9ff09c-eab2-4d50-8106-c0fac10934d2')\"\n",
              "            title=\"Convert this dataframe to an interactive table.\"\n",
              "            style=\"display:none;\">\n",
              "\n",
              "  <svg xmlns=\"http://www.w3.org/2000/svg\" height=\"24px\" viewBox=\"0 -960 960 960\">\n",
              "    <path d=\"M120-120v-720h720v720H120Zm60-500h600v-160H180v160Zm220 220h160v-160H400v160Zm0 220h160v-160H400v160ZM180-400h160v-160H180v160Zm440 0h160v-160H620v160ZM180-180h160v-160H180v160Zm440 0h160v-160H620v160Z\"/>\n",
              "  </svg>\n",
              "    </button>\n",
              "\n",
              "  <style>\n",
              "    .colab-df-container {\n",
              "      display:flex;\n",
              "      gap: 12px;\n",
              "    }\n",
              "\n",
              "    .colab-df-convert {\n",
              "      background-color: #E8F0FE;\n",
              "      border: none;\n",
              "      border-radius: 50%;\n",
              "      cursor: pointer;\n",
              "      display: none;\n",
              "      fill: #1967D2;\n",
              "      height: 32px;\n",
              "      padding: 0 0 0 0;\n",
              "      width: 32px;\n",
              "    }\n",
              "\n",
              "    .colab-df-convert:hover {\n",
              "      background-color: #E2EBFA;\n",
              "      box-shadow: 0px 1px 2px rgba(60, 64, 67, 0.3), 0px 1px 3px 1px rgba(60, 64, 67, 0.15);\n",
              "      fill: #174EA6;\n",
              "    }\n",
              "\n",
              "    .colab-df-buttons div {\n",
              "      margin-bottom: 4px;\n",
              "    }\n",
              "\n",
              "    [theme=dark] .colab-df-convert {\n",
              "      background-color: #3B4455;\n",
              "      fill: #D2E3FC;\n",
              "    }\n",
              "\n",
              "    [theme=dark] .colab-df-convert:hover {\n",
              "      background-color: #434B5C;\n",
              "      box-shadow: 0px 1px 3px 1px rgba(0, 0, 0, 0.15);\n",
              "      filter: drop-shadow(0px 1px 2px rgba(0, 0, 0, 0.3));\n",
              "      fill: #FFFFFF;\n",
              "    }\n",
              "  </style>\n",
              "\n",
              "    <script>\n",
              "      const buttonEl =\n",
              "        document.querySelector('#df-0f9ff09c-eab2-4d50-8106-c0fac10934d2 button.colab-df-convert');\n",
              "      buttonEl.style.display =\n",
              "        google.colab.kernel.accessAllowed ? 'block' : 'none';\n",
              "\n",
              "      async function convertToInteractive(key) {\n",
              "        const element = document.querySelector('#df-0f9ff09c-eab2-4d50-8106-c0fac10934d2');\n",
              "        const dataTable =\n",
              "          await google.colab.kernel.invokeFunction('convertToInteractive',\n",
              "                                                    [key], {});\n",
              "        if (!dataTable) return;\n",
              "\n",
              "        const docLinkHtml = 'Like what you see? Visit the ' +\n",
              "          '<a target=\"_blank\" href=https://colab.research.google.com/notebooks/data_table.ipynb>data table notebook</a>'\n",
              "          + ' to learn more about interactive tables.';\n",
              "        element.innerHTML = '';\n",
              "        dataTable['output_type'] = 'display_data';\n",
              "        await google.colab.output.renderOutput(dataTable, element);\n",
              "        const docLink = document.createElement('div');\n",
              "        docLink.innerHTML = docLinkHtml;\n",
              "        element.appendChild(docLink);\n",
              "      }\n",
              "    </script>\n",
              "  </div>\n",
              "\n",
              "\n",
              "<div id=\"df-f60be77e-3eb4-49cf-b2a4-9f3a42c4efd9\">\n",
              "  <button class=\"colab-df-quickchart\" onclick=\"quickchart('df-f60be77e-3eb4-49cf-b2a4-9f3a42c4efd9')\"\n",
              "            title=\"Suggest charts\"\n",
              "            style=\"display:none;\">\n",
              "\n",
              "<svg xmlns=\"http://www.w3.org/2000/svg\" height=\"24px\"viewBox=\"0 0 24 24\"\n",
              "     width=\"24px\">\n",
              "    <g>\n",
              "        <path d=\"M19 3H5c-1.1 0-2 .9-2 2v14c0 1.1.9 2 2 2h14c1.1 0 2-.9 2-2V5c0-1.1-.9-2-2-2zM9 17H7v-7h2v7zm4 0h-2V7h2v10zm4 0h-2v-4h2v4z\"/>\n",
              "    </g>\n",
              "</svg>\n",
              "  </button>\n",
              "\n",
              "<style>\n",
              "  .colab-df-quickchart {\n",
              "      --bg-color: #E8F0FE;\n",
              "      --fill-color: #1967D2;\n",
              "      --hover-bg-color: #E2EBFA;\n",
              "      --hover-fill-color: #174EA6;\n",
              "      --disabled-fill-color: #AAA;\n",
              "      --disabled-bg-color: #DDD;\n",
              "  }\n",
              "\n",
              "  [theme=dark] .colab-df-quickchart {\n",
              "      --bg-color: #3B4455;\n",
              "      --fill-color: #D2E3FC;\n",
              "      --hover-bg-color: #434B5C;\n",
              "      --hover-fill-color: #FFFFFF;\n",
              "      --disabled-bg-color: #3B4455;\n",
              "      --disabled-fill-color: #666;\n",
              "  }\n",
              "\n",
              "  .colab-df-quickchart {\n",
              "    background-color: var(--bg-color);\n",
              "    border: none;\n",
              "    border-radius: 50%;\n",
              "    cursor: pointer;\n",
              "    display: none;\n",
              "    fill: var(--fill-color);\n",
              "    height: 32px;\n",
              "    padding: 0;\n",
              "    width: 32px;\n",
              "  }\n",
              "\n",
              "  .colab-df-quickchart:hover {\n",
              "    background-color: var(--hover-bg-color);\n",
              "    box-shadow: 0 1px 2px rgba(60, 64, 67, 0.3), 0 1px 3px 1px rgba(60, 64, 67, 0.15);\n",
              "    fill: var(--button-hover-fill-color);\n",
              "  }\n",
              "\n",
              "  .colab-df-quickchart-complete:disabled,\n",
              "  .colab-df-quickchart-complete:disabled:hover {\n",
              "    background-color: var(--disabled-bg-color);\n",
              "    fill: var(--disabled-fill-color);\n",
              "    box-shadow: none;\n",
              "  }\n",
              "\n",
              "  .colab-df-spinner {\n",
              "    border: 2px solid var(--fill-color);\n",
              "    border-color: transparent;\n",
              "    border-bottom-color: var(--fill-color);\n",
              "    animation:\n",
              "      spin 1s steps(1) infinite;\n",
              "  }\n",
              "\n",
              "  @keyframes spin {\n",
              "    0% {\n",
              "      border-color: transparent;\n",
              "      border-bottom-color: var(--fill-color);\n",
              "      border-left-color: var(--fill-color);\n",
              "    }\n",
              "    20% {\n",
              "      border-color: transparent;\n",
              "      border-left-color: var(--fill-color);\n",
              "      border-top-color: var(--fill-color);\n",
              "    }\n",
              "    30% {\n",
              "      border-color: transparent;\n",
              "      border-left-color: var(--fill-color);\n",
              "      border-top-color: var(--fill-color);\n",
              "      border-right-color: var(--fill-color);\n",
              "    }\n",
              "    40% {\n",
              "      border-color: transparent;\n",
              "      border-right-color: var(--fill-color);\n",
              "      border-top-color: var(--fill-color);\n",
              "    }\n",
              "    60% {\n",
              "      border-color: transparent;\n",
              "      border-right-color: var(--fill-color);\n",
              "    }\n",
              "    80% {\n",
              "      border-color: transparent;\n",
              "      border-right-color: var(--fill-color);\n",
              "      border-bottom-color: var(--fill-color);\n",
              "    }\n",
              "    90% {\n",
              "      border-color: transparent;\n",
              "      border-bottom-color: var(--fill-color);\n",
              "    }\n",
              "  }\n",
              "</style>\n",
              "\n",
              "  <script>\n",
              "    async function quickchart(key) {\n",
              "      const quickchartButtonEl =\n",
              "        document.querySelector('#' + key + ' button');\n",
              "      quickchartButtonEl.disabled = true;  // To prevent multiple clicks.\n",
              "      quickchartButtonEl.classList.add('colab-df-spinner');\n",
              "      try {\n",
              "        const charts = await google.colab.kernel.invokeFunction(\n",
              "            'suggestCharts', [key], {});\n",
              "      } catch (error) {\n",
              "        console.error('Error during call to suggestCharts:', error);\n",
              "      }\n",
              "      quickchartButtonEl.classList.remove('colab-df-spinner');\n",
              "      quickchartButtonEl.classList.add('colab-df-quickchart-complete');\n",
              "    }\n",
              "    (() => {\n",
              "      let quickchartButtonEl =\n",
              "        document.querySelector('#df-f60be77e-3eb4-49cf-b2a4-9f3a42c4efd9 button');\n",
              "      quickchartButtonEl.style.display =\n",
              "        google.colab.kernel.accessAllowed ? 'block' : 'none';\n",
              "    })();\n",
              "  </script>\n",
              "</div>\n",
              "\n",
              "    </div>\n",
              "  </div>\n"
            ],
            "application/vnd.google.colaboratory.intrinsic+json": {
              "type": "dataframe",
              "summary": "{\n  \"name\": \"data\",\n  \"rows\": 4,\n  \"fields\": [\n    {\n      \"column\": \"\\u9867\\u5ba2ID\",\n      \"properties\": {\n        \"dtype\": \"number\",\n        \"std\": 32845723,\n        \"min\": 30507179,\n        \"max\": 99854703,\n        \"num_unique_values\": 3,\n        \"samples\": [\n          30507179,\n          59997136,\n          99854703\n        ],\n        \"semantic_type\": \"\",\n        \"description\": \"\"\n      }\n    },\n    {\n      \"column\": \"\\u6027\\u5225\",\n      \"properties\": {\n        \"dtype\": \"category\",\n        \"num_unique_values\": 1,\n        \"samples\": [\n          \"\\u7537\\u6027\"\n        ],\n        \"semantic_type\": \"\",\n        \"description\": \"\"\n      }\n    },\n    {\n      \"column\": \"\\u5e74\\u9f62\",\n      \"properties\": {\n        \"dtype\": \"number\",\n        \"std\": 22.485180304665857,\n        \"min\": 18.0,\n        \"max\": 65.0,\n        \"num_unique_values\": 3,\n        \"samples\": [\n          18.0\n        ],\n        \"semantic_type\": \"\",\n        \"description\": \"\"\n      }\n    },\n    {\n      \"column\": \"\\u8077\\u696d\",\n      \"properties\": {\n        \"dtype\": \"string\",\n        \"num_unique_values\": 3,\n        \"samples\": [\n          \"\\u5b66\\u751f\"\n        ],\n        \"semantic_type\": \"\",\n        \"description\": \"\"\n      }\n    },\n    {\n      \"column\": \"\\u5e74\\u53ce\",\n      \"properties\": {\n        \"dtype\": \"number\",\n        \"std\": 161,\n        \"min\": 215,\n        \"max\": 556,\n        \"num_unique_values\": 3,\n        \"samples\": [\n          215\n        ],\n        \"semantic_type\": \"\",\n        \"description\": \"\"\n      }\n    },\n    {\n      \"column\": \"\\u30b9\\u30de\\u30db\\u306e\\u6240\\u6709\",\n      \"properties\": {\n        \"dtype\": \"string\",\n        \"num_unique_values\": 2,\n        \"samples\": [\n          \"\\u3044\\u3044\\u3048\"\n        ],\n        \"semantic_type\": \"\",\n        \"description\": \"\"\n      }\n    },\n    {\n      \"column\": \"\\u30b9\\u30de\\u30db\\u5229\\u7528\\u6642\\u9593\",\n      \"properties\": {\n        \"dtype\": \"number\",\n        \"std\": 0.9479978902930111,\n        \"min\": 0.0,\n        \"max\": 2.01,\n        \"num_unique_values\": 3,\n        \"samples\": [\n          2.01\n        ],\n        \"semantic_type\": \"\",\n        \"description\": \"\"\n      }\n    },\n    {\n      \"column\": \"A\\u306e\\u5229\\u7528\\u56de\\u6570\",\n      \"properties\": {\n        \"dtype\": \"number\",\n        \"std\": 4.716990566028302,\n        \"min\": 2.0,\n        \"max\": 12.0,\n        \"num_unique_values\": 3,\n        \"samples\": [\n          12.0\n        ],\n        \"semantic_type\": \"\",\n        \"description\": \"\"\n      }\n    },\n    {\n      \"column\": \"B\\u306e\\u5229\\u7528\\u56de\\u6570\",\n      \"properties\": {\n        \"dtype\": \"number\",\n        \"std\": 4,\n        \"min\": 8,\n        \"max\": 18,\n        \"num_unique_values\": 3,\n        \"samples\": [\n          8\n        ],\n        \"semantic_type\": \"\",\n        \"description\": \"\"\n      }\n    }\n  ]\n}"
            }
          },
          "metadata": {},
          "execution_count": 7
        }
      ]
    },
    {
      "cell_type": "markdown",
      "source": [
        "# 基本的な統計量の表示\n",
        "\n",
        "describe() を使うことで、数値型の項目に対しては、統計量として以下の数値を確認することができる。\n",
        "* データ個数\n",
        "* 平均（mean）\n",
        "* 標準偏差\n",
        "* 最小値\n",
        "* 第一四分位数（25%）：小さい方から25％の値\n",
        "* 第二四分位数（50%）：小さい方から50％の値\n",
        "* 第三四分位数（75%）：小さい方から75％の値\n",
        "* 最大値\n",
        "\n",
        "また、カテゴリ型のデータに対しては、以下の数値が確認できる\n",
        "* データ個数\n",
        "* ユニーク数\n",
        "* 最頻値\n",
        "* 最頻値のデータ数"
      ],
      "metadata": {
        "id": "xpmvLJx6zRlK"
      }
    },
    {
      "cell_type": "code",
      "source": [
        "# describe() では、数値型の項目だけが表示される\n",
        "pd.options.display.float_format = '{:.2f}'.format  # 小数点以下2桁で表示\n",
        "data.describe()"
      ],
      "metadata": {
        "id": "AC4rvGa6leXN"
      },
      "execution_count": null,
      "outputs": []
    },
    {
      "cell_type": "markdown",
      "source": [
        "### 四分位数\n",
        "\n",
        "小さい方から25%（四分の一）のデータを第一四分位と呼ぶ。\n",
        "特に、**第二四分位は中央値**とも呼ばれる。\n",
        "\n",
        "* 例：以下の9個数字の中央値(median)は、小さい方から5番目であり、20である。\n",
        "\n",
        "   1, 2, 5, 10, **20**, 49, 100, 200, 210\n",
        "\n",
        "ちなみに、平均（mean）は約 66.3 となる。\n"
      ],
      "metadata": {
        "id": "iIKbJFj7ZCKY"
      }
    },
    {
      "cell_type": "code",
      "source": [
        "# カテゴリ型の項目に対しては、以下のように describe を使う。異なる値の数と最頻値が算出される。\n",
        "data.describe(include='object')"
      ],
      "metadata": {
        "id": "gv9pM4QnM-Kq"
      },
      "execution_count": null,
      "outputs": []
    },
    {
      "cell_type": "markdown",
      "source": [
        "# データクレンジング\n",
        "代表的なデータクレンジングとして、以下の3つを扱う\n",
        "\n",
        "*   欠損値の処理\n",
        "*   異常値の削除\n",
        "*   重複レコードの削除\n",
        "\n"
      ],
      "metadata": {
        "id": "CreP1jSacq8r"
      }
    },
    {
      "cell_type": "markdown",
      "source": [
        "## 欠損値の処理"
      ],
      "metadata": {
        "id": "_cSLaGurlzM9"
      }
    },
    {
      "cell_type": "markdown",
      "source": [
        "以下の方法で、列毎に欠損値の個数が集計できる。"
      ],
      "metadata": {
        "id": "vT8d6S4HZLER"
      }
    },
    {
      "cell_type": "code",
      "source": [
        "# 欠損値の個数を調べる\n",
        "# data という変数に読み込む\n",
        "data = pd.read_excel(file_path)\n",
        "data.isnull().sum()"
      ],
      "metadata": {
        "id": "9_4PV8_1clHj"
      },
      "execution_count": null,
      "outputs": []
    },
    {
      "cell_type": "markdown",
      "source": [
        "## NULLのレコードを削除する"
      ],
      "metadata": {
        "id": "yKHn5oX3Ef7k"
      }
    },
    {
      "cell_type": "markdown",
      "source": [
        "もっとも単純な欠損値の処理は、\n",
        "欠損値を含むレコードを削除することである。これには、\n",
        "\n",
        "```\n",
        "dropna\n",
        "```\n",
        "を用いる。"
      ],
      "metadata": {
        "id": "UtZBz19UZXUN"
      }
    },
    {
      "cell_type": "code",
      "source": [
        "# data という変数に読み込む\n",
        "data = pd.read_excel(file_path)\n",
        "# print( data.isnull().sum() )\n",
        "data = data.dropna()\n",
        "data.isnull().sum()"
      ],
      "metadata": {
        "id": "3MMh9qn6TwNK"
      },
      "execution_count": null,
      "outputs": []
    },
    {
      "cell_type": "code",
      "source": [
        "# data の性別と職業がNULLのレコードを削除する\n",
        "\n",
        "# data という変数に読み込む\n",
        "data = pd.read_excel(file_path)\n",
        "\n",
        "data = data.dropna(subset=['性別', '職業'])\n",
        "data.info()"
      ],
      "metadata": {
        "id": "A7nQL5vBErLO"
      },
      "execution_count": null,
      "outputs": []
    },
    {
      "cell_type": "markdown",
      "source": [
        "### 数値で置き換える場合"
      ],
      "metadata": {
        "id": "mAt7NlnQAheK"
      }
    },
    {
      "cell_type": "code",
      "source": [
        "data = pd.read_excel(file_path)\n",
        "\n",
        "# 年収の欠損値を0で補完\n",
        "data['年齢'] = data['年収'].fillna(0)\n",
        "\n",
        "# スマホ利用時間の欠損値を平均値で補完\n",
        "data['スマホ利用時間'] = data['スマホ利用時間'].fillna(data['スマホ利用時間'].mean() )"
      ],
      "metadata": {
        "id": "DpreyAwVAAAB"
      },
      "execution_count": null,
      "outputs": []
    },
    {
      "cell_type": "markdown",
      "source": [
        "## 異常値の削除\n",
        "\n",
        "数値型の列の場合、\n",
        "異常値の考え方の主なものは以下の2つである。\n",
        "\n",
        "*  平均から標準偏差の3倍以上離れたもの\n",
        "*  四分位範囲（第三四分位と第一四分位の差）を用いたもの\n",
        "  *  第三四分位＋「四分位範囲」×1.5 より大\n",
        "  *  第一四分位－「四分位範囲」×1.5 より小\n",
        "\n",
        "カテゴリ型の場合には、レコード数が極端に少ないカテゴリを\n",
        "異常値と考え、「その他」として集約することが行われる場合がある。"
      ],
      "metadata": {
        "id": "hphV6PgMqoyQ"
      }
    },
    {
      "cell_type": "code",
      "source": [
        "#年齢が、平均値から標準偏差の3倍以上離れているレコードを抽出する\n",
        "\n",
        "# 年齢の平均値と標準偏差を計算\n",
        "age_mean = data['年齢'].mean()\n",
        "age_std = data['年齢'].std()\n",
        "\n",
        "# 平均値から標準偏差の3倍以上離れているレコードを抽出\n",
        "indices_to_drop = data[(data['年齢'] < age_mean - 3 * age_std) | (data['年齢'] > age_mean + 3 * age_std)].index\n",
        "\n",
        "data_dropped = data.drop(indices_to_drop)\n",
        "\n",
        "# 確認する\n",
        "data_dropped['年齢'].max()"
      ],
      "metadata": {
        "id": "9jJkaYnZCjaW"
      },
      "execution_count": null,
      "outputs": []
    },
    {
      "cell_type": "code",
      "source": [
        "# data を更新する場合には以下のように inplace=True と指定して実行する\n",
        "data.drop(indices_to_drop, inplace=True)"
      ],
      "metadata": {
        "id": "IvxNZ9loi5dr"
      },
      "execution_count": null,
      "outputs": []
    },
    {
      "cell_type": "code",
      "source": [
        "# 確認する\n",
        "data['年齢'].max()"
      ],
      "metadata": {
        "id": "ISd1KIoNjzP1"
      },
      "execution_count": null,
      "outputs": []
    },
    {
      "cell_type": "markdown",
      "source": [
        "## 重複レコードの削除"
      ],
      "metadata": {
        "id": "mwovNNXn-2sl"
      }
    },
    {
      "cell_type": "code",
      "source": [
        "# 重複した行が存在していることも確認する\n",
        "\n",
        "# もう一度データを読み込みなおす\n",
        "data = pd.read_excel(file_path)\n",
        "data.tail()"
      ],
      "metadata": {
        "id": "7JDmMnPE-8B9"
      },
      "execution_count": null,
      "outputs": []
    },
    {
      "cell_type": "code",
      "source": [
        "# 重複した行を削除する\n",
        "data.drop_duplicates(inplace=True)\n",
        "data.tail()"
      ],
      "metadata": {
        "id": "5WMQfbwn_B-e"
      },
      "execution_count": null,
      "outputs": []
    },
    {
      "cell_type": "markdown",
      "source": [
        "# 主なDataFrame の操作"
      ],
      "metadata": {
        "id": "n6Wf8SGxwF-1"
      }
    },
    {
      "cell_type": "code",
      "source": [
        "# 再度データを変数 data に読み込む\n",
        "data = pd.read_excel(file_path)\n",
        "# NULL を含むレコードを削除する\n",
        "data = data.dropna()"
      ],
      "metadata": {
        "id": "VXck26A8EqyV"
      },
      "execution_count": null,
      "outputs": []
    },
    {
      "cell_type": "markdown",
      "source": [
        "## 並べ替え（ソート）"
      ],
      "metadata": {
        "id": "qUXrtNpMSfre"
      }
    },
    {
      "cell_type": "code",
      "source": [
        "# 年齢の小さい順に並べる（昇順（ascending:アセンディング）とも呼ぶ）\n",
        "# 並べ替えの対象となる列名を指定する。\n",
        "# シングルクオーテーション(')が必要。\n",
        "data.sort_values('年齢')"
      ],
      "metadata": {
        "id": "uEsQG7gtSo76"
      },
      "execution_count": null,
      "outputs": []
    },
    {
      "cell_type": "code",
      "source": [
        "# 大きい順に並べる（降順と呼ぶ）場合は、ascending=False を追加する。\n",
        "data.sort_values('年齢', ascending=False)"
      ],
      "metadata": {
        "id": "kUg_yYz_TCOw"
      },
      "execution_count": null,
      "outputs": []
    },
    {
      "cell_type": "code",
      "source": [
        "# by = '列名' としてもよい\n",
        "data.sort_values(by = '年齢', ascending=False)"
      ],
      "metadata": {
        "id": "ecUSG0oV5txe"
      },
      "execution_count": null,
      "outputs": []
    },
    {
      "cell_type": "code",
      "source": [
        "# 並べ替え、先頭の10行を表示する場合\n",
        "data.sort_values('年齢', ascending=False).head(10)"
      ],
      "metadata": {
        "id": "A-dYCNl0TLc5"
      },
      "execution_count": null,
      "outputs": []
    },
    {
      "cell_type": "code",
      "source": [
        "# 同じ大きさのデータの場合に、さらに別項目でソートを行うことができる\n",
        "# まず、年齢で並べ、同じ年齢の場合は、顧客IDで並べる場合。\n",
        "data.sort_values(['年齢','顧客ID'],).head(10)"
      ],
      "metadata": {
        "id": "JZfwQLP97adI"
      },
      "execution_count": null,
      "outputs": []
    },
    {
      "cell_type": "code",
      "source": [
        "# まず、年齢で並べ、同じ年齢の場合は、顧客IDで並べる場合。\n",
        "# ただし、年齢は大きなものから並べ、年齢が同じ場合は顧客IDの小さなものから並べる場合は、以下のように行う\n",
        "data.sort_values(['年齢','顧客ID'], ascending=[False, True]).head(10)"
      ],
      "metadata": {
        "id": "8leO6B3tT6i5"
      },
      "execution_count": null,
      "outputs": []
    },
    {
      "cell_type": "markdown",
      "source": [
        "## 行の選択"
      ],
      "metadata": {
        "id": "4K1kikiHCh3G"
      }
    },
    {
      "cell_type": "markdown",
      "source": [
        "### 行数で選択する"
      ],
      "metadata": {
        "id": "WHJQ-ttUC8TG"
      }
    },
    {
      "cell_type": "code",
      "source": [
        "# 20行目から21行目までを表示。列は全て選ばれる。\n",
        "data[20:22]"
      ],
      "metadata": {
        "id": "pK4wU4XMCh3H"
      },
      "execution_count": null,
      "outputs": []
    },
    {
      "cell_type": "markdown",
      "source": [
        "### 条件式で選択する"
      ],
      "metadata": {
        "id": "GqC2JEDuC03E"
      }
    },
    {
      "cell_type": "code",
      "source": [
        "# 年齢が30未満の行を選択\n",
        "data[ data['年齢'] < 30]"
      ],
      "metadata": {
        "id": "1KHh11_7Ch3H"
      },
      "execution_count": null,
      "outputs": []
    },
    {
      "cell_type": "code",
      "source": [
        "data[ data['職業']=='会社員']"
      ],
      "metadata": {
        "id": "Sw5hPEcfCh3H"
      },
      "execution_count": null,
      "outputs": []
    },
    {
      "cell_type": "code",
      "source": [
        "data[ data['職業']=='会社員'].head(3)"
      ],
      "metadata": {
        "id": "gioqyD8TCh3H"
      },
      "execution_count": null,
      "outputs": []
    },
    {
      "cell_type": "markdown",
      "source": [
        "## 列の選択"
      ],
      "metadata": {
        "id": "vygX3x1TBWnE"
      }
    },
    {
      "cell_type": "markdown",
      "source": [
        "列名を指定することで、列の選択が可能である。"
      ],
      "metadata": {
        "id": "pproOppeDEN0"
      }
    },
    {
      "cell_type": "code",
      "source": [
        "selected_data = data[['顧客ID', '性別', '年齢']]"
      ],
      "metadata": {
        "id": "TEBZg3BsBihD"
      },
      "execution_count": null,
      "outputs": []
    },
    {
      "cell_type": "code",
      "source": [
        "selected_data.head()"
      ],
      "metadata": {
        "id": "pUorL2gAsXkn"
      },
      "execution_count": null,
      "outputs": []
    },
    {
      "cell_type": "markdown",
      "source": [
        "## 列名の変更"
      ],
      "metadata": {
        "id": "m03h2LRZAsb9"
      }
    },
    {
      "cell_type": "code",
      "source": [
        "# 列名を変更したいのであれば、以下のように行う\n",
        "data.rename(columns={'年収': '収入'})"
      ],
      "metadata": {
        "id": "WFlW5TchFGPJ"
      },
      "execution_count": null,
      "outputs": []
    },
    {
      "cell_type": "markdown",
      "source": [
        "# 基礎集計\n"
      ],
      "metadata": {
        "id": "q8jXrXFkPiaf"
      }
    },
    {
      "cell_type": "code",
      "source": [
        "# 再度データを変数 data に読み込む\n",
        "data = pd.read_excel(file_path)\n",
        "# NULL を含むレコードを削除する\n",
        "data = data.dropna()"
      ],
      "metadata": {
        "id": "c-RT5CJmENef"
      },
      "execution_count": null,
      "outputs": []
    },
    {
      "cell_type": "markdown",
      "source": [
        "## 基本的な統計量の算出"
      ],
      "metadata": {
        "id": "A-VTJuZqN2PT"
      }
    },
    {
      "cell_type": "code",
      "source": [
        "# 特定の列の平均\n",
        "data['スマホ利用時間'].mean()"
      ],
      "metadata": {
        "id": "Fa5kE9-tOC-J"
      },
      "execution_count": null,
      "outputs": []
    },
    {
      "cell_type": "markdown",
      "source": [
        "data['スマホ利用時間'].mean() の mean()の部分は以下の関数に変更ができる\n",
        "\n",
        "関数 | 意味\n",
        "--   | --\n",
        "mean() | 平均\n",
        "median() | 中央値\n",
        "min() | 最小値\n",
        "max()\t| 最大値\n",
        "std() | 標準偏差\n",
        "var() | 分散\n",
        "quantile(0.25)\t| 第一四分位（25%）\n",
        "quantile(0.75)\t| 第三四分位（75%）\n",
        "nunique() | カテゴリ型の値の個数  \n",
        "unique()  | カテゴリ型の値を表示する\n"
      ],
      "metadata": {
        "id": "cXotAI9VNuHI"
      }
    },
    {
      "cell_type": "markdown",
      "source": [
        "##カウント"
      ],
      "metadata": {
        "id": "k7iIY2ujfHMU"
      }
    },
    {
      "cell_type": "code",
      "source": [
        "# 再度データを変数 data に読み込む\n",
        "data = pd.read_excel(file_path)"
      ],
      "metadata": {
        "id": "Q2aIIaBcQhKt"
      },
      "execution_count": null,
      "outputs": []
    },
    {
      "cell_type": "code",
      "source": [
        "# カテゴリ型の項目に対して、値の種類を調べる\n",
        "data['職業'].unique()"
      ],
      "metadata": {
        "id": "hYQEalHnQuvz"
      },
      "execution_count": null,
      "outputs": []
    },
    {
      "cell_type": "code",
      "source": [
        "# 値毎のレコード件数を表示させる。\n",
        "# 欠損値が含まれないので注意\n",
        "data['職業'].value_counts()\n",
        "\n",
        "# 他の列も確認する場合\n",
        "# data['性別'].value_counts()\n",
        "# data['スマホの所有'].value_counts()"
      ],
      "metadata": {
        "id": "BlwDibjWQevG"
      },
      "execution_count": null,
      "outputs": []
    },
    {
      "cell_type": "code",
      "source": [
        "# 欠損値も含める場合\n",
        "data['職業'].value_counts(dropna=False)"
      ],
      "metadata": {
        "id": "4amWl2wn9X10"
      },
      "execution_count": null,
      "outputs": []
    },
    {
      "cell_type": "markdown",
      "source": [
        "以下のように、結果を並び替えを行い表示すると見やすくなる。"
      ],
      "metadata": {
        "id": "gwdsqs7C2Nrp"
      }
    },
    {
      "cell_type": "code",
      "source": [
        "data['職業'].value_counts(dropna=False).sort_values(ascending=False)\n",
        "# data['職業'].value_counts().sort_values()\n",
        "# data['職業'].value_counts().sort_values(ascending=False).head()"
      ],
      "metadata": {
        "id": "6SHO7wPA2sdg"
      },
      "execution_count": null,
      "outputs": []
    },
    {
      "cell_type": "markdown",
      "source": [
        "normalize=True を指定して、相対値にすることができる。"
      ],
      "metadata": {
        "id": "0M0zIl1VPAh7"
      }
    },
    {
      "cell_type": "code",
      "source": [
        "data['職業'].value_counts( normalize=True )"
      ],
      "metadata": {
        "id": "n9cLI2ONN8Z8"
      },
      "execution_count": null,
      "outputs": []
    },
    {
      "cell_type": "markdown",
      "source": [
        "## 最頻値\n",
        "カテゴリ型のデータでもっとも多く出現しているものを**最頻値**と呼ぶ。\n",
        "職業であれば「その他」が最頻値となる。"
      ],
      "metadata": {
        "id": "CI6sTnJRsQxb"
      }
    },
    {
      "cell_type": "code",
      "source": [
        "data['職業'].mode()"
      ],
      "metadata": {
        "id": "rA68FdEB--ih"
      },
      "execution_count": null,
      "outputs": []
    },
    {
      "cell_type": "markdown",
      "source": [
        "なお、最頻値が複数ある場合は、全ての最頻値が表示される。\n"
      ],
      "metadata": {
        "id": "Jmp0zZJDe-Kl"
      }
    },
    {
      "cell_type": "markdown",
      "source": [
        "### 複数の最頻値を持つ場合"
      ],
      "metadata": {
        "id": "rH-ccA6e1z50"
      }
    },
    {
      "cell_type": "code",
      "source": [
        "# 最頻値が複数ある場合の例\n",
        "# サンプルデータを作成\n",
        "df = pd.DataFrame({\n",
        "    'A': ['a', 'b', 'b', 'c', 'd', 'c']\n",
        "})\n",
        "df.head(6)"
      ],
      "metadata": {
        "id": "GH_hOzGENmlE"
      },
      "execution_count": null,
      "outputs": []
    },
    {
      "cell_type": "code",
      "source": [
        "# mode を計算\n",
        "df['A'].mode()"
      ],
      "metadata": {
        "id": "1zoEA50m1c2Y"
      },
      "execution_count": null,
      "outputs": []
    },
    {
      "cell_type": "markdown",
      "source": [
        "上のデータでは、最頻値が2つあり b, c 両方が最頻値である。\n",
        "このような場合は、最頻値が２つ表示される"
      ],
      "metadata": {
        "id": "oTB8tqI91_K5"
      }
    },
    {
      "cell_type": "code",
      "source": [
        "data_renamed = data.rename(columns={'Aの利用回数': 'A回数','Bの利用回数': 'B回数'})\n",
        "data_renamed.info()"
      ],
      "metadata": {
        "id": "LRUAF54m406B"
      },
      "execution_count": null,
      "outputs": []
    },
    {
      "cell_type": "markdown",
      "source": [
        "## 行を選択して集計する"
      ],
      "metadata": {
        "id": "njbNvUw_1mUC"
      }
    },
    {
      "cell_type": "code",
      "source": [
        "# 再度データを変数 data に読み込む\n",
        "data = pd.read_excel(file_path)\n",
        "# NULL を含むレコードを削除する\n",
        "data = data.dropna()"
      ],
      "metadata": {
        "id": "WqSze3kIS5D4"
      },
      "execution_count": null,
      "outputs": []
    },
    {
      "cell_type": "code",
      "source": [
        "# 年齢が50歳以上の顧客の年収の平均を求める\n",
        "data[ data['年齢'] >= 50]['年収'].mean()"
      ],
      "metadata": {
        "id": "Agl7tfp_3czN"
      },
      "execution_count": null,
      "outputs": []
    },
    {
      "cell_type": "code",
      "source": [
        "# 選択した部分をいったん別の変数に代入したやり方でも良い\n",
        "data_young = data[ data['年齢'] > 50]\n",
        "data_young['年収'].mean()"
      ],
      "metadata": {
        "id": "hP6gi-yJ46ri"
      },
      "execution_count": null,
      "outputs": []
    },
    {
      "cell_type": "code",
      "source": [
        "data[ data['職業']=='会社員']['スマホ利用時間'].median()"
      ],
      "metadata": {
        "id": "rMQre2oNU0Xj"
      },
      "execution_count": null,
      "outputs": []
    },
    {
      "cell_type": "code",
      "source": [
        "data[ data['職業']=='会社員']['スマホ利用時間'].mean()"
      ],
      "metadata": {
        "id": "14Pbw0XOBgX4"
      },
      "execution_count": null,
      "outputs": []
    },
    {
      "cell_type": "code",
      "source": [
        "# 複数条件をANDする\n",
        "data[ (data['性別'] == '女性') & (data['年収'] >= 400) ]['年齢'].mean()"
      ],
      "metadata": {
        "id": "XNPFR0c8dXvP"
      },
      "execution_count": null,
      "outputs": []
    },
    {
      "cell_type": "code",
      "source": [
        "# 複数条件をORする\n",
        "data[ (data['職業'] == '会社員') | (data['職業'] == '公務員') ]['年収'].mean()"
      ],
      "metadata": {
        "id": "b1OsgZUcJ7Qo"
      },
      "execution_count": null,
      "outputs": []
    },
    {
      "cell_type": "markdown",
      "source": [
        "# 複雑な集計"
      ],
      "metadata": {
        "id": "j0rngCZUtB_k"
      }
    },
    {
      "cell_type": "markdown",
      "source": [
        "分類して集計することができる。\n",
        "\n",
        "例えば、性別で分類して年齢の平均を求める、といったことが可能である。\n",
        "\n",
        "\n",
        "以下の3項目を指定する必要がある。\n",
        "\n",
        "*   分類項目：カテゴリ属性から選択する\n",
        "*   集計項目：数値属性\n",
        "*   集計方法：集計方法には、平均(mean)、中央値(median)、最小(min)、最大(max)が使える。\n",
        "\n",
        "例えば、性別で分類して年齢を平均する場合には、\n",
        "\n",
        "*   分類項目 → 性別\n",
        "*   集計項目 → 年齢\n",
        "*   集計方法 → 平均\n",
        "\n",
        "とする。"
      ],
      "metadata": {
        "id": "xzOOXmLI6B0C"
      }
    },
    {
      "cell_type": "code",
      "source": [
        "# 再度データを変数 data に読み込む\n",
        "data = pd.read_excel(file_path)\n",
        "# NULL を含むレコードを削除する\n",
        "data = data.dropna()"
      ],
      "metadata": {
        "id": "KtKadIAyExqh"
      },
      "execution_count": null,
      "outputs": []
    },
    {
      "cell_type": "code",
      "source": [
        "# 性別で分類して年齢の平均を求める。\n",
        "data.groupby('性別')['年齢'].mean()"
      ],
      "metadata": {
        "id": "BvHQCW8hIcox"
      },
      "execution_count": null,
      "outputs": []
    },
    {
      "cell_type": "code",
      "source": [
        "# 集計の結果を別のデータフレーム（変数名は new_data ）にする場合は、reset_index() を最後に着ける\n",
        "new_data = data.groupby('性別')['年齢'].mean().reset_index()\n",
        "new_data"
      ],
      "metadata": {
        "id": "NcTIGJKg4vcG"
      },
      "execution_count": null,
      "outputs": []
    },
    {
      "cell_type": "code",
      "source": [
        "selected_data = data[['性別', '年齢', '年収', 'Aの利用回数', 'Bの利用回数']]\n",
        "\n",
        "# 性別ごとに全ての項目の平均を計算することも可能\n",
        "selected_data.groupby('性別').mean()\n"
      ],
      "metadata": {
        "id": "fCy7ovlVRhze"
      },
      "execution_count": null,
      "outputs": []
    },
    {
      "cell_type": "code",
      "source": [
        "selected_data = data[['性別', '職業', '年齢', '年収', 'Aの利用回数', 'Bの利用回数']]\n",
        "selected_data.groupby('性別').median()\n",
        "# 職業の項目は数値型ではないので、中央値を求めることができずエラーメッセージが表示される。"
      ],
      "metadata": {
        "id": "lMoxSz-Wo1he"
      },
      "execution_count": null,
      "outputs": []
    },
    {
      "cell_type": "code",
      "source": [
        "# 数値型の列に限って集計を行う\n",
        "selected_data = data[['性別', '年齢', '年収', 'Aの利用回数', 'Bの利用回数']]\n",
        "selected_data.groupby('性別').median()"
      ],
      "metadata": {
        "id": "vmFJtQzKzrAx"
      },
      "execution_count": null,
      "outputs": []
    },
    {
      "cell_type": "markdown",
      "source": [
        "2つ以上の属性を組み合わせて分類して、集計することもできる。"
      ],
      "metadata": {
        "id": "EKWFKPKXKPqa"
      }
    },
    {
      "cell_type": "code",
      "source": [
        "selected_data = data[['性別', '職業', '年齢', '年収', 'Aの利用回数', 'Bの利用回数']]\n",
        "selected_data.groupby(['性別','職業']).mean()"
      ],
      "metadata": {
        "id": "EOXXgTCOpoZx"
      },
      "execution_count": null,
      "outputs": []
    },
    {
      "cell_type": "markdown",
      "source": [
        "集計方法も複数指定が可能である。最小値、最大値、平均を計算する方法は以下の通り"
      ],
      "metadata": {
        "id": "sMM9b7OEKZQQ"
      }
    },
    {
      "cell_type": "code",
      "source": [
        "data.groupby(['性別','職業'])['年齢'].agg(['min', 'max', 'mean'])"
      ],
      "metadata": {
        "id": "LzDo3-Lnoe2L"
      },
      "execution_count": null,
      "outputs": []
    },
    {
      "cell_type": "markdown",
      "source": [
        "集計結果をデータフレームに変換するためには\n",
        " reset_index()\n",
        " を使うとよい。"
      ],
      "metadata": {
        "id": "mCyKdf73l3uE"
      }
    },
    {
      "cell_type": "code",
      "source": [
        "#結果をデータフレームに格納する\n",
        "df = data.groupby(['性別','職業'])['年齢'].agg(['min', 'max', 'mean']).reset_index()\n",
        "df"
      ],
      "metadata": {
        "id": "HegeRJyVVPi9"
      },
      "execution_count": null,
      "outputs": []
    },
    {
      "cell_type": "markdown",
      "source": [
        "列名を変更して分かり易いデータフレームとするこもとできる。"
      ],
      "metadata": {
        "id": "nDOJZj3HWlKT"
      }
    },
    {
      "cell_type": "code",
      "source": [
        "df = df.rename(columns={'min': '年齢最小', 'max':'年齢最大', 'mean':'年齢平均'})\n",
        "df"
      ],
      "metadata": {
        "id": "vUSPRimdINCz"
      },
      "execution_count": null,
      "outputs": []
    },
    {
      "cell_type": "markdown",
      "source": [
        "# 信頼区間\n",
        "\n",
        "収集されたデータから計算された平均は、\n",
        "必ずしも母集団の平均と等しいとは限らない。\n",
        "観測には誤差が含まれる。\n",
        "そこで、真の値と比べてどの程度確からしいのかを示す指標に\n",
        "**信頼区間**がある。\n",
        "\n",
        "信頼区間とは、**ある確率**で真の値を含む範囲のことである。\n",
        "確率としては0.95 (95%) が良く用いられる。\n",
        "この確率を**信頼水準**と呼び、\n",
        "信頼水準が95%の信頼区間を\n",
        "**95%信頼区間**とよぶことがある。\n",
        "まお、\n",
        "確率を1に近づけるほど信頼区間は広く、\n",
        "逆に確率を下げれば信頼区間は狭くなる。\n",
        "\n",
        "平均値の信頼区間の下限と上限の計算には、\n",
        "scipy の stats パッケージの t.interval を用い、\n",
        "以下のようにすればよい。\n",
        "\n",
        "```\n",
        "import scipy.stats as st\n",
        "lower_bound, upper_bound = st.t.interval(信頼水準, df=データの個数 - 1, loc=平均, scale=標準誤差)\n",
        "\n",
        "```\n",
        "変数 lower_bound と upper_bound に、\n",
        "信頼区間の下限と上限が格納される。\n",
        "\n",
        "ここで、\n",
        "標準誤差とは平均の標準偏差のことで、\n",
        "データの標準偏差をデータ数の平方根で割った値である。\n",
        "stats パッケージをインポートし、\n",
        "stats.sem で計算できる。\n",
        "\n"
      ],
      "metadata": {
        "id": "Mf6PxEvGo-o9"
      }
    },
    {
      "cell_type": "code",
      "source": [
        "import numpy as np\n",
        "import scipy.stats as st\n",
        "\n",
        "# 信頼水準を設定\n",
        "confidence = 0.95\n",
        "# 信頼区間を求めたいデータを変数「_data」にセットする。\n",
        "_data = data['年収']\n",
        "\n",
        "# 標本平均と標準誤差を計算\n",
        "mean = _data.mean()\n",
        "sem = st.sem(_data)\n",
        "\n",
        "# 信頼区間の導出\n",
        "# scipy.stats.t.interval 関数を使用して、信頼区間を求める。\n",
        "lower_bound, upper_bound = st.t.interval(confidence, df=_data.shape[0] - 1, loc=mean, scale=sem)\n",
        "\n",
        "# 信頼区間を表示\n",
        "print(f\"信頼区間: ({lower_bound:.2f}, {upper_bound:.2f})\")\n"
      ],
      "metadata": {
        "id": "fxO2XI-_Pexq"
      },
      "execution_count": null,
      "outputs": []
    },
    {
      "cell_type": "markdown",
      "source": [
        "# 参考"
      ],
      "metadata": {
        "id": "EWCZG5O7w1pC"
      }
    },
    {
      "cell_type": "markdown",
      "source": [
        "### 行や列の限定\n",
        "\n",
        "iloc を使い、DataFrame に格納された表の一部だけを取り出すことが可能。\n",
        "\n",
        "基本的な使い方は、\n",
        "\n",
        "> iloc[ 行の範囲を指定, 列の範囲を指定 ]"
      ],
      "metadata": {
        "id": "CLcf28QHw4SP"
      }
    },
    {
      "cell_type": "code",
      "source": [
        "# 0行目から2行目まで、2列目から4列目まで\n",
        "data.iloc[0:3,2:5]"
      ],
      "metadata": {
        "id": "TWy9inONw4SP"
      },
      "execution_count": null,
      "outputs": []
    },
    {
      "cell_type": "code",
      "source": [
        "# 0行目から2行目まで\n",
        "data.iloc[0:3,:]"
      ],
      "metadata": {
        "id": "a-UFCeJMw4SP"
      },
      "execution_count": null,
      "outputs": []
    },
    {
      "cell_type": "code",
      "source": [
        "# 1列目から最後まで\n",
        "data.iloc[1:3,1:]"
      ],
      "metadata": {
        "id": "nuIeldIbw4SQ"
      },
      "execution_count": null,
      "outputs": []
    },
    {
      "cell_type": "code",
      "source": [
        "# 1列目から最後の1つ前まで\n",
        "data.iloc[1:3,:-1]"
      ],
      "metadata": {
        "id": "UHHMZiU1w4SQ"
      },
      "execution_count": null,
      "outputs": []
    },
    {
      "cell_type": "markdown",
      "source": [
        "### 行番号と列番号による指定\n",
        "\n",
        "> iloc[ 行のリスト, 列のリスト ]"
      ],
      "metadata": {
        "id": "G4zYtQKPw4SQ"
      }
    },
    {
      "cell_type": "code",
      "source": [
        "data.iloc[[100,1,102],[0,2,3]]"
      ],
      "metadata": {
        "id": "nFEF-kobw4SQ"
      },
      "execution_count": null,
      "outputs": []
    },
    {
      "cell_type": "code",
      "source": [
        "# 行番号や列番号を省略すると全て選択される\n",
        "data.iloc[[100,1,102],]"
      ],
      "metadata": {
        "id": "Gbfsohp6w4SQ"
      },
      "execution_count": null,
      "outputs": []
    }
  ]
}