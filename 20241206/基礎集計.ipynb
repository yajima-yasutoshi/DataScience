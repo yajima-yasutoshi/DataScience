{
  "nbformat": 4,
  "nbformat_minor": 0,
  "metadata": {
    "colab": {
      "provenance": [],
      "collapsed_sections": [
        "IPTN-WrP7iux",
        "mAt7NlnQAheK",
        "mwovNNXn-2sl",
        "qUXrtNpMSfre",
        "CI6sTnJRsQxb"
      ],
      "toc_visible": true,
      "include_colab_link": true
    },
    "kernelspec": {
      "name": "python3",
      "display_name": "Python 3"
    },
    "language_info": {
      "name": "python"
    }
  },
  "cells": [
    {
      "cell_type": "markdown",
      "metadata": {
        "id": "view-in-github",
        "colab_type": "text"
      },
      "source": [
        "<a href=\"https://colab.research.google.com/github/yajima-yasutoshi/DataScience/blob/main/20241206/%E5%9F%BA%E7%A4%8E%E9%9B%86%E8%A8%88.ipynb\" target=\"_parent\"><img src=\"https://colab.research.google.com/assets/colab-badge.svg\" alt=\"Open In Colab\"/></a>"
      ]
    },
    {
      "cell_type": "markdown",
      "source": [
        "# 基礎集計"
      ],
      "metadata": {
        "id": "OYxLBvA1ik_8"
      }
    },
    {
      "cell_type": "markdown",
      "source": [
        "## 資料保管場所\n",
        "\n",
        "20241206\n",
        "\n",
        "https://github.com/yajima-yasutoshi/DataScience/tree/main/20241206"
      ],
      "metadata": {
        "id": "g8YJ3oojiqNa"
      }
    },
    {
      "cell_type": "markdown",
      "source": [
        "# 講義の目的\n",
        "\n",
        "データ分析の基本となるデータの操作方法を理解する。\n",
        "\n",
        "*   Pandas データフレームの基本的な操作法\n",
        "  * データの読み込み\n",
        "  * データの加工や変換\n",
        "\n",
        "*   基礎集計（データ集計）"
      ],
      "metadata": {
        "id": "_RqzmktfLtac"
      }
    },
    {
      "cell_type": "markdown",
      "source": [
        "#準備\n",
        "データ分析に必要な Python ライブラリー（モジュール）のインストールと読み込みを実施する。"
      ],
      "metadata": {
        "id": "IPTN-WrP7iux"
      }
    },
    {
      "cell_type": "code",
      "source": [
        "# 分析で必要となるライブラリーの読み込み\n",
        "import numpy as np\n",
        "import pandas as pd"
      ],
      "metadata": {
        "id": "TXJ4eLnaaS74"
      },
      "execution_count": null,
      "outputs": []
    },
    {
      "cell_type": "markdown",
      "source": [
        "## モジュールを使うための設定（import文）\n",
        "\n",
        "Python言語では、様々な機能が「モジュール」として提供されている。\n",
        "この講義ではデータ分析に欠かせない Pandas を用いる。\n",
        "\n",
        "モジュールを使うためには、\n",
        "プログラムの中に以下のようは import 文が必要である。\n",
        "```\n",
        "import モジュール名\n",
        "```\n",
        "\n",
        "モジュール名が長い場合、以下のように  「as ○○」とすることで\n",
        "名前を短縮できる。\n",
        "短縮名は自由に変更が可能である。\n",
        "\n",
        "```\n",
        "import モジュール名 as 短縮名\n",
        "```\n",
        "\n",
        "例えば、pandas モジュールは、\n",
        "```\n",
        "import pandas as pd\n",
        "```\n",
        "とすることで、pd と省略して用いることが多い。"
      ],
      "metadata": {
        "id": "hp66wOlGq3_n"
      }
    },
    {
      "cell_type": "markdown",
      "source": [
        "## データ準備\n",
        "データを Google Colab の環境で使うための手順は以下の通りである。\n",
        "\n",
        "\n",
        "### ファイルの取得\n",
        "\n",
        "今回の講義で必要となるデータは、以下のサイト\n",
        "\n",
        "https://github.com/yajima-yasutoshi/shunan-u/tree/main/data\n",
        "\n",
        "に保存されている 「customer_data.xlsx」 である。\n",
        "このファイルを各自の PC にダウンロードする。\n",
        "ダウンロードする PC のフォルダーはどこでも構わない。\n",
        "\n",
        "### ファイルの Google Drive へのアップロード\n",
        "1. Google Drive にアクセス\n",
        "1. 適当なフォルダーを開く（必要であれば新たに作成）\n",
        "2. PCのファイルをドラッグ＆ドロップでアップロード  \n",
        "あるいは、Google Driveで右クリックでメニューを開き、ファイルのアップロードを選択してもアップロードが可能である。\n",
        "\n",
        "### ドライブのマウント\n",
        "1. Colab に移り、左端のフォルダーのアイコン\n",
        "\n",
        "![image.png](data:image/png;base64,iVBORw0KGgoAAAANSUhEUgAAAC4AAAAnCAYAAABwtnr/AAAAAXNSR0IArs4c6QAAAARnQU1BAACxjwv8YQUAAAAJcEhZcwAADsMAAA7DAcdvqGQAAAFhSURBVFhH7da/joJAEAbw704TAlLa+6ewsKCxsaLxLayNvSQ8h4WtD2BjS0dDQkmsoTAkND4AFCbGu4NMYnGJLgYnmsyvAWYpvgy7y379/MEH+qbrx5Hg3CQ4NwnOTYJzU/5zns9n7HY7hGGIy+VC1f+GwyFWqxU6nQ5VXkO5477vIwiCu6FLx+MR6/UaRVFQ5TWUO77ZbHA4HGCaJkajEVqtFo3cnE4nZFlW3Xe7XQwGg+r+HsMwMB6PYVkWNE2j6mO1g/f7fbiuC13XaeSmnE7b7RZRFFFFXd0p1ujiLDu2WCwwmUyooi5NU8RxTE+PNdrxZyRJUq2J8mstl0tMp1MauU/2cW4SnJsE5ybBuUlwbh8bvNFj7TPyPK8OV9frtdZZRTm453nY7/dQfL22siGO41SHOBXKU2U2m8G2bbTbbao0pww9n8/R6/Wo8phyx9+N7CrcJDg3Cc5NgvMCfgGDYYbhw8+fOQAAAABJRU5ErkJggg==)\n",
        "\n",
        "  をクリックし、ファイルメニューを開く\n",
        "2. マウントアイコンをクリックし Google Driveをマウント\n",
        "3. drive の中の「MyDrive」が Google Drive のマイドライブとなる\n",
        "\n",
        "### Colabでファイルパスの取得\n",
        "1. Driveメニュー内で目的のファイルの場所に移動\n",
        "1. ファイルにマウスを合わせ、ファイル名の右にある縦3つの「・」部分をクリックして「パスをコピー」を選択\n",
        "1. プログラムコードの中で、ctrl+v でペースト"
      ],
      "metadata": {
        "id": "p9PmCg4E75Et"
      }
    },
    {
      "cell_type": "code",
      "source": [
        "from google.colab import drive\n",
        "drive.mount('/content/drive')"
      ],
      "metadata": {
        "id": "lJZeELEdco2g"
      },
      "execution_count": null,
      "outputs": []
    },
    {
      "cell_type": "markdown",
      "source": [
        "# データをファイルから読み込む\n"
      ],
      "metadata": {
        "id": "1qbshOJilmnM"
      }
    },
    {
      "cell_type": "markdown",
      "source": [
        "データ分析でまず必要になる作業は、\n",
        "データをファイルから読み込むことである。\n",
        "Pandas で扱うことができる主なファイルには、エクセルやCSVファイルがある。\n",
        "\n",
        "今回はエクセルファイルを Python環境に読み込む。\n",
        "これには、\n",
        "Pandas モジュールの read_excel() 関数を使う。\n",
        "\n",
        "\n",
        "なお、以下のコードセルで\n",
        "\n",
        "    file_path = '/content/drive/MyDrive/データアップロード/customer_data.xlsx'\n",
        "\n",
        "の部分は各自のファイル保管場所に合わせて変更する。\n",
        "\n",
        "\n",
        "\n",
        "以下のコードセルを実行することで、\n",
        "変数 file_path で指定したエクセルファイルのデータが\n",
        "変数 data に格納される。\n",
        "\n",
        "\n",
        "\n",
        "\n",
        "変数 data は、**データフレーム**と呼ばれる。\n"
      ],
      "metadata": {
        "id": "g0EOTGBEmGPB"
      }
    },
    {
      "cell_type": "code",
      "source": [
        "# Pandas モジュールのインポート\n",
        "import pandas as pd\n",
        "# 読み込むファイルを指定する\n",
        "# ファイルパスは、シングルクオーテーションで囲む必要がある。\n",
        "file_path = '/content/drive/MyDrive/データ/customer_data.xlsx'\n",
        "\n",
        "# ファイルのデータを data という変数に読み込む\n",
        "data = pd.read_excel(file_path)"
      ],
      "metadata": {
        "id": "XlK06fuGmGPB"
      },
      "execution_count": null,
      "outputs": []
    },
    {
      "cell_type": "markdown",
      "source": [
        "Pandas モジュールをインポートする際に、\n",
        "```\n",
        "import pandas as pd\n",
        "```\n",
        "と **pd** という省略名を付与たので\n",
        "\n",
        "```\n",
        "pd.read_excel(file_path)\n",
        "```\n",
        "としていることに注意する。"
      ],
      "metadata": {
        "id": "oJUk_FdprCqc"
      }
    },
    {
      "cell_type": "markdown",
      "source": [
        "#データの構造把握\n",
        "\n",
        "データフレームに読み込まれたデータの構造を把握する\n",
        "ための方法について説明する。"
      ],
      "metadata": {
        "id": "hzx6m3x8n9Nd"
      }
    },
    {
      "cell_type": "markdown",
      "source": [
        "## 項目の一覧\n",
        "\n",
        "info() 関数を実行すると、\n",
        "データの項目一覧が得られる。"
      ],
      "metadata": {
        "id": "rYiDk2nioVRx"
      }
    },
    {
      "cell_type": "code",
      "source": [
        "#データの項目一覧の表示\n",
        "data.info()"
      ],
      "metadata": {
        "id": "2UCphamJbWLC"
      },
      "execution_count": null,
      "outputs": []
    },
    {
      "cell_type": "markdown",
      "source": [
        "各項目の型は Dtype に示されている。\n",
        "Dtype と型の関係性は以下のとおりである。\n",
        "\n",
        "Dtype | 型\n",
        "-- | --\n",
        "datetime?? | 日付型\n",
        "int??, float?? | 数値型\n",
        "object | カテゴリ型\n"
      ],
      "metadata": {
        "id": "y-q17KtxAo-b"
      }
    },
    {
      "cell_type": "markdown",
      "source": [
        "##データの定義 (各列の説明)\n",
        "\n",
        "customer_data.xlsx は、\n",
        "あるサービスに登録したユーザのデータである。\n",
        "各項目の意味は以下の通りである。\n",
        "\n",
        "\n",
        "列名 | 型 | 説明\n",
        "--   | -- | --\n",
        "顧客ID | 数値（整数） | 顧客に個人に割り振られたID番号\n",
        "性別\t | カテゴリ型 | 顧客の性別\n",
        "年齢\t | 数値（整数）| 顧客の年齢\n",
        "職業\t | カテゴリ型| 顧客の職業\n",
        "年収\t | 数値（整数）| 顧客の年収。単位は万円\n",
        "スマホの所有\t| カテゴリ型 | スマートフォンの所有状態\n",
        "スマホ利用時間\t| 数値（実数）| スマートフォンの1日の平均使用時間\n",
        "Aの利用回数\t|  数値（整数）| サービスＡの利用回数\n",
        "Bの利用回数 |  数値（整数） | サービスＢの利用回数\n"
      ],
      "metadata": {
        "id": "4C4u1s2uoJQp"
      }
    },
    {
      "cell_type": "markdown",
      "source": [
        "## 行数と列数表示\n",
        "\n",
        "データの行数と列数を調べるためには、shape を用いる。"
      ],
      "metadata": {
        "id": "2Qd9OLCNnlwK"
      }
    },
    {
      "cell_type": "code",
      "source": [
        "data.shape"
      ],
      "metadata": {
        "id": "6WPtHYI09r95"
      },
      "execution_count": null,
      "outputs": []
    },
    {
      "cell_type": "markdown",
      "source": [
        "data.shape は要素が2つあるタプルである。\n",
        "最初の要素がレコード数、2番目の要素が項目数である。\n",
        "\n",
        "もし、レコード数のみを得たいのであれば以下のようにすればよい。"
      ],
      "metadata": {
        "id": "cKNzsZGjXWKK"
      }
    },
    {
      "cell_type": "code",
      "source": [
        "data.shape[0]"
      ],
      "metadata": {
        "id": "6eQsO8eVlm8o"
      },
      "execution_count": null,
      "outputs": []
    },
    {
      "cell_type": "markdown",
      "source": [
        "## データを表示\n",
        "head() を使うことで、\n",
        "データの先頭から数行分を表示させることが可能である。\n"
      ],
      "metadata": {
        "id": "N9DLRD3dZWwc"
      }
    },
    {
      "cell_type": "code",
      "source": [
        "# データの最初の5行を表示する\n",
        "pd.options.display.float_format = '{:.2f}'.format  # 小数点以下2桁で表示\n",
        "data.head()"
      ],
      "metadata": {
        "id": "Dj_AjG6wG-y6"
      },
      "execution_count": null,
      "outputs": []
    },
    {
      "cell_type": "markdown",
      "source": [
        "ここで、\n",
        "NaNと表示されているのは数値が入力されいないことを意味しており、\n",
        " **欠損値**\n",
        "あるいは\n",
        " **欠測値**\n",
        " と呼ぶ。\n"
      ],
      "metadata": {
        "id": "0jkJxTu907pz"
      }
    },
    {
      "cell_type": "code",
      "source": [
        "# 最後の 10 行を表示する\n",
        "data.tail(10)"
      ],
      "metadata": {
        "id": "dr6M8wEZ7vO1"
      },
      "execution_count": null,
      "outputs": []
    },
    {
      "cell_type": "markdown",
      "source": [
        "# 基本的な統計量の表示\n",
        "\n",
        "describe() を使うことで基本的な統計量を確認できる。\n",
        "\n",
        "数値型の項目に対しては以下の数値を確認することができる。\n",
        "* データ個数\n",
        "* 平均（mean）\n",
        "* 標準偏差\n",
        "* 最小値\n",
        "* 第一四分位数（25%）：小さい方から25％の値\n",
        "* 第二四分位数（50%）：小さい方から50％の値\n",
        "* 第三四分位数（75%）：小さい方から75％の値\n",
        "* 最大値\n"
      ],
      "metadata": {
        "id": "xpmvLJx6zRlK"
      }
    },
    {
      "cell_type": "code",
      "source": [
        "# describe() では、数値型の項目だけが表示される\n",
        "pd.options.display.float_format = '{:.2f}'.format  # 小数点以下2桁で表示\n",
        "data.describe()"
      ],
      "metadata": {
        "id": "AC4rvGa6leXN"
      },
      "execution_count": null,
      "outputs": []
    },
    {
      "cell_type": "markdown",
      "source": [
        "### 四分位数\n",
        "\n",
        "小さい方から25%（四分の一）のデータを第一四分位と呼ぶ。\n",
        "特に、**第二四分位は中央値**とも呼ばれる。\n",
        "\n",
        "* 例：以下の9個数字の中央値(median)は、小さい方から5番目であり、20である。\n",
        "\n",
        "   1, 2, 5, 10, **20**, 49, 100, 200, 210\n",
        "\n",
        "ちなみに、平均（mean）は約 66.3 である。\n",
        "\n",
        "この例のように、極端に大きな（小さな）データが含まれる場合には、\n",
        "平均と中央値が大きく異なるため、\n",
        "平均は全体を代表する統計量として適切でないこともありうる。\n"
      ],
      "metadata": {
        "id": "iIKbJFj7ZCKY"
      }
    },
    {
      "cell_type": "markdown",
      "source": [
        "また、カテゴリ型のデータに対しては、以下の数値が確認できる\n",
        "* NULLでないレコード数数\n",
        "* ユニーク数（カテゴリ値の個数）\n",
        "* 最頻値\n",
        "* 最頻値のレコード数\n",
        "\n",
        "カテゴリ型の項目に対しては、以下のように describe を使う必要がある。"
      ],
      "metadata": {
        "id": "j0ydrQv9yxAH"
      }
    },
    {
      "cell_type": "code",
      "source": [
        "# カテゴリ型の項目に対しては、以下のように describe を使う。異なる値の数と最頻値が算出される。\n",
        "data.describe(include='object')"
      ],
      "metadata": {
        "id": "gv9pM4QnM-Kq"
      },
      "execution_count": null,
      "outputs": []
    },
    {
      "cell_type": "markdown",
      "source": [
        "# データクレンジング\n",
        "代表的なデータクレンジングとして、以下の3つを扱う\n",
        "\n",
        "*   欠損値の処理\n",
        "*   異常値の削除\n",
        "*   重複レコードの削除\n",
        "\n"
      ],
      "metadata": {
        "id": "CreP1jSacq8r"
      }
    },
    {
      "cell_type": "markdown",
      "source": [
        "## 欠損値の処理"
      ],
      "metadata": {
        "id": "_cSLaGurlzM9"
      }
    },
    {
      "cell_type": "markdown",
      "source": [
        "以下の方法で、列毎に欠損値の個数が集計できる。"
      ],
      "metadata": {
        "id": "vT8d6S4HZLER"
      }
    },
    {
      "cell_type": "code",
      "source": [
        "# 欠損値の個数を調べる\n",
        "# data という変数に読み込む\n",
        "data = pd.read_excel(file_path)\n",
        "data.isnull().sum()"
      ],
      "metadata": {
        "id": "9_4PV8_1clHj"
      },
      "execution_count": null,
      "outputs": []
    },
    {
      "cell_type": "markdown",
      "source": [
        "## NULLのレコードを削除する"
      ],
      "metadata": {
        "id": "yKHn5oX3Ef7k"
      }
    },
    {
      "cell_type": "markdown",
      "source": [
        "もっとも単純な欠損値の処理は、\n",
        "欠損値を含むレコードを削除することである。これには、\n",
        "\n",
        "```\n",
        "dropna()\n",
        "```\n",
        "を用いる。"
      ],
      "metadata": {
        "id": "UtZBz19UZXUN"
      }
    },
    {
      "cell_type": "code",
      "source": [
        "# data という変数に読み込む\n",
        "data = pd.read_excel(file_path)\n",
        "# print( data.isnull().sum() )\n",
        "data = data.dropna()\n",
        "data.isnull().sum()"
      ],
      "metadata": {
        "id": "3MMh9qn6TwNK"
      },
      "execution_count": null,
      "outputs": []
    },
    {
      "cell_type": "code",
      "source": [
        "# data の性別と職業がNULLのレコードを削除する\n",
        "\n",
        "# data という変数に読み込む\n",
        "data = pd.read_excel(file_path)\n",
        "\n",
        "data = data.dropna(subset=['性別', '職業'])\n",
        "data.isnull().sum()"
      ],
      "metadata": {
        "id": "A7nQL5vBErLO"
      },
      "execution_count": null,
      "outputs": []
    },
    {
      "cell_type": "markdown",
      "source": [
        "### 数値で置き換える場合\n",
        "\n",
        "    fillna()\n",
        "\n",
        "を使うことで、欠損値部分を指定したデータで置き換えることができる。\n"
      ],
      "metadata": {
        "id": "mAt7NlnQAheK"
      }
    },
    {
      "cell_type": "code",
      "source": [
        "data = pd.read_excel(file_path)\n",
        "\n",
        "# 年収の欠損値を0で補完\n",
        "data['年収'] = data['年収'].fillna(0)\n",
        "\n",
        "# スマホ利用時間の欠損値を平均値で補完\n",
        "m = data['スマホ利用時間'].mean()\n",
        "data['スマホ利用時間'] = data['スマホ利用時間'].fillna(m)"
      ],
      "metadata": {
        "id": "DpreyAwVAAAB"
      },
      "execution_count": null,
      "outputs": []
    },
    {
      "cell_type": "markdown",
      "source": [
        "## 異常値の削除\n",
        "\n",
        "全体の分布から大きく外れた数値を異常値（あるいは外れ値）と呼ぶ。\n",
        "\n",
        "数値型の列の場合、\n",
        "異常値の考え方の主なものは以下の2つである。\n",
        "\n",
        "*  平均から標準偏差の3倍以上離れたもの\n",
        "*  四分位範囲（第三四分位と第一四分位の差）を用いたもの\n",
        "  *  第三四分位＋「四分位範囲」×1.5 より大\n",
        "  *  第一四分位－「四分位範囲」×1.5 より小\n",
        "\n",
        "カテゴリ型の場合には、レコード数が極端に少ないカテゴリを\n",
        "異常値と考え、「その他」として集約することが行われる場合がある。"
      ],
      "metadata": {
        "id": "hphV6PgMqoyQ"
      }
    },
    {
      "cell_type": "code",
      "source": [
        "#年齢が、平均値から標準偏差の3倍以上離れているレコードを抽出する\n",
        "\n",
        "# data という変数に読み込む\n",
        "data = pd.read_excel(file_path)\n",
        "\n",
        "# 年齢の平均値と標準偏差を計算\n",
        "age_mean = data['年齢'].mean()\n",
        "age_std = data['年齢'].std()\n",
        "\n",
        "# 平均値から標準偏差の3倍以上離れているレコードのインデックス（レコード）を取り出す\n",
        "indices_to_drop = data[(data['年齢'] < age_mean - 3 * age_std) | (data['年齢'] > age_mean + 3 * age_std)].index\n",
        "\n",
        "data_dropped = data.drop(indices_to_drop)\n",
        "\n",
        "# 確認する\n",
        "data_dropped['年齢'].max()"
      ],
      "metadata": {
        "id": "9jJkaYnZCjaW"
      },
      "execution_count": null,
      "outputs": []
    },
    {
      "cell_type": "code",
      "source": [
        "# data という変数に読み込む\n",
        "data = pd.read_excel(file_path)\n",
        "\n",
        "# data を更新する場合には以下のように inplace=True と指定して実行する\n",
        "data.drop(indices_to_drop, inplace=True)"
      ],
      "metadata": {
        "id": "IvxNZ9loi5dr"
      },
      "execution_count": null,
      "outputs": []
    },
    {
      "cell_type": "code",
      "source": [
        "# 確認する\n",
        "data['年齢'].max()"
      ],
      "metadata": {
        "id": "ISd1KIoNjzP1"
      },
      "execution_count": null,
      "outputs": []
    },
    {
      "cell_type": "markdown",
      "source": [
        "## 重複レコードの削除"
      ],
      "metadata": {
        "id": "mwovNNXn-2sl"
      }
    },
    {
      "cell_type": "code",
      "source": [
        "# 重複した行が存在していることも確認する\n",
        "\n",
        "# もう一度データを読み込みなおす\n",
        "data = pd.read_excel(file_path)\n",
        "data.tail()"
      ],
      "metadata": {
        "id": "7JDmMnPE-8B9"
      },
      "execution_count": null,
      "outputs": []
    },
    {
      "cell_type": "code",
      "source": [
        "# 重複した行を削除する\n",
        "data.drop_duplicates(inplace=True)\n",
        "data.tail()"
      ],
      "metadata": {
        "id": "5WMQfbwn_B-e"
      },
      "execution_count": null,
      "outputs": []
    },
    {
      "cell_type": "markdown",
      "source": [
        "# 主なDataFrame の操作"
      ],
      "metadata": {
        "id": "n6Wf8SGxwF-1"
      }
    },
    {
      "cell_type": "code",
      "source": [
        "# 再度データを変数 data に読み込む\n",
        "data = pd.read_excel(file_path)\n",
        "# NULL を含むレコードを削除する\n",
        "data = data.dropna()"
      ],
      "metadata": {
        "id": "VXck26A8EqyV"
      },
      "execution_count": null,
      "outputs": []
    },
    {
      "cell_type": "markdown",
      "source": [
        "## 並べ替え（ソート）"
      ],
      "metadata": {
        "id": "qUXrtNpMSfre"
      }
    },
    {
      "cell_type": "code",
      "source": [
        "# 年齢の小さい順に並べる（昇順（ascending:アセンディング）とも呼ぶ）\n",
        "# 並べ替えの対象となる列名を指定する。\n",
        "# シングルクオーテーション(')が必要。\n",
        "data.sort_values('年齢')"
      ],
      "metadata": {
        "id": "uEsQG7gtSo76"
      },
      "execution_count": null,
      "outputs": []
    },
    {
      "cell_type": "code",
      "source": [
        "# 大きい順に並べる（降順と呼ぶ）場合は、ascending=False を追加する。\n",
        "data.sort_values('年齢', ascending=False)"
      ],
      "metadata": {
        "id": "kUg_yYz_TCOw"
      },
      "execution_count": null,
      "outputs": []
    },
    {
      "cell_type": "code",
      "source": [
        "# by = '列名' としてもよい\n",
        "data.sort_values(by = '年齢', ascending=False)"
      ],
      "metadata": {
        "id": "ecUSG0oV5txe"
      },
      "execution_count": null,
      "outputs": []
    },
    {
      "cell_type": "code",
      "source": [
        "# 並べ替え、先頭の10行を表示する場合\n",
        "data.sort_values('年齢', ascending=False).head(10)"
      ],
      "metadata": {
        "id": "A-dYCNl0TLc5"
      },
      "execution_count": null,
      "outputs": []
    },
    {
      "cell_type": "code",
      "source": [
        "# 同じ大きさのデータの場合に、さらに別項目でソートを行うことができる\n",
        "# まず、年齢で並べ、同じ年齢の場合は、顧客IDで並べる場合。\n",
        "data.sort_values(['年齢','顧客ID'],).head(10)"
      ],
      "metadata": {
        "id": "JZfwQLP97adI"
      },
      "execution_count": null,
      "outputs": []
    },
    {
      "cell_type": "code",
      "source": [
        "# まず、年齢で並べ、同じ年齢の場合は、顧客IDで並べる場合。\n",
        "# ただし、年齢は大きなものから並べ、年齢が同じ場合は顧客IDの小さなものから並べる場合は、以下のように行う\n",
        "data.sort_values(['年齢','顧客ID'], ascending=[False, True]).head(10)"
      ],
      "metadata": {
        "id": "8leO6B3tT6i5"
      },
      "execution_count": null,
      "outputs": []
    },
    {
      "cell_type": "markdown",
      "source": [
        "## 行の選択"
      ],
      "metadata": {
        "id": "4K1kikiHCh3G"
      }
    },
    {
      "cell_type": "markdown",
      "source": [
        "### 行数で選択する"
      ],
      "metadata": {
        "id": "WHJQ-ttUC8TG"
      }
    },
    {
      "cell_type": "code",
      "source": [
        "# 20行目から21行目までを表示。列は全て選ばれる。\n",
        "data[20:22]"
      ],
      "metadata": {
        "id": "pK4wU4XMCh3H"
      },
      "execution_count": null,
      "outputs": []
    },
    {
      "cell_type": "markdown",
      "source": [
        "### 条件式で選択する"
      ],
      "metadata": {
        "id": "GqC2JEDuC03E"
      }
    },
    {
      "cell_type": "code",
      "source": [
        "# 年齢が30未満の行を選択\n",
        "data[ data['年齢'] < 30]"
      ],
      "metadata": {
        "id": "1KHh11_7Ch3H"
      },
      "execution_count": null,
      "outputs": []
    },
    {
      "cell_type": "code",
      "source": [
        "data[ data['職業']=='会社員']"
      ],
      "metadata": {
        "id": "Sw5hPEcfCh3H"
      },
      "execution_count": null,
      "outputs": []
    },
    {
      "cell_type": "code",
      "source": [
        "data[ data['職業']=='会社員'].head(3)"
      ],
      "metadata": {
        "id": "gioqyD8TCh3H"
      },
      "execution_count": null,
      "outputs": []
    },
    {
      "cell_type": "code",
      "source": [
        "# 年齢が50歳より大きいレコード\n",
        "data[(data['年齢'] > 50) ].head()"
      ],
      "metadata": {
        "id": "k--_yJ6V1kit"
      },
      "execution_count": null,
      "outputs": []
    },
    {
      "cell_type": "code",
      "source": [
        "# 複数の条件式を組合わせることも可能\n",
        "# OR 条件で組み合わせた例\n",
        "data[(data['年齢'] < 11) | (data['年齢'] > 60)].head()"
      ],
      "metadata": {
        "id": "1OtSVtba1oMN"
      },
      "execution_count": null,
      "outputs": []
    },
    {
      "cell_type": "markdown",
      "source": [],
      "metadata": {
        "id": "54jgQX0o31W7"
      }
    },
    {
      "cell_type": "markdown",
      "source": [
        "## 列の選択"
      ],
      "metadata": {
        "id": "vygX3x1TBWnE"
      }
    },
    {
      "cell_type": "markdown",
      "source": [
        "列名を指定することで、列の選択が可能である。"
      ],
      "metadata": {
        "id": "pproOppeDEN0"
      }
    },
    {
      "cell_type": "code",
      "source": [
        "selected_data = data[['顧客ID', '性別', '年齢']]"
      ],
      "metadata": {
        "id": "TEBZg3BsBihD"
      },
      "execution_count": null,
      "outputs": []
    },
    {
      "cell_type": "code",
      "source": [
        "selected_data.head()"
      ],
      "metadata": {
        "id": "pUorL2gAsXkn"
      },
      "execution_count": null,
      "outputs": []
    },
    {
      "cell_type": "markdown",
      "source": [
        "## 列名の変更"
      ],
      "metadata": {
        "id": "m03h2LRZAsb9"
      }
    },
    {
      "cell_type": "code",
      "source": [
        "# 列名を変更したいのであれば、以下のように行う\n",
        "data.rename(columns={'年収': '収入'})"
      ],
      "metadata": {
        "id": "WFlW5TchFGPJ"
      },
      "execution_count": null,
      "outputs": []
    },
    {
      "cell_type": "markdown",
      "source": [
        "# 基礎集計\n"
      ],
      "metadata": {
        "id": "q8jXrXFkPiaf"
      }
    },
    {
      "cell_type": "code",
      "source": [
        "# 再度データを変数 data に読み込む\n",
        "data = pd.read_excel(file_path)\n",
        "# NULL を含むレコードを削除する\n",
        "data = data.dropna()"
      ],
      "metadata": {
        "id": "c-RT5CJmENef"
      },
      "execution_count": null,
      "outputs": []
    },
    {
      "cell_type": "markdown",
      "source": [
        "## 基本的な統計量の算出"
      ],
      "metadata": {
        "id": "A-VTJuZqN2PT"
      }
    },
    {
      "cell_type": "code",
      "source": [
        "# 特定の列の平均\n",
        "data['スマホ利用時間'].mean()"
      ],
      "metadata": {
        "id": "Fa5kE9-tOC-J"
      },
      "execution_count": null,
      "outputs": []
    },
    {
      "cell_type": "markdown",
      "source": [
        "data['スマホ利用時間'].mean() の mean()の部分は以下の関数に変更ができる\n",
        "\n",
        "関数 | 意味\n",
        "--   | --\n",
        "mean() | 平均\n",
        "median() | 中央値\n",
        "min() | 最小値\n",
        "max()\t| 最大値\n",
        "std() | 標準偏差\n",
        "var() | 分散\n",
        "quantile(0.25)\t| 第一四分位（25%）\n",
        "quantile(0.75)\t| 第三四分位（75%）\n",
        "nunique() | カテゴリ型の値の個数  \n",
        "unique()  | カテゴリ型の値を表示する\n"
      ],
      "metadata": {
        "id": "cXotAI9VNuHI"
      }
    },
    {
      "cell_type": "markdown",
      "source": [
        "##カウント"
      ],
      "metadata": {
        "id": "k7iIY2ujfHMU"
      }
    },
    {
      "cell_type": "code",
      "source": [
        "# 再度データを変数 data に読み込む\n",
        "data = pd.read_excel(file_path)"
      ],
      "metadata": {
        "id": "Q2aIIaBcQhKt"
      },
      "execution_count": null,
      "outputs": []
    },
    {
      "cell_type": "code",
      "source": [
        "# カテゴリ型の項目に対して、値の種類を調べる\n",
        "data['職業'].unique()"
      ],
      "metadata": {
        "id": "hYQEalHnQuvz"
      },
      "execution_count": null,
      "outputs": []
    },
    {
      "cell_type": "code",
      "source": [
        "# 値毎のレコード件数を表示させる。\n",
        "# 欠損値が含まれないので注意\n",
        "data['職業'].value_counts()\n",
        "\n",
        "# 他の列も確認する場合\n",
        "# data['性別'].value_counts()\n",
        "# data['スマホの所有'].value_counts()"
      ],
      "metadata": {
        "id": "BlwDibjWQevG"
      },
      "execution_count": null,
      "outputs": []
    },
    {
      "cell_type": "code",
      "source": [
        "# 欠損値も含める場合\n",
        "data['職業'].value_counts(dropna=False)"
      ],
      "metadata": {
        "id": "4amWl2wn9X10"
      },
      "execution_count": null,
      "outputs": []
    },
    {
      "cell_type": "markdown",
      "source": [
        "以下のように、結果を並び替えを行い表示すると見やすくなる。"
      ],
      "metadata": {
        "id": "gwdsqs7C2Nrp"
      }
    },
    {
      "cell_type": "code",
      "source": [
        "data['職業'].value_counts(dropna=False).sort_values(ascending=False)\n",
        "# data['職業'].value_counts().sort_values()\n",
        "# data['職業'].value_counts().sort_values(ascending=False).head()"
      ],
      "metadata": {
        "id": "6SHO7wPA2sdg"
      },
      "execution_count": null,
      "outputs": []
    },
    {
      "cell_type": "markdown",
      "source": [
        "normalize=True を指定して、相対値にすることができる。"
      ],
      "metadata": {
        "id": "0M0zIl1VPAh7"
      }
    },
    {
      "cell_type": "code",
      "source": [
        "data['職業'].value_counts( normalize=True )"
      ],
      "metadata": {
        "id": "n9cLI2ONN8Z8"
      },
      "execution_count": null,
      "outputs": []
    },
    {
      "cell_type": "markdown",
      "source": [
        "## 最頻値\n",
        "カテゴリ型のデータでもっとも多く出現しているものを**最頻値**と呼ぶ。\n",
        "職業であれば「その他」が最頻値となる。"
      ],
      "metadata": {
        "id": "CI6sTnJRsQxb"
      }
    },
    {
      "cell_type": "code",
      "source": [
        "data['職業'].mode()"
      ],
      "metadata": {
        "id": "rA68FdEB--ih"
      },
      "execution_count": null,
      "outputs": []
    },
    {
      "cell_type": "markdown",
      "source": [
        "なお、最頻値が複数ある場合は、全ての最頻値が表示される。\n"
      ],
      "metadata": {
        "id": "Jmp0zZJDe-Kl"
      }
    },
    {
      "cell_type": "markdown",
      "source": [
        "### 複数の最頻値を持つ場合"
      ],
      "metadata": {
        "id": "rH-ccA6e1z50"
      }
    },
    {
      "cell_type": "code",
      "source": [
        "# 最頻値が複数ある場合の例\n",
        "# サンプルデータを作成\n",
        "df = pd.DataFrame({\n",
        "    'A': ['a', 'b', 'b', 'c', 'd', 'c']\n",
        "})\n",
        "df.head(6)"
      ],
      "metadata": {
        "id": "GH_hOzGENmlE"
      },
      "execution_count": null,
      "outputs": []
    },
    {
      "cell_type": "code",
      "source": [
        "# mode を計算\n",
        "df['A'].mode()"
      ],
      "metadata": {
        "id": "1zoEA50m1c2Y"
      },
      "execution_count": null,
      "outputs": []
    },
    {
      "cell_type": "markdown",
      "source": [
        "上のデータでは、最頻値が2つあり b, c 両方が最頻値である。\n",
        "このような場合は、最頻値が２つ表示される"
      ],
      "metadata": {
        "id": "oTB8tqI91_K5"
      }
    },
    {
      "cell_type": "code",
      "source": [
        "data_renamed = data.rename(columns={'Aの利用回数': 'A回数','Bの利用回数': 'B回数'})\n",
        "data_renamed.info()"
      ],
      "metadata": {
        "id": "LRUAF54m406B"
      },
      "execution_count": null,
      "outputs": []
    },
    {
      "cell_type": "markdown",
      "source": [
        "## 行を選択して集計する"
      ],
      "metadata": {
        "id": "njbNvUw_1mUC"
      }
    },
    {
      "cell_type": "code",
      "source": [
        "# 再度データを変数 data に読み込む\n",
        "data = pd.read_excel(file_path)\n",
        "# NULL を含むレコードを削除する\n",
        "data = data.dropna()"
      ],
      "metadata": {
        "id": "WqSze3kIS5D4"
      },
      "execution_count": null,
      "outputs": []
    },
    {
      "cell_type": "code",
      "source": [
        "# 年齢が50歳以上の顧客の年収の平均を求める\n",
        "data[ data['年齢'] >= 50]['年収'].mean()"
      ],
      "metadata": {
        "id": "Agl7tfp_3czN"
      },
      "execution_count": null,
      "outputs": []
    },
    {
      "cell_type": "code",
      "source": [
        "# 選択した部分をいったん別の変数に代入したやり方でも良い\n",
        "data_young = data[ data['年齢'] > 50]\n",
        "data_young['年収'].mean()"
      ],
      "metadata": {
        "id": "hP6gi-yJ46ri"
      },
      "execution_count": null,
      "outputs": []
    },
    {
      "cell_type": "code",
      "source": [
        "data[ data['職業']=='会社員']['スマホ利用時間'].median()"
      ],
      "metadata": {
        "id": "rMQre2oNU0Xj"
      },
      "execution_count": null,
      "outputs": []
    },
    {
      "cell_type": "code",
      "source": [
        "data[ data['職業']=='会社員']['スマホ利用時間'].mean()"
      ],
      "metadata": {
        "id": "14Pbw0XOBgX4"
      },
      "execution_count": null,
      "outputs": []
    },
    {
      "cell_type": "code",
      "source": [
        "# 複数条件をANDする\n",
        "data[ (data['性別'] == '女性') & (data['年収'] >= 400) ]['年齢'].mean()"
      ],
      "metadata": {
        "id": "XNPFR0c8dXvP"
      },
      "execution_count": null,
      "outputs": []
    },
    {
      "cell_type": "code",
      "source": [
        "# 複数条件をORする\n",
        "data[ (data['職業'] == '会社員') | (data['職業'] == '公務員') ]['年収'].mean()"
      ],
      "metadata": {
        "id": "b1OsgZUcJ7Qo"
      },
      "execution_count": null,
      "outputs": []
    },
    {
      "cell_type": "code",
      "source": [],
      "metadata": {
        "id": "zF3Evdmd4Kek"
      },
      "execution_count": null,
      "outputs": []
    },
    {
      "cell_type": "markdown",
      "source": [
        "##インデックスを指定して削除（異常値の削除）\n",
        "\n",
        "    drop( 削除するインデック )\n",
        "\n",
        "を使うことで指定したレコードを削除できる。\n"
      ],
      "metadata": {
        "id": "sIGZiUIl4LGG"
      }
    },
    {
      "cell_type": "code",
      "source": [
        "#年齢が、平均値から標準偏差の3倍以上離れているレコードを抽出する\n",
        "\n",
        "# 再度データを変数 data に読み込む\n",
        "data = pd.read_excel(file_path)\n",
        "\n",
        "# 年齢の平均値と標準偏差を計算\n",
        "age_mean = data['年齢'].mean()\n",
        "age_std = data['年齢'].std()\n",
        "\n",
        "# 平均値から標準偏差の3倍以上離れているレコードのインデックス（レコード）を取り出す\n",
        "indices_to_drop = data[(data['年齢'] < age_mean - 3 * age_std) | (data['年齢'] > age_mean + 3 * age_std)].index\n",
        "\n",
        "data_dropped = data.drop(indices_to_drop)\n",
        "\n",
        "# 確認する\n",
        "data_dropped['年齢'].max()"
      ],
      "metadata": {
        "id": "LVizh-qp4LGH"
      },
      "execution_count": null,
      "outputs": []
    },
    {
      "cell_type": "code",
      "source": [
        "# data を更新する場合には以下のように inplace=True と指定して実行する\n",
        "data.drop(indices_to_drop, inplace=True)"
      ],
      "metadata": {
        "id": "henquy6t4LGH"
      },
      "execution_count": null,
      "outputs": []
    },
    {
      "cell_type": "code",
      "source": [
        "# 確認する\n",
        "data['年齢'].max()"
      ],
      "metadata": {
        "id": "n_ogQJFk4LGH"
      },
      "execution_count": null,
      "outputs": []
    },
    {
      "cell_type": "markdown",
      "source": [
        "# 複雑な集計"
      ],
      "metadata": {
        "id": "j0rngCZUtB_k"
      }
    },
    {
      "cell_type": "markdown",
      "source": [
        "分類して集計することができる。\n",
        "\n",
        "例えば、性別で分類して年齢の平均を求める、といったことが可能である。\n",
        "\n",
        "\n",
        "以下の3項目を指定する必要がある。\n",
        "\n",
        "*   分類項目：カテゴリ属性から選択する\n",
        "*   集計項目：数値属性\n",
        "*   集計方法：集計方法には、平均(mean)、中央値(median)、最小(min)、最大(max)が使える。\n",
        "\n",
        "例えば、性別で分類して年齢を平均する場合には、\n",
        "\n",
        "*   分類項目 → 性別\n",
        "*   集計項目 → 年齢\n",
        "*   集計方法 → 平均\n",
        "\n",
        "とする。"
      ],
      "metadata": {
        "id": "xzOOXmLI6B0C"
      }
    },
    {
      "cell_type": "code",
      "source": [
        "# 再度データを変数 data に読み込む\n",
        "data = pd.read_excel(file_path)\n",
        "# NULL を含むレコードを削除する\n",
        "data = data.dropna()"
      ],
      "metadata": {
        "id": "KtKadIAyExqh"
      },
      "execution_count": null,
      "outputs": []
    },
    {
      "cell_type": "code",
      "source": [
        "# 性別で分類して年齢の平均を求める。\n",
        "data.groupby('性別')['年齢'].mean()"
      ],
      "metadata": {
        "id": "BvHQCW8hIcox"
      },
      "execution_count": null,
      "outputs": []
    },
    {
      "cell_type": "code",
      "source": [
        "# 集計の結果を別のデータフレーム（変数名は new_data ）にする場合は、reset_index() を最後に着ける\n",
        "new_data = data.groupby('性別')['年齢'].mean().reset_index()\n",
        "new_data"
      ],
      "metadata": {
        "id": "NcTIGJKg4vcG"
      },
      "execution_count": null,
      "outputs": []
    },
    {
      "cell_type": "code",
      "source": [
        "selected_data = data[['性別', '年齢', '年収', 'Aの利用回数', 'Bの利用回数']]\n",
        "\n",
        "# 性別ごとに全ての項目の平均を計算することも可能\n",
        "selected_data.groupby('性別').mean()\n"
      ],
      "metadata": {
        "id": "fCy7ovlVRhze"
      },
      "execution_count": null,
      "outputs": []
    },
    {
      "cell_type": "code",
      "source": [
        "selected_data = data[['性別', '職業', '年齢', '年収', 'Aの利用回数', 'Bの利用回数']]\n",
        "selected_data.groupby('性別').median()\n",
        "# 職業の項目は数値型ではないので、中央値を求めることができずエラーメッセージが表示される。"
      ],
      "metadata": {
        "id": "lMoxSz-Wo1he"
      },
      "execution_count": null,
      "outputs": []
    },
    {
      "cell_type": "code",
      "source": [
        "# 数値型の列に限って集計を行う\n",
        "selected_data = data[['性別', '年齢', '年収', 'Aの利用回数', 'Bの利用回数']]\n",
        "selected_data.groupby('性別').median()"
      ],
      "metadata": {
        "id": "vmFJtQzKzrAx"
      },
      "execution_count": null,
      "outputs": []
    },
    {
      "cell_type": "markdown",
      "source": [
        "2つ以上の属性を組み合わせて分類して、集計することもできる。"
      ],
      "metadata": {
        "id": "EKWFKPKXKPqa"
      }
    },
    {
      "cell_type": "code",
      "source": [
        "selected_data = data[['性別', '職業', '年齢', '年収', 'Aの利用回数', 'Bの利用回数']]\n",
        "selected_data.groupby(['性別','職業']).mean()"
      ],
      "metadata": {
        "id": "EOXXgTCOpoZx"
      },
      "execution_count": null,
      "outputs": []
    },
    {
      "cell_type": "markdown",
      "source": [
        "集計方法も複数指定が可能である。最小値、最大値、平均を計算する方法は以下の通り"
      ],
      "metadata": {
        "id": "sMM9b7OEKZQQ"
      }
    },
    {
      "cell_type": "code",
      "source": [
        "data.groupby(['性別','職業'])['年齢'].agg(['min', 'max', 'mean'])"
      ],
      "metadata": {
        "id": "LzDo3-Lnoe2L"
      },
      "execution_count": null,
      "outputs": []
    },
    {
      "cell_type": "markdown",
      "source": [
        "集計結果をデータフレームに変換するためには\n",
        " reset_index()\n",
        " を使うとよい。"
      ],
      "metadata": {
        "id": "mCyKdf73l3uE"
      }
    },
    {
      "cell_type": "code",
      "source": [
        "#結果をデータフレームに格納する\n",
        "df = data.groupby(['性別','職業'])['年齢'].agg(['min', 'max', 'mean']).reset_index()\n",
        "df"
      ],
      "metadata": {
        "id": "HegeRJyVVPi9"
      },
      "execution_count": null,
      "outputs": []
    },
    {
      "cell_type": "markdown",
      "source": [
        "列名を変更して分かり易いデータフレームとするこもとできる。"
      ],
      "metadata": {
        "id": "nDOJZj3HWlKT"
      }
    },
    {
      "cell_type": "code",
      "source": [
        "df = df.rename(columns={'min': '年齢最小', 'max':'年齢最大', 'mean':'年齢平均'})\n",
        "df"
      ],
      "metadata": {
        "id": "vUSPRimdINCz"
      },
      "execution_count": null,
      "outputs": []
    },
    {
      "cell_type": "markdown",
      "source": [
        "# 信頼区間\n",
        "\n",
        "収集されたデータから計算された統計量は、\n",
        "必ずしも母集団の統計量と等しいとは限らない。\n",
        "観測には誤差が含まれる。\n",
        "そこで、真の値と比べてどの程度確からしいのかを示す指標に\n",
        "**信頼区間**がある。\n",
        "\n",
        "信頼区間とは、**ある確率**で真の値を含む範囲のことである。\n",
        "確率としては0.95 (95%) が良く用いられる。\n",
        "この確率を**信頼水準**と呼び、\n",
        "信頼水準が95%の信頼区間を\n",
        "**95%信頼区間**とよぶことがある。\n",
        "まお、\n",
        "確率を1に近づけるほど信頼区間は広く、\n",
        "逆に確率を下げれば信頼区間は狭くなる。\n",
        "\n",
        "平均値の信頼区間の下限と上限の計算には、\n",
        "scipy の stats パッケージの t.interval を用い、\n",
        "以下のようにすればよい。\n",
        "\n",
        "```\n",
        "import scipy.stats as st\n",
        "lower_bound, upper_bound = st.t.interval(信頼水準, df=データの個数 - 1, loc=平均, scale=標準誤差)\n",
        "\n",
        "```\n",
        "変数 lower_bound と upper_bound に、\n",
        "信頼区間の下限と上限が格納される。\n",
        "\n",
        "ここで、\n",
        "標準誤差とは平均の標準偏差のことで、\n",
        "データの標準偏差をデータ数の平方根で割った値である。\n",
        "stats パッケージをインポートし、\n",
        "stats.sem で計算できる。\n",
        "\n"
      ],
      "metadata": {
        "id": "Mf6PxEvGo-o9"
      }
    },
    {
      "cell_type": "code",
      "source": [
        "import numpy as np\n",
        "import scipy.stats as st\n",
        "\n",
        "# 信頼水準を設定\n",
        "confidence = 0.95\n",
        "# 信頼区間を求めたいデータを変数「_data」にセットする。\n",
        "_data = data['年収']\n",
        "\n",
        "# 標本平均と標準誤差を計算\n",
        "mean = _data.mean()\n",
        "sem = st.sem(_data)\n",
        "\n",
        "# 信頼区間の導出\n",
        "# scipy.stats.t.interval 関数を使用して、信頼区間を求める。\n",
        "lower_bound, upper_bound = st.t.interval(confidence, df=_data.shape[0] - 1, loc=mean, scale=sem)\n",
        "\n",
        "# 信頼区間を表示\n",
        "print(f\"信頼区間: ({lower_bound:.2f}, {upper_bound:.2f})\")\n"
      ],
      "metadata": {
        "id": "fxO2XI-_Pexq"
      },
      "execution_count": null,
      "outputs": []
    },
    {
      "cell_type": "markdown",
      "source": [
        "# 参考"
      ],
      "metadata": {
        "id": "EWCZG5O7w1pC"
      }
    },
    {
      "cell_type": "markdown",
      "source": [
        "### 行や列の限定\n",
        "\n",
        "iloc を使い、DataFrame に格納された表の一部だけを取り出すことが可能。\n",
        "\n",
        "基本的な使い方は、\n",
        "\n",
        "> iloc[ 行の範囲を指定, 列の範囲を指定 ]"
      ],
      "metadata": {
        "id": "CLcf28QHw4SP"
      }
    },
    {
      "cell_type": "code",
      "source": [
        "# 0行目から2行目まで、2列目から4列目まで\n",
        "data.iloc[0:3,2:5]"
      ],
      "metadata": {
        "id": "TWy9inONw4SP"
      },
      "execution_count": null,
      "outputs": []
    },
    {
      "cell_type": "code",
      "source": [
        "# 0行目から2行目まで\n",
        "data.iloc[0:3,:]"
      ],
      "metadata": {
        "id": "a-UFCeJMw4SP"
      },
      "execution_count": null,
      "outputs": []
    },
    {
      "cell_type": "code",
      "source": [
        "# 1列目から最後まで\n",
        "data.iloc[1:3,1:]"
      ],
      "metadata": {
        "id": "nuIeldIbw4SQ"
      },
      "execution_count": null,
      "outputs": []
    },
    {
      "cell_type": "code",
      "source": [
        "# 1列目から最後の1つ前まで\n",
        "data.iloc[1:3,:-1]"
      ],
      "metadata": {
        "id": "UHHMZiU1w4SQ"
      },
      "execution_count": null,
      "outputs": []
    },
    {
      "cell_type": "markdown",
      "source": [
        "### 行番号と列番号による指定\n",
        "\n",
        "> iloc[ 行のリスト, 列のリスト ]"
      ],
      "metadata": {
        "id": "G4zYtQKPw4SQ"
      }
    },
    {
      "cell_type": "code",
      "source": [
        "data.iloc[[100,1,102],[0,2,3]]"
      ],
      "metadata": {
        "id": "nFEF-kobw4SQ"
      },
      "execution_count": null,
      "outputs": []
    },
    {
      "cell_type": "code",
      "source": [
        "# 行番号や列番号を省略すると全て選択される\n",
        "data.iloc[[100,1,102],]"
      ],
      "metadata": {
        "id": "Gbfsohp6w4SQ"
      },
      "execution_count": null,
      "outputs": []
    }
  ]
}