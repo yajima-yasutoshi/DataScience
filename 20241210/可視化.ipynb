{
  "cells": [
    {
      "cell_type": "markdown",
      "metadata": {
        "id": "view-in-github",
        "colab_type": "text"
      },
      "source": [
        "<a href=\"https://colab.research.google.com/github/yajima-yasutoshi/DataScience/blob/main/20241210/%E5%8F%AF%E8%A6%96%E5%8C%96.ipynb\" target=\"_parent\"><img src=\"https://colab.research.google.com/assets/colab-badge.svg\" alt=\"Open In Colab\"/></a>"
      ]
    },
    {
      "cell_type": "markdown",
      "source": [
        "#可視化"
      ],
      "metadata": {
        "id": "aR2rbuJl4-UE"
      }
    },
    {
      "cell_type": "markdown",
      "metadata": {
        "id": "g8YJ3oojiqNa"
      },
      "source": [
        "## 資料保管場所\n",
        "\n",
        "20241210\n",
        "\n"
      ]
    },
    {
      "cell_type": "markdown",
      "metadata": {
        "id": "KqYDlMQrWLbe"
      },
      "source": [
        "#準備\n",
        "日本語の環境設定と、\n",
        "データ分析に必要なPythonライブラリー（モジュール）のインストールと読み込みを実施します。\n",
        "\n",
        "\n",
        "*   numpy：数値計算\n",
        "*   pandas：主にデータ加工\n",
        "*   matplotlib：グラフを作成\n",
        "*   japanize_matplotlib：日本語を表示\n",
        "*   seaborn：グラフ作成\n",
        "\n"
      ]
    },
    {
      "cell_type": "code",
      "execution_count": null,
      "metadata": {
        "id": "LVms1r24ZdFi"
      },
      "outputs": [],
      "source": [
        "# 日本語の表示環境のインストール\n",
        "!pip install japanize-matplotlib"
      ]
    },
    {
      "cell_type": "code",
      "execution_count": null,
      "metadata": {
        "id": "rV9mAe6M6wQX"
      },
      "outputs": [],
      "source": [
        "# 分析に必要なモジュールの読み込み\n",
        "import numpy as np\n",
        "import pandas as pd\n",
        "import matplotlib.pyplot as plt\n",
        "import japanize_matplotlib\n",
        "\n",
        "# 可視化を行うためのパッケージ\n",
        "import seaborn as sns"
      ]
    },
    {
      "cell_type": "markdown",
      "metadata": {
        "id": "UwAe2rPGRy2X"
      },
      "source": [
        "# seaborn パッケージ\n",
        "\n",
        "上のコードの最後の行では、\n",
        "可視化を行うためのseaborn パッケージをインポートしている。\n",
        "以下のようにすることで、\n",
        "sns で始める命令でグラフ等を書くことができるようになる。\n",
        "\n",
        "```\n",
        "import seaborn as sns\n",
        "```"
      ]
    },
    {
      "cell_type": "markdown",
      "source": [
        "# データ準備\n",
        "\n",
        "## ファイルの取得\n",
        "\n",
        "以下のサイト\n",
        "\n",
        "https://github.com/yajima-yasutoshi/shunan-u/tree/main/data\n",
        "\n",
        "にアクセスし、customer_data.xlsx\n",
        "を各自のPCにダウンロードする。\n",
        "ダウンロードするフォルダーはどこでも構わない。\n",
        "\n",
        "## ファイルのGoogle Drive へのアップロード\n",
        "1. Google Drive で適当なフォルダーを作成\n",
        "2. PCのファイルをドラッグ＆ドロップでアップロードする。  \n",
        "あるいは、Google Driveで右クリックでメニューを開き、ファイルのアップロードを選択してもアップロードが可能である。\n",
        "\n",
        "## ドライブのマウント\n",
        "1. Colabにて、左端のフォルダーのアイコンをクリックし、ファイルメニューを開く。\n",
        "1. マウントアイコンをクリックし Google Driveをマウントする。\n",
        "1. drive の中の「MyDrive」が Google Drive のマイドライブとなる。\n",
        "\n",
        "  なお、一度設定すると、次回以降はノートブックを開くと自動的にマウントされる。\n",
        "\n",
        "## Colabで操作\n",
        "1. Driveメニューで目的のファイルにマウスを合わせ、ファイル名の右にある縦3つの「・」部分をクリックして「パスをコピー」を選択する。\n",
        "1. 以下のPythonコードの 2行目を先ほどコピーしたパスに変更する。ctrl+v でペーストされる。"
      ],
      "metadata": {
        "id": "RMNt8ua6wz1I"
      }
    },
    {
      "cell_type": "markdown",
      "metadata": {
        "id": "p9PmCg4E75Et"
      },
      "source": [
        "# データの読み込みとクレンジング\n",
        "\n",
        "**file_path の部分を各自のディレクトリーに合わせて変更すること。\n",
        "また、マウント操作も行うこと。**\n"
      ]
    },
    {
      "cell_type": "code",
      "execution_count": null,
      "metadata": {
        "id": "jFePfbYKVx8o"
      },
      "outputs": [],
      "source": [
        "# 読み込むファイルを指定する\n",
        "file_path = '/content/drive/MyDrive/データマイニング/customer_data.xlsx'\n",
        "\n",
        "# 今回は、df という変数に読み込むことにする\n",
        "df = pd.read_excel(file_path)"
      ]
    },
    {
      "cell_type": "markdown",
      "metadata": {
        "id": "GpZ80vMdQxuT"
      },
      "source": [
        "データのクレンジングを行う。\n",
        "\n",
        "以下のコードでは、\n",
        "inplace=True を付けて drop を実行することで、dfの内容を変更している。\n"
      ]
    },
    {
      "cell_type": "code",
      "execution_count": null,
      "metadata": {
        "id": "nXgLDNv8XOWY"
      },
      "outputs": [],
      "source": [
        "# 欠損値のあるレコードを削除\n",
        "df.dropna(inplace=True)\n",
        "\n",
        "# 外れ値の削除\n",
        "indices_to_drop = df[(df['年齢'] >= 90)].index\n",
        "\n",
        "# 指定したインデックスのレコードを削除\n",
        "df.drop(indices_to_drop, inplace=True)\n",
        "\n",
        "df.shape"
      ]
    },
    {
      "cell_type": "markdown",
      "metadata": {
        "id": "dNzZ3n0Qcvnx"
      },
      "source": [
        "欠損値を処理した結果、データ全体でレコード件数は488件、項目数は9個であることが分かる。"
      ]
    },
    {
      "cell_type": "markdown",
      "source": [
        "# レコード件数の可視化（countplot）\n",
        "\n",
        "カテゴリ属性の項目に対して カテゴリ値毎のレコード件数を可視化するためには、\n",
        "\n",
        "countplot\n",
        "\n",
        "を用いる。"
      ],
      "metadata": {
        "id": "fk4V_6eRDavA"
      }
    },
    {
      "cell_type": "markdown",
      "source": [
        "カテゴリ型の項目では、\n",
        "カテゴリ毎のレコード件数を\n",
        "value_counts()\n",
        "で計算できた。\n",
        "例えば、職業の項目であれば以下のようになる。\n",
        "\n",
        "\n"
      ],
      "metadata": {
        "id": "vDbXPb1QDmUz"
      }
    },
    {
      "cell_type": "code",
      "source": [
        "df['職業'].value_counts()"
      ],
      "metadata": {
        "id": "Yzu6Ufo9DLvr"
      },
      "execution_count": null,
      "outputs": []
    },
    {
      "cell_type": "markdown",
      "metadata": {
        "id": "JH6YLzpF_ce2"
      },
      "source": [
        "seaborn の countplot を使うことで、カテゴリ属性の項目に対して\n",
        "カテゴリ値毎のレコード件数をグラフで可視化することが可能である。\n",
        "\n",
        "```\n",
        "import seaborn as sns\n",
        "sns.countplot(x='職業', data=df)\n",
        "```\n",
        "\n",
        "上の例では、分類したい**カテゴリ項目**を x に指定し、\n",
        "\n",
        "```\n",
        "x='項目名'\n",
        "```\n",
        "\n",
        "データフレーム変数を data に指定する。\n",
        "\n",
        "```\n",
        "data = データフレーム変数\n",
        "```\n",
        "\n",
        "項目名はシングルクォーテーションで囲む必要がある。"
      ]
    },
    {
      "cell_type": "markdown",
      "metadata": {
        "id": "IWkOW0tfdEpV"
      },
      "source": [
        "例えば、データフレーム変数が df の場合、\n",
        "項目'職業' のレコード数をカテゴリ毎にカウントして可視化するためには\n",
        "以下のように実行する。"
      ]
    },
    {
      "cell_type": "code",
      "execution_count": null,
      "metadata": {
        "id": "B3Fj30jxSMHD"
      },
      "outputs": [],
      "source": [
        "# 職業別にレコード件数をグラフにする\n",
        "sns.countplot(x='職業', data=df)\n",
        "plt.show()"
      ]
    },
    {
      "cell_type": "markdown",
      "metadata": {
        "id": "i0qojnfFDz6u"
      },
      "source": [
        "`sns.countplot(data=df, x='職業')`\n",
        "\n",
        "のように\n",
        "「data=」 と 「x=」\n",
        "の順番を変えても問題ない。"
      ]
    },
    {
      "cell_type": "markdown",
      "metadata": {
        "id": "ZtHmpOwUSTRj"
      },
      "source": [
        "## グラフにタイトルを付与する\n",
        "\n",
        "グラフのタイトルや、\n",
        "縦軸と横軸にラベルを加えることが可能。"
      ]
    },
    {
      "cell_type": "code",
      "execution_count": null,
      "metadata": {
        "id": "tEphQ5Vs_bRR"
      },
      "outputs": [],
      "source": [
        "# 職業別にレコード件数をグラフにする\n",
        "sns.countplot(x='職業', data=df)\n",
        "plt.title('職業別の人数') # タイトル\n",
        "plt.xlabel('職業')        # X軸のラベル\n",
        "plt.ylabel('人数')        # Y軸のラベル\n",
        "plt.show()"
      ]
    },
    {
      "cell_type": "markdown",
      "source": [
        "カテゴリ名を y 軸（縦軸）に並べた図にすることも可能である。"
      ],
      "metadata": {
        "id": "LVXIjhOYCvsP"
      }
    },
    {
      "cell_type": "code",
      "execution_count": null,
      "metadata": {
        "id": "Kxn9I3TRAnWg"
      },
      "outputs": [],
      "source": [
        "# y='項目名'とすることで横長のグラフにもできる\n",
        "sns.countplot(y='職業', data=df)\n",
        "plt.title('職業別の人数')\n",
        "plt.ylabel('職業')\n",
        "plt.xlabel('人数')\n",
        "plt.show()"
      ]
    },
    {
      "cell_type": "markdown",
      "metadata": {
        "id": "xf4Wi53sCzLa"
      },
      "source": [
        "## 層別して分類する\n",
        "\n",
        "hue で指定した項目でさらに分類して表示することができる。\n",
        "hue で指定する項目はカテゴリ型とする点に注意せよ。"
      ]
    },
    {
      "cell_type": "code",
      "execution_count": null,
      "metadata": {
        "id": "XebUVtbDA5yx"
      },
      "outputs": [],
      "source": [
        "# hue で指定した項目でカテゴリ分けして表示する\n",
        "# hue にはカテゴリ型の変数を指定する\n",
        "sns.countplot(x='職業', hue='性別', data=df)\n",
        "plt.title('職業別の人数')\n",
        "plt.xlabel('職業')\n",
        "plt.ylabel('人数')\n",
        "plt.show()"
      ]
    },
    {
      "cell_type": "markdown",
      "source": [
        "## 色の指定"
      ],
      "metadata": {
        "id": "oiGoLyneUf4R"
      }
    },
    {
      "cell_type": "markdown",
      "source": [
        "色を指定して、男性は青、女性は赤ためには、以下のように\n",
        "palette\n",
        "を指定する。"
      ],
      "metadata": {
        "id": "c-EyugFsHt9J"
      }
    },
    {
      "cell_type": "code",
      "execution_count": null,
      "metadata": {
        "id": "HkLrFIHRfc5c"
      },
      "outputs": [],
      "source": [
        "# palette で色を指定できる\n",
        "sns.countplot(x='職業', hue='性別', data=df, palette={'男性': 'blue', '女性': 'red'})\n",
        "plt.title('職業別の人数')\n",
        "plt.xlabel('職業')\n",
        "plt.ylabel('人数')\n",
        "plt.show()"
      ]
    },
    {
      "cell_type": "markdown",
      "metadata": {
        "id": "1O3Ey6uYhHQ9"
      },
      "source": [
        "### 代表的な色\n",
        "\n",
        "以下の色を用いることができる。\n",
        "\n",
        "* blue\n",
        "* green\n",
        "* red\n",
        "* cyan\n",
        "* magenta\n",
        "* yellow\n",
        "* black\n",
        "* white\n",
        "\n",
        "詳しくは以下を参照  \n",
        "https://matplotlib.org/stable/gallery/color/named_colors.html"
      ]
    },
    {
      "cell_type": "markdown",
      "metadata": {
        "id": "DNggjVMSVd43"
      },
      "source": [
        "## 表示順序の制御\n",
        "\n",
        "グラフの表示順序を変更することができる。"
      ]
    },
    {
      "cell_type": "code",
      "execution_count": null,
      "metadata": {
        "id": "t4qalqFEVYyv"
      },
      "outputs": [],
      "source": [
        "# 何も指定しない場合\n",
        "sns.countplot(data=df, x='性別')"
      ]
    },
    {
      "cell_type": "markdown",
      "metadata": {
        "id": "tJoZg0IJV1js"
      },
      "source": [
        "order でカテゴリの順序を指定できる。"
      ]
    },
    {
      "cell_type": "code",
      "execution_count": null,
      "metadata": {
        "id": "pFgS6hvRVsdO"
      },
      "outputs": [],
      "source": [
        "sns.countplot(data=df, x='性別', order=['女性', '男性'])"
      ]
    },
    {
      "cell_type": "markdown",
      "source": [
        "hue の順序を指定する場合には、hue_order を用いる。"
      ],
      "metadata": {
        "id": "-ZapShp6IZfw"
      }
    },
    {
      "cell_type": "code",
      "execution_count": null,
      "metadata": {
        "id": "bn6hg_V9BK4Q"
      },
      "outputs": [],
      "source": [
        "# さらに、hue の表示順も変更できる\n",
        "sns.countplot(data=df, x='性別', order=['女性', '男性'], hue='職業', hue_order=['学生', '会社員', '公務員', 'その他'])\n",
        "plt.show()"
      ]
    },
    {
      "cell_type": "markdown",
      "metadata": {
        "id": "xKxgbW0MlmgT"
      },
      "source": [
        "# 棒グラフ（barplot）\n",
        "\n",
        "数値属性の項目に対して、合計や平均などの集計を行いその結果を表示するためには、\n",
        "\n",
        "barplot\n",
        "\n",
        "を用いる。"
      ]
    },
    {
      "cell_type": "markdown",
      "metadata": {
        "id": "BANYuTGxESyq"
      },
      "source": [
        "### 基本の使い方"
      ]
    },
    {
      "cell_type": "markdown",
      "source": [
        "まず、簡単なデータフレームを定義する。"
      ],
      "metadata": {
        "id": "cc7Fnd4MIzBK"
      }
    },
    {
      "cell_type": "code",
      "execution_count": null,
      "metadata": {
        "id": "Q84wHRP4PhMc"
      },
      "outputs": [],
      "source": [
        "# 以下のコードを実行してデータフレームを作成する。\n",
        "fruits = pd.DataFrame(\n",
        "    data={'商品': ['リンゴ', 'みかん', 'スイカ', 'バナナ'],\n",
        "          '金額': [100, 50, 700, 200]})\n",
        "fruits"
      ]
    },
    {
      "cell_type": "markdown",
      "metadata": {
        "id": "KbVNHmhibD00"
      },
      "source": [
        "横軸にしたい項目を x 、縦軸にしたい項目を y に指定する。\n",
        "項目名はクオーテーションする必要がある。"
      ]
    },
    {
      "cell_type": "code",
      "execution_count": null,
      "metadata": {
        "id": "dZWHr2p7P1mf"
      },
      "outputs": [],
      "source": [
        "# 横軸を商品、縦軸を金額にする場合\n",
        "sns.barplot(x='商品', y='金額', data = fruits)\n",
        "plt.title('商品の金額')\n",
        "plt.xlabel('商品')\n",
        "plt.ylabel('金額（円）')\n",
        "plt.show()"
      ]
    },
    {
      "cell_type": "code",
      "execution_count": null,
      "metadata": {
        "id": "U1nHkSUvQE_F"
      },
      "outputs": [],
      "source": [
        "# 縦軸と横軸を入れ替えることもできる。\n",
        "sns.barplot(y='商品', x='金額', data = fruits)\n",
        "plt.title('商品の金額')\n",
        "plt.ylabel('商品')\n",
        "plt.xlabel('金額（円）')\n",
        "plt.show()"
      ]
    },
    {
      "cell_type": "markdown",
      "metadata": {
        "id": "6Ue-rjkOcUkG"
      },
      "source": [
        "データフレームを以下のように変更する。「バナナ」のレコードが２つある場合。"
      ]
    },
    {
      "cell_type": "code",
      "execution_count": null,
      "metadata": {
        "id": "YeJ9hAOGb6rT"
      },
      "outputs": [],
      "source": [
        "fruits = pd.DataFrame(\n",
        "    data={'商品': ['リンゴ', 'みかん', 'スイカ', 'バナナ', 'バナナ'],\n",
        "          '金額': [100, 50, 700, 200, 250]})\n",
        "fruits"
      ]
    },
    {
      "cell_type": "markdown",
      "source": [
        "barplot は自動的に集計を行う。デフォルトの集計方法は平均である。\n",
        "また、95%信頼区間も表示される。"
      ],
      "metadata": {
        "id": "I489PXbXWThi"
      }
    },
    {
      "cell_type": "code",
      "execution_count": null,
      "metadata": {
        "id": "gr1_O7hPRxTv"
      },
      "outputs": [],
      "source": [
        "# カテゴリ毎に分類され自動的に平均が計算さる\n",
        "# 縦の棒は95%信頼区間\n",
        "sns.barplot(x = '商品', y='金額', data = fruits)\n",
        "plt.show()"
      ]
    },
    {
      "cell_type": "markdown",
      "metadata": {
        "id": "FpA6aSRKwua-"
      },
      "source": [
        "以降は、customer_data.xls のデータを使うため、再度読み込みを行いクレンジングも実行する。"
      ]
    },
    {
      "cell_type": "code",
      "execution_count": null,
      "metadata": {
        "id": "7eiBFhyEYU4b"
      },
      "outputs": [],
      "source": [
        "# df という変数に読み込む。\n",
        "df = pd.read_excel(file_path)\n",
        "\n",
        "# 欠損値のあるレコードを削除\n",
        "df.dropna(inplace=True)\n",
        "\n",
        "# 外れ値の削除\n",
        "indices_to_drop = df[(df['年齢'] >= 90)].index\n",
        "\n",
        "# 指定したインデックスのレコードを削除\n",
        "df.drop(indices_to_drop, inplace=True)"
      ]
    },
    {
      "cell_type": "markdown",
      "metadata": {
        "id": "KIuOFvuNkP-n"
      },
      "source": [
        "## barplot で可視化できること\n",
        "\n",
        "### 例：Aの利用回数の平均は、は男女で異なるのか？\n",
        "\n",
        "groupby\n",
        "\n",
        "を使うと数値として確認できた。"
      ]
    },
    {
      "cell_type": "code",
      "source": [
        "# 性別で分類して年齢の平均を求める。\n",
        "df.groupby('性別')['Aの利用回数'].mean()"
      ],
      "metadata": {
        "id": "taIf4dTGJ74W"
      },
      "execution_count": null,
      "outputs": []
    },
    {
      "cell_type": "markdown",
      "source": [
        "barplot で男性の平均と女性の平均を可視化する。\n",
        "99%信頼区間も表示している。"
      ],
      "metadata": {
        "id": "r5VjlWezKMAL"
      }
    },
    {
      "cell_type": "code",
      "execution_count": null,
      "metadata": {
        "id": "2OnOYkK4i4-e"
      },
      "outputs": [],
      "source": [
        "# 男女別に、Aの利用回数を平均し可視化する\n",
        "# 95%信頼区間が表示される。\n",
        "sns.barplot(x='性別', y='Aの利用回数', data=df, estimator=np.mean, errorbar=('ci', 99))\n",
        "plt.title('男女別のAの平均利用回数')\n",
        "plt.xlabel('性別')\n",
        "plt.ylabel('回数')\n",
        "plt.show()"
      ]
    },
    {
      "cell_type": "code",
      "source": [
        "# 男女別に、Aの利用回数を平均し可視化する\n",
        "# 95%信頼区間が表示される。\n",
        "sns.barplot(x='性別', y='Aの利用回数', data=df)\n",
        "plt.title('男女別のAの平均利用回数')\n",
        "plt.xlabel('性別')\n",
        "plt.ylabel('回数')\n",
        "plt.show()"
      ],
      "metadata": {
        "id": "RgjupA2SuHa2"
      },
      "execution_count": null,
      "outputs": []
    },
    {
      "cell_type": "markdown",
      "metadata": {
        "id": "dOZa3wF_lwGx"
      },
      "source": [
        "estimator=np.mean\n",
        "の部分を省略すると平均値を意味する。\n",
        "\n",
        "以下の関数を指定し、平均以外も扱うことが可能。\n",
        "\n",
        "集計関数 | 意味\n",
        "-- | --\n",
        "np.mean | 平均\n",
        "np.median | 中央値\n",
        "np.sum  | 合計\n"
      ]
    },
    {
      "cell_type": "code",
      "execution_count": null,
      "metadata": {
        "id": "-fYb5VG8mDj_"
      },
      "outputs": [],
      "source": [
        "# 棒グラフを描画\n",
        "# estimator=np.mean の部分を省略しても自動的に平均が計算れる\n",
        "sns.barplot(x='性別', y='年収', data=df)\n",
        "plt.title('男女別の平均年収')\n",
        "plt.xlabel('性別')\n",
        "plt.ylabel('金額（万円）')\n",
        "plt.show()"
      ]
    },
    {
      "cell_type": "code",
      "execution_count": null,
      "metadata": {
        "id": "WatLOD3AMBoT"
      },
      "outputs": [],
      "source": [
        "sns.barplot(x='職業', y='Aの利用回数', data = df)"
      ]
    },
    {
      "cell_type": "markdown",
      "metadata": {
        "id": "HJ0RDE1_Ff4S"
      },
      "source": [
        "### groupby を使う方法\n",
        "\n",
        "groupby の結果を使う際には、reset_index() を付けて\n",
        "データフレーム変数に代入すると良い。"
      ]
    },
    {
      "cell_type": "code",
      "execution_count": null,
      "metadata": {
        "id": "kikNXnohPMSD"
      },
      "outputs": [],
      "source": [
        "grouped = df[['職業', 'Aの利用回数', 'Bの利用回数']].groupby(['職業']).mean().reset_index()\n",
        "grouped"
      ]
    },
    {
      "cell_type": "code",
      "execution_count": null,
      "metadata": {
        "id": "gUgkjvipBxdY"
      },
      "outputs": [],
      "source": [
        "# grouped = df[['職業', 'Aの利用回数', 'Bの利用回数']].groupby(['職業']).mean().reset_index()\n",
        "sns.barplot(x='職業', y='Aの利用回数', order=['学生', '会社員','公務員','その他'], data = grouped)\n",
        "\n",
        "plt.title('職業別のAの平均利用回数')\n",
        "plt.xlabel('職業')\n",
        "plt.ylabel('Aの利用回数')\n",
        "plt.show()"
      ]
    },
    {
      "cell_type": "markdown",
      "metadata": {
        "id": "sxoWd8PR-1EP"
      },
      "source": [
        "#ヒストグラム（histplot）\n",
        "\n",
        "数値型の項目で、区間毎の件数を可視化したものを**ヒストグラム**と呼ぶ。\n",
        "\n",
        "作成には、histplot を用いる。"
      ]
    },
    {
      "cell_type": "code",
      "execution_count": null,
      "metadata": {
        "id": "Nco3wCtKryxd"
      },
      "outputs": [],
      "source": [
        "sns.histplot( df['年齢'], binwidth=10)"
      ]
    },
    {
      "cell_type": "markdown",
      "metadata": {
        "id": "8-v01W4csAN4"
      },
      "source": [
        "グラフにする際の区間（棒の幅）を**階級**(bin)と呼ぶ。\n",
        "binwidth=10 としたことで、年齢を10歳毎に分けて表示されることになる。\n"
      ]
    },
    {
      "cell_type": "markdown",
      "metadata": {
        "id": "nO9dWHtaqh0r"
      },
      "source": [
        "bins=10 とすることで、年齢を10個に区分け（**階級**と呼ぶ）することを意味している。"
      ]
    },
    {
      "cell_type": "code",
      "execution_count": null,
      "metadata": {
        "id": "QDUgqbeksbj0"
      },
      "outputs": [],
      "source": [
        "sns.histplot( df['年齢'], bins=10)"
      ]
    },
    {
      "cell_type": "markdown",
      "metadata": {
        "id": "wiaUqcirdaPM"
      },
      "source": [
        "### ヒストグラムから読み取れること\n",
        "\n",
        "データの分布の様子\n",
        "（どんな範囲でレコードが多いのか（少ないのか））"
      ]
    },
    {
      "cell_type": "code",
      "execution_count": null,
      "metadata": {
        "id": "9LEqpwuUo5Sb"
      },
      "outputs": [],
      "source": [
        "# 年齢のデータを取得\n",
        "# ages = df['年齢']\n",
        "# ヒストグラムを描画\n",
        "sns.histplot( df['年齢'], bins=10, kde=True)\n",
        "plt.title('年齢の分布')\n",
        "plt.xlabel('年齢')\n",
        "plt.ylabel('人数')\n",
        "plt.show()"
      ]
    },
    {
      "cell_type": "code",
      "execution_count": null,
      "metadata": {
        "id": "63G3ma24sPVB"
      },
      "outputs": [],
      "source": [
        "# ヒストグラムを描画\n",
        "sns.histplot( df['スマホ利用時間'])\n",
        "plt.title('１日当たりのスマホ利用時間の分布')\n",
        "plt.xlabel('時間/日')\n",
        "plt.ylabel('人数')\n",
        "plt.show()"
      ]
    },
    {
      "cell_type": "markdown",
      "metadata": {
        "id": "lxCv7UJLtD3U"
      },
      "source": [
        "## 層別\n",
        "hue を指定して分類もできる。2つのヒストグラムを重ねて表示する場合。"
      ]
    },
    {
      "cell_type": "code",
      "execution_count": null,
      "metadata": {
        "id": "CB5wz9sj32Jr"
      },
      "outputs": [],
      "source": [
        "# ヒストグラムを描画\n",
        "sns.histplot( data=df, x='スマホ利用時間', hue = '性別')\n",
        "plt.title('１日当たりのスマホ利用時間の分布')\n",
        "plt.xlabel('時間/日')\n",
        "plt.ylabel('人数')\n",
        "plt.show()"
      ]
    },
    {
      "cell_type": "markdown",
      "metadata": {
        "id": "L-I3uJ-CtQC3"
      },
      "source": [
        "hue を指定して、multiple='stack' とすると分類で積み上げることになる。"
      ]
    },
    {
      "cell_type": "code",
      "execution_count": null,
      "metadata": {
        "id": "3eWDVDlesx-c"
      },
      "outputs": [],
      "source": [
        "# ヒストグラムを描画\n",
        "sns.histplot( data=df, x='スマホ利用時間', hue = '性別', multiple=\"stack\")\n",
        "plt.title('１日当たりのスマホ利用時間の分布')\n",
        "plt.xlabel('時間/日')\n",
        "plt.ylabel('人数')\n",
        "plt.show()"
      ]
    },
    {
      "cell_type": "markdown",
      "source": [
        "# カーネル密度プロット（kdeplot）\n",
        "分布の様子を滑らかな曲線で可視化する。"
      ],
      "metadata": {
        "id": "n9U5e1heaZz_"
      }
    },
    {
      "cell_type": "code",
      "execution_count": null,
      "metadata": {
        "id": "rsSYxezS2RO7"
      },
      "outputs": [],
      "source": [
        "# KDE Plot\n",
        "sns.kdeplot(data = df, x = 'スマホ利用時間')\n",
        "plt.title('１日当たりのスマホ利用時間の分布')\n",
        "plt.xlabel('時間/日')\n",
        "plt.ylabel('密度')\n",
        "plt.show()"
      ]
    },
    {
      "cell_type": "code",
      "execution_count": null,
      "metadata": {
        "id": "0lcYJC-M3NVK"
      },
      "outputs": [],
      "source": [
        "sns.kdeplot(data = df, x = 'スマホ利用時間', hue = '性別')\n",
        "plt.title('スマホ利用時間の分布')\n",
        "plt.xlabel('時間/日')\n",
        "plt.ylabel('密度')\n",
        "plt.show()"
      ]
    },
    {
      "cell_type": "markdown",
      "metadata": {
        "id": "uUcdYugUh8Tn"
      },
      "source": [
        "# 箱ひげ図（boxplot）\n",
        "\n",
        "数値型の項目に対してデータの分布の様子を可視化する方法に\n",
        "**箱ひげ図**がある。\n",
        "\n",
        "以下のように boxplot を使い可視化する。"
      ]
    },
    {
      "cell_type": "code",
      "execution_count": null,
      "metadata": {
        "id": "Ra3RD-U-InXn"
      },
      "outputs": [],
      "source": [
        "#sns.catplotで箱ひげ図を描く\n",
        "sns.boxplot(y='年収', data=df)\n",
        "plt.show()"
      ]
    },
    {
      "cell_type": "markdown",
      "metadata": {
        "id": "LMDNu-YpXjrJ"
      },
      "source": [
        "箱ひげ図では、一つの図で\n",
        "\n",
        "* 最大値\n",
        "* 第三四分位\n",
        "* 中央値\n",
        "* 第一四分位\n",
        "* 最小値\n",
        "\n",
        "を可視化している。\n",
        "\n"
      ]
    },
    {
      "cell_type": "markdown",
      "metadata": {
        "id": "Sebkx4XpKZGR"
      },
      "source": [
        "最大と最小が棒線、第三四分位から第一四分位の間\n",
        "(**四分位範囲**と呼ばれる)\n",
        "を箱の形で表示している。\n",
        "また、以下の基準を超えるレコードを外れ値と判断して、黒いひし形で表示している\n",
        "\n",
        "* 第三四分位＋「箱の長さ」×1.5 より大\n",
        "* 第一四分位－「箱の長さ」×1.5 より小\n",
        "\n",
        "![image.png](data:image/png;base64,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)"
      ]
    },
    {
      "cell_type": "markdown",
      "metadata": {
        "id": "W_Ez5xWWKyMu"
      },
      "source": [
        "### 向きを変えることも可能"
      ]
    },
    {
      "cell_type": "code",
      "execution_count": null,
      "metadata": {
        "id": "mwNMic4AIuEq"
      },
      "outputs": [],
      "source": [
        "#sns.catplotで箱ひげ図を描く\n",
        "sns.boxplot(x='年収', data=df)\n",
        "plt.show()"
      ]
    },
    {
      "cell_type": "markdown",
      "metadata": {
        "id": "Fsd7GX6WI2cV"
      },
      "source": [
        "### 層別\n",
        "\n",
        "カテゴリ項目で分類して表示も可能"
      ]
    },
    {
      "cell_type": "code",
      "execution_count": null,
      "metadata": {
        "id": "_bj-LeypIOfK"
      },
      "outputs": [],
      "source": [
        "#箱ひげ図を描く\n",
        "sns.boxplot(x='性別', y='年収', data=df)\n",
        "plt.show()\n"
      ]
    },
    {
      "cell_type": "code",
      "source": [
        "#箱ひげ図を描く\n",
        "sns.boxplot(x='性別', y='スマホ利用時間', data=df)\n",
        "plt.show()\n"
      ],
      "metadata": {
        "id": "MKDQta2gzfRE"
      },
      "execution_count": null,
      "outputs": []
    },
    {
      "cell_type": "markdown",
      "source": [
        "#その他の可視化法"
      ],
      "metadata": {
        "id": "_27VbMB-o1bx"
      }
    },
    {
      "cell_type": "markdown",
      "source": [
        "##ストリッププロット\n",
        "数値の分布を確認する方法に、ストリッププロットがある。\n",
        "カテゴリ項目で区別して、\n",
        "分布の様子を比較する場合に良く用いる。"
      ],
      "metadata": {
        "id": "rHO1vw51wMeO"
      }
    },
    {
      "cell_type": "code",
      "source": [
        "# ストリッププロットで分布を可視化\n",
        "sns.stripplot(data=df, x='性別', y='スマホ利用時間')"
      ],
      "metadata": {
        "id": "RqWfFEtDpY3f"
      },
      "execution_count": null,
      "outputs": []
    },
    {
      "cell_type": "markdown",
      "source": [
        "## スウォームプロット\n",
        "ストリッププロットでは点が重なってしまう場合には、\n",
        "スウォームプロットやバイオリンプロットを用いる。\n"
      ],
      "metadata": {
        "id": "9bJe5gkuwVLx"
      }
    },
    {
      "cell_type": "code",
      "source": [
        "sns.swarmplot(data=df, x='性別', y='スマホ利用時間')"
      ],
      "metadata": {
        "id": "NcgbZefqu5zL"
      },
      "execution_count": null,
      "outputs": []
    },
    {
      "cell_type": "code",
      "source": [
        "sns.violinplot(data=df, x='性別', y='スマホ利用時間')"
      ],
      "metadata": {
        "id": "4r9ooC1oyNJs"
      },
      "execution_count": null,
      "outputs": []
    },
    {
      "cell_type": "markdown",
      "metadata": {
        "id": "Sb1FRB6UcD7L"
      },
      "source": [
        "# 散布図（scatterplot）\n",
        "\n",
        "2つの数値型の項目をそれぞれx軸とy軸に設定して、\n",
        "各レコードをプロットしたものを**散布図**と呼ぶ。\n",
        "\n",
        "x と y に数値型の項目を指定し、以下のように実行する。"
      ]
    },
    {
      "cell_type": "code",
      "execution_count": null,
      "metadata": {
        "id": "POD5d1VKYwWE"
      },
      "outputs": [],
      "source": [
        "# 年齢と収入の関係\n",
        "sns.scatterplot(data=df, x='年齢', y='年収')"
      ]
    },
    {
      "cell_type": "markdown",
      "metadata": {
        "id": "YH2azQ42uNB6"
      },
      "source": [
        "データにはレコードが488あるので、上の図には点が488個プロットされていることになる。（点同士が重なっている部分もある）"
      ]
    },
    {
      "cell_type": "code",
      "execution_count": null,
      "metadata": {
        "id": "J_qnxMP2bp2u"
      },
      "outputs": [],
      "source": [
        "# 性別で色分けする\n",
        "sns.scatterplot(data=df, x='年齢', y='年収', hue='性別', palette={'男性': 'blue', '女性': 'red'})\n",
        "plt.title('年齢と年収の関係')\n",
        "plt.show()"
      ]
    },
    {
      "cell_type": "markdown",
      "metadata": {
        "id": "wdOpR174gGXH"
      },
      "source": [
        "## 相関\n",
        "\n",
        "散布図を使うことで、2つの項目間の関係性が可視化された。\n",
        "\n",
        "上の散布図からは、年齢が大きくなると年収も大きくなることが分かる。\n",
        "この関係の強さを**相関**という。\n",
        "\n",
        "特に、\n",
        "一方が大きくなると他方も大きくなる場合に**正の相関**があるといい、\n",
        "一方が大きくなると他方が小さくなる場合に**負の相関**があるいう。\n",
        "また、相関の強さは、**相関係数** として定量化される。\n",
        "相関係数は -1 から 1 の値となる量で、\n",
        "正の相関がある場合は相関係数が正、負の相関の場合は負の値となる。\n",
        "\n",
        "相関係数を求めるためには\n",
        "\n",
        "\n",
        "```\n",
        "corr()\n",
        "```\n",
        "関数を用いる。例えば、\n",
        "散布図で示した「年齢」と「年収」の相関を知りたい場合は、\n",
        "以下のように実行する。"
      ]
    },
    {
      "cell_type": "code",
      "source": [
        "# 年齢と年収の相関係数\n",
        "df[['年齢', '年収']].corr()"
      ],
      "metadata": {
        "id": "PwAs1-BVS9cc"
      },
      "execution_count": null,
      "outputs": []
    },
    {
      "cell_type": "markdown",
      "source": [
        "右の上のセル、あるいは左下のセルの数値が相関係数を示している。"
      ],
      "metadata": {
        "id": "0pgwMYS95P94"
      }
    },
    {
      "cell_type": "markdown",
      "source": [
        "さらに、数値型の項目全ての組み合わせで相関を計算することも可能である。"
      ],
      "metadata": {
        "id": "osBDX12rwBO0"
      }
    },
    {
      "cell_type": "code",
      "source": [
        "df.corr(numeric_only=True)\n",
        "# df.corr() はカテゴリ型の項目が含まれているため、エラーとなる。"
      ],
      "metadata": {
        "id": "FWb98drLse0Z"
      },
      "execution_count": null,
      "outputs": []
    },
    {
      "cell_type": "markdown",
      "source": [
        "計算の結果は、以下のような**ヒートマップ**を使って可視化することが多い。"
      ],
      "metadata": {
        "id": "4uiNmLrHwtEY"
      }
    },
    {
      "cell_type": "code",
      "source": [
        "#sns.heatmap(df.corr(numeric_only=True), annot=True)\n",
        "sns.heatmap(df[ ['年齢', '年収', 'Aの利用回数', 'Bの利用回数'] ].corr(), annot=True)"
      ],
      "metadata": {
        "id": "xhvt7srpwYb3"
      },
      "execution_count": null,
      "outputs": []
    },
    {
      "cell_type": "markdown",
      "metadata": {
        "id": "kztB4B77BebP"
      },
      "source": [
        "# 同時分布図（jointplot）\n",
        "\n",
        "以下のように、\n",
        "2つの数値型項目の散布図とそれぞれのヒストグラムを合わせた\n",
        "図を表示させることも可能である。\n"
      ]
    },
    {
      "cell_type": "code",
      "execution_count": null,
      "metadata": {
        "id": "N01fCM3WA4hb"
      },
      "outputs": [],
      "source": [
        "sns.jointplot(x='Aの利用回数', y='Bの利用回数', data=df)\n",
        "plt.show()"
      ]
    },
    {
      "cell_type": "code",
      "execution_count": null,
      "metadata": {
        "id": "u4n-cQtYGp8v"
      },
      "outputs": [],
      "source": [
        "sns.jointplot(x='Aの利用回数', y='Bの利用回数', data=df, hue='年齢')\n",
        "plt.show()"
      ]
    },
    {
      "cell_type": "code",
      "execution_count": null,
      "metadata": {
        "id": "dnzaSbnMaZGw"
      },
      "outputs": [],
      "source": [
        "sns.relplot(x='Aの利用回数', y='Bの利用回数', data=df, hue='職業', size='年収')"
      ]
    },
    {
      "cell_type": "markdown",
      "metadata": {
        "id": "yijzDJ3pw22m"
      },
      "source": [
        "# 散布図行列表示（pairplot）\n",
        "\n",
        "項目毎にヒストグラムと、2つの**数値型項目**の組み合わせで散布図を一度の命令で作成することが可能である。作成する図を**散布図行列**と呼び、pairplot で作成できる。"
      ]
    },
    {
      "cell_type": "code",
      "source": [
        "sns.pairplot( data = df )\n",
        "plt.show()"
      ],
      "metadata": {
        "id": "GXUes5smJYDp"
      },
      "execution_count": null,
      "outputs": []
    },
    {
      "cell_type": "markdown",
      "source": [
        "hue に層別したい項目を指定できる。"
      ],
      "metadata": {
        "id": "G_lwFinXJr1j"
      }
    },
    {
      "cell_type": "code",
      "execution_count": null,
      "metadata": {
        "id": "ZJK5j5ZBZWWd"
      },
      "outputs": [],
      "source": [
        "_df =  df[['性別', '年齢', '年収', 'Aの利用回数', 'Bの利用回数']]\n",
        "sns.pairplot( data=_df, hue='性別', palette={'男性': 'blue', '女性': 'red'})\n",
        "plt.show()"
      ]
    },
    {
      "cell_type": "markdown",
      "source": [
        "---\n",
        "---\n",
        "\n",
        "#仮説検定\n"
      ],
      "metadata": {
        "id": "q5zUzebP2LI_"
      }
    },
    {
      "cell_type": "markdown",
      "source": [
        "## データの確認"
      ],
      "metadata": {
        "id": "bvV65hpUC2ab"
      }
    },
    {
      "cell_type": "markdown",
      "source": [
        "再度データを読み込み、四分位範囲を使い外れ値を除外する。"
      ],
      "metadata": {
        "id": "Zm6BsJ3yM5UZ"
      }
    },
    {
      "cell_type": "code",
      "source": [
        "# 再度データを変数 data に読み込む\n",
        "data = pd.read_excel(file_path)\n",
        "# data = data.sample(n=100, random_state=10)\n",
        "\n",
        "#NULLを削除する\n",
        "data = data.dropna()\n",
        "\n",
        "# 年収の四分位範囲を計算\n",
        "Q1 = data['年収'].quantile(0.25)\n",
        "Q3 = data['年収'].quantile(0.75)\n",
        "IQR = Q3 - Q1\n",
        "\n",
        "# 異常値の範囲を定義\n",
        "lower_bound = 0 # Q1 - 1.5 * IQR\n",
        "upper_bound = Q3 + 1.5 * IQR\n",
        "\n",
        "# 異常値を除外したデータフレームを作成\n",
        "data = data[(data['年収'] > lower_bound) & (data['年収'] < upper_bound)]\n"
      ],
      "metadata": {
        "id": "-Pgrno0iDh2T"
      },
      "execution_count": null,
      "outputs": []
    },
    {
      "cell_type": "markdown",
      "source": [
        "ヒストグラムを使い年収の分布を可視化する。"
      ],
      "metadata": {
        "id": "xynIftH4sWb4"
      }
    },
    {
      "cell_type": "code",
      "source": [
        "sns.histplot(data=data, x='年収', binwidth=50.0)\n",
        "plt.xlabel('年収(万円単位)')\n",
        "plt.ylabel('頻度')\n",
        "plt.title('年収のヒストグラム')\n",
        "plt.show()"
      ],
      "metadata": {
        "id": "hAhKhBr9EmsT"
      },
      "execution_count": null,
      "outputs": []
    },
    {
      "cell_type": "code",
      "source": [
        "# 年収のヒストグラムを性別で層別して作成する。\n",
        "sns.histplot(data=data, x='年収', hue='性別', binwidth=50.0)\n",
        "plt.xlabel('年収(万円単位)')\n",
        "plt.ylabel('頻度')\n",
        "plt.title('年収のヒストグラム')\n",
        "plt.show()\n"
      ],
      "metadata": {
        "id": "ZMQoTuphE4sF"
      },
      "execution_count": null,
      "outputs": []
    },
    {
      "cell_type": "markdown",
      "source": [
        "## 平均値の差の検定（t検定）\n",
        "\n",
        "男性と女性で平均年収に差があるのかを確認したい。"
      ],
      "metadata": {
        "id": "tv7MbDFI8iPN"
      }
    },
    {
      "cell_type": "code",
      "source": [
        "sns.boxplot(data=data, x='性別', y='年収')\n",
        "plt.show()"
      ],
      "metadata": {
        "id": "MYIhLdrJsy2W"
      },
      "execution_count": null,
      "outputs": []
    },
    {
      "cell_type": "code",
      "source": [
        "pd.options.display.float_format = '{:.2f}'.format  # 小数点以下2桁で表示\n",
        "#年収の平均を男女で比較する\n",
        "data.groupby('性別')['年収'].mean()"
      ],
      "metadata": {
        "id": "nrljELlF3kFa"
      },
      "execution_count": null,
      "outputs": []
    },
    {
      "cell_type": "code",
      "source": [
        "# 男性と女性の平均年収の差を計算する\n",
        "\n",
        "male_mean_salary = data[data['性別'] == '男性']['年収'].mean()\n",
        "female_mean_salary = data[data['性別'] == '女性']['年収'].mean()\n",
        "salary_difference = male_mean_salary - female_mean_salary\n",
        "print(f\"男性と女性の平均年収の差: {salary_difference:.1f}\")\n"
      ],
      "metadata": {
        "id": "LExnx8kgQGbn"
      },
      "execution_count": null,
      "outputs": []
    },
    {
      "cell_type": "markdown",
      "source": [
        "得られているデータ（標本）で平均年収を計算すると\n",
        "男性と女性では異なる値となっている。\n",
        "しかし、\n",
        "\n",
        "   **この差は意味のある（偶然でない）差であるのか？**\n",
        "\n",
        "これを仮説検定を使い統計的に判断する。\n",
        "\n",
        "仮説検定では、「仮に男女で平均年収は等しい」と仮定して、\n",
        "「データから計算された差が生じる確率\n",
        "（正確にはより差が大きく極端な結果となる確率）」\n",
        "を計算する。\n",
        "\n",
        "ここでの仮定を**帰無仮説**、\n",
        "確率を **$p$ 値** と呼ぶ。\n",
        "\n",
        "$p$ 値が十分に小さいのであれば、\n",
        "起こり得ないデータが得られたと考えられることから、\n",
        "帰無仮説が間違っていた\n",
        "（帰無仮説を**棄却する**という）、\n",
        "すなわち\n",
        "男女で平均年収は等しくないと結論付ける。\n",
        "\n",
        " **統計的に優位な差がある**という。\n",
        "\n",
        "\n",
        "通常は $p$ 値が 0.05 以下になれば、十分小さいとする。\n",
        "0.05 という基準を\n",
        "**有意水準** と呼び、$\\alpha$ という記号を用いる。\n",
        "\n",
        "確率を計算するために scipy パッケージが便利である。\n",
        "\n",
        "検定したい2つのデータが\n",
        "それぞれ変数A,Bに格納されているとして\n",
        "\n",
        "```\n",
        "from scipy import stats #パッケージのインポート\n",
        "t_stat, p_value = stats.ttest_ind(A, B)\n",
        "```\n",
        "と実行する。$p$値は変数 p_value に格納される。\n",
        "\n",
        "具体的には、以下のように実行する。\n",
        "\n"
      ],
      "metadata": {
        "id": "TfX8EjRCP9Pf"
      }
    },
    {
      "cell_type": "code",
      "source": [
        "# パッケージのインポート\n",
        "from scipy import stats\n",
        "\n",
        "# 男女間の年収の平均を比較\n",
        "data_male = data[data['性別'] == '男性']['年収']\n",
        "data_female = data[data['性別'] == '女性']['年収']\n",
        "\n",
        "# t検定を実行\n",
        "t_stat, p_value = stats.ttest_ind(data_male, data_female)\n",
        "\n",
        "print(f\"t-statistic: {t_stat:.2f}\")\n",
        "print(f\"p-value: {p_value:.5f}\")\n"
      ],
      "metadata": {
        "id": "wsAZrfS_5P3p"
      },
      "execution_count": null,
      "outputs": []
    },
    {
      "cell_type": "markdown",
      "source": [
        "上の例では、\n",
        "$p$値が小さく\n",
        "確率の非常に小さなデータが得られていることになる。\n",
        "すなわち、帰無仮説は棄却され、\n",
        "**有意水準 $\\alpha=0.05$ で男女間で年収は統計的に優位な差がある**\n",
        "と結論付けされる。\n",
        "\n",
        "一方で、もし$p$値が優位水準より大きな場合、\n",
        "統計的には帰無仮説を否定するだけのデータが得られていないことになる。\n",
        "**帰無仮説が正しいと主張することもできない点に注意する。**"
      ],
      "metadata": {
        "id": "Qs2oxwg7yj7a"
      }
    },
    {
      "cell_type": "markdown",
      "source": [
        "## 等分散性の確認\n",
        "t検定は、\n",
        "2つのグループ（上の例では男性と女性の年収）の\n",
        "分散が等しい場合に用いる方法である。\n",
        "\n",
        "そこで、分散が等しいことを確認する必要がある。\n",
        "これには、ルビーン検定が用いられる。\n",
        "\n",
        "ここでの帰無仮説は\n",
        "**男性と女性で収入の分布の分散が等しい**\n",
        "である。"
      ],
      "metadata": {
        "id": "SdSTORXn8oif"
      }
    },
    {
      "cell_type": "code",
      "source": [
        "data_male.var()"
      ],
      "metadata": {
        "id": "Dj8S95Rpv-ar"
      },
      "execution_count": null,
      "outputs": []
    },
    {
      "cell_type": "code",
      "source": [
        "data_female.var()"
      ],
      "metadata": {
        "id": "anglxsDowL9M"
      },
      "execution_count": null,
      "outputs": []
    },
    {
      "cell_type": "code",
      "source": [
        "# 男性と女性で年収の分布の分散が等しいか検定する\n",
        "\n",
        "# 等分散性の検定\n",
        "levene_stat, levene_p_value = stats.levene(data_male, data_female)\n",
        "print(f\"Levene's test statistic: {levene_stat:.2f}\")\n",
        "print(f\"p-value: {levene_p_value:.5f}\")"
      ],
      "metadata": {
        "id": "h4pUDNh_Aw_D"
      },
      "execution_count": null,
      "outputs": []
    },
    {
      "cell_type": "markdown",
      "source": [
        "この結果より、\n",
        "$p$ 値が大きく\n",
        "帰無仮説を積極的に否定するデータが得られていない、\n",
        "と結論することになる。\n"
      ],
      "metadata": {
        "id": "fFbqXrfJ98vu"
      }
    },
    {
      "cell_type": "markdown",
      "source": [
        "### 余談\n",
        "帰無仮説として設定できない仮定もある。例えば、\n",
        "「男性と女性で年収の分布の分散が異なる」\n",
        "という仮定は帰無仮説として用いることはできない。\n",
        "「異なる」といったように無数に可能性が考えられるような仮説は\n",
        "帰無仮説として用いることはできない。\n",
        "帰無仮説となるものは、「等しい」など一点となるような仮説である。"
      ],
      "metadata": {
        "id": "DTavjeuSwnbi"
      }
    },
    {
      "cell_type": "markdown",
      "source": [
        "### ウェルチのt検定\n",
        "\n",
        "2つの群のデータの分散が異なる\n",
        "（等分散という帰無仮説が棄却された場合）\n",
        "と判断される場合には\n",
        "ウェルチのt検定を用いる。この場合は、\n",
        "「equal_var=False」を追加して、以下のようにすればよい。\n",
        "\n",
        "```\n",
        "ttest_ind(data_male, data_female, equal_var=False)\n",
        "```\n"
      ],
      "metadata": {
        "id": "gLstF5g_GNrn"
      }
    },
    {
      "cell_type": "code",
      "source": [
        "# パッケージのインポート\n",
        "from scipy import stats\n",
        "\n",
        "# 男女間の年収の平均を比較\n",
        "data_male = data[data['性別'] == '男性']['年収']\n",
        "data_female = data[data['性別'] == '女性']['年収']\n",
        "\n",
        "# t検定を実行\n",
        "t_stat, p_value = stats.ttest_ind(data_male, data_female, equal_var=False)\n",
        "\n",
        "print(f\"t-statistic: {t_stat:.2f}\")\n",
        "print(f\"p-value: {p_value:.5f}\")\n"
      ],
      "metadata": {
        "id": "zUnrbtVzFb-7"
      },
      "execution_count": null,
      "outputs": []
    },
    {
      "cell_type": "markdown",
      "source": [
        "## 会社員と公務員で年収の平均の差を検定する"
      ],
      "metadata": {
        "id": "xdc8pQA4gIbc"
      }
    },
    {
      "cell_type": "code",
      "source": [
        "# 職業が会社員と公務員のデータフレームを作成する。\n",
        "data_sub = data[( data['職業'] == '会社員') | ( data['職業'] == '公務員')]\n"
      ],
      "metadata": {
        "id": "mXu2rd7LgrwB"
      },
      "execution_count": null,
      "outputs": []
    },
    {
      "cell_type": "markdown",
      "source": [
        "Boxプロットで分布の様子を確認する。"
      ],
      "metadata": {
        "id": "eCGR1hE9gZr8"
      }
    },
    {
      "cell_type": "code",
      "source": [
        "sns.boxplot(data=data_sub, x='職業', y='年収')\n",
        "plt.show()"
      ],
      "metadata": {
        "id": "1H5VFHF7gflx"
      },
      "execution_count": null,
      "outputs": []
    },
    {
      "cell_type": "markdown",
      "source": [
        "---\n",
        "---\n",
        "---\n"
      ],
      "metadata": {
        "id": "6AWcpf2PGSpI"
      }
    },
    {
      "cell_type": "markdown",
      "source": [
        "# 基礎集計と可視化のまとめ\n",
        "\n",
        "基礎集計と可視化を使ってデータを理解する際のポイントをまとめる。\n",
        "ここで、データはPandasのデータフレームに格納されており、\n",
        "変数名を df とする。\n",
        "\n",
        "## データ理解\n",
        "\n",
        "### 各列が、数値型とカテゴリ型のどちらかを把握する\n",
        "\n",
        "```\n",
        "df.info()\n",
        "```\n",
        "\n",
        "### 欠損値の有無を確認する\n",
        "```\n",
        "df.isnull().sum()\n",
        "```\n",
        "\n",
        "### 欠損値の処理\n",
        "\n",
        "* 数値型の場合\n",
        "\n",
        "欠損値を平均や中央値などの適切な数値で埋める\n",
        "```\n",
        "fillna( 適切な数値 )\n",
        "```\n",
        "\n",
        "* カテゴリ型の場合\n",
        "\n",
        "カテゴリ毎のレコード数を確認し、\n",
        "モードなどの適切なカテゴリを判断する。\n",
        "```\n",
        "value_count()\n",
        "```\n",
        "\n",
        "### 記述統計量の確認\n",
        "\n",
        "数値型の列に対しては記述統計量の確認を行い、\n",
        "値の妥当性や外れ値の有無を確認する。\n",
        "\n",
        "```\n",
        "df.describe()\n",
        "```\n",
        "\n",
        "### 項目単体での分析\n",
        "\n",
        "* カテゴリ型の場合\n",
        "\n",
        "カテゴリ毎の件数を可視化\n",
        "```\n",
        "sns.countplot()\n",
        "```\n",
        "\n",
        "カテゴリ毎の件数の確認\n",
        "```\n",
        "value_counts()\n",
        "```\n",
        "\n",
        "* 数値型の場合\n",
        "\n",
        "分布の確認\n",
        "```\n",
        "sns.boxplot()\n",
        "```\n",
        "\n",
        "## 複数項目での分析\n",
        "\n",
        "### カテゴリ項目の場合\n",
        "\n",
        "'項目1'のカテゴリ毎の件数を'項目2'で層別して可視化する。\n",
        "\n",
        "```\n",
        "sns.countplot(x='項目1', hue='項目2', data=df)\n",
        "```\n",
        "\n",
        "### 数値項目の場合\n",
        "\n",
        "数値型の'項目1'の分布を、カテゴリ型の'項目2'で層別して可視化する。\n",
        "\n",
        "```\n",
        "sns.boxplot(x='項目1', y='項目2', data=df)\n",
        "```\n",
        "\n",
        "全ての数値型の項目で、散布図を描く\n",
        "\n",
        "```\n",
        "sns.pairplot()\n",
        "```\n",
        "\n",
        "相関行列をヒートマップで可視化する。\n",
        "```\n",
        "sns.heatmap(df.corr(numeric_only=True), annot=True)\n",
        "```\n",
        "\n",
        "## 外れ値（異常値）の処理\n",
        "\n",
        "### 数値型の列の場合\n",
        "\n",
        "異常値の考え方の主なものは以下の2つである。\n",
        "\n",
        "* 平均から標準偏差の3倍以上離れたもの\n",
        "* 四分位範囲（第三四分位と第一四分位の差）を用いたもの\n",
        "  * 第三四分位＋「四分位範囲」×1.5 より大\n",
        "  * 第一四分位－「四分位範囲」×1.5 より小\n",
        "\n",
        "### カテゴリ型の場合\n",
        "\n",
        "レコード数が極端に少ないカテゴリを 異常値と考え、\n",
        "「その他」として集約することが行われる場合がある。"
      ],
      "metadata": {
        "id": "AE4__CP3GXk9"
      }
    },
    {
      "cell_type": "markdown",
      "source": [
        "---\n",
        "---"
      ],
      "metadata": {
        "id": "IsV1SRtdfGdb"
      }
    },
    {
      "cell_type": "markdown",
      "source": [
        "#参考"
      ],
      "metadata": {
        "id": "fX8SG0E-e9Az"
      }
    },
    {
      "cell_type": "markdown",
      "source": [
        "##正規性の確認\n",
        "\n",
        "シャピロ・ウィルク検定"
      ],
      "metadata": {
        "id": "ndnJrz6dBUc9"
      }
    },
    {
      "cell_type": "code",
      "source": [
        "# prompt: 年収が正分布が検定して確認する。可視化にはseaborn を使う\n",
        "\n",
        "import matplotlib.pyplot as plt\n",
        "# Shapiro-Wilk 検定で正規性を検定\n",
        "stat, p_value = stats.shapiro(data['年収'])\n",
        "print(f\"Shapiro-Wilk 検定の統計量: {stat:.2f}\")\n",
        "print(f\"p値: {p_value:.5f}\")\n",
        "\n",
        "# ヒストグラムと正規分布曲線を重ねて可視化\n",
        "sns.histplot(data=data, x='年収', kde=True)\n",
        "plt.show()\n",
        "\n",
        "# Q-Q プロットで正規性を可視化\n",
        "stats.probplot(data['年収'], dist=\"norm\", plot=plt)\n",
        "plt.show()\n"
      ],
      "metadata": {
        "id": "APbmWDBSBXpF"
      },
      "execution_count": null,
      "outputs": []
    },
    {
      "cell_type": "markdown",
      "source": [
        "\n",
        "\n",
        "---\n",
        "\n",
        "---\n",
        "\n",
        "\n",
        "\n",
        "---\n",
        "\n",
        "\n",
        "\n"
      ],
      "metadata": {
        "id": "QvsUmJ7Xe2uT"
      }
    },
    {
      "cell_type": "markdown",
      "metadata": {
        "id": "4ihB_c3xu4c3"
      },
      "source": [
        "## スタイルの設定"
      ]
    },
    {
      "cell_type": "markdown",
      "metadata": {
        "id": "c9eADh8jwxQ-"
      },
      "source": [
        "set_style を使って、表示のスタイルを変更できる。以下のスタイルが設定可能である。\n",
        "\n",
        "スタイル | 説明\n",
        "--       | --\n",
        "darkgrid | 背景暗、グリッドあり\n",
        "dark | 背景暗、グリッドなし\n",
        "whitegrid | 背景白、グリッドあり\n",
        "white | 背景白、グリッドなし\n",
        "ticks | 背景白、軸にのみグリッドあり"
      ]
    },
    {
      "cell_type": "code",
      "execution_count": null,
      "metadata": {
        "id": "1IVswIeDu36h"
      },
      "outputs": [],
      "source": [
        "# グリッド線を表示する場合は以下を行う\n",
        "sns.set_style('whitegrid')\n",
        "\n",
        "# 性別で色分けする\n",
        "sns.scatterplot(data=df, x='年齢', y='年収', hue='性別', palette={'男性': 'blue', '女性': 'red'})\n",
        "plt.title('年齢と年収の関係')\n",
        "plt.show()"
      ]
    }
  ],
  "metadata": {
    "colab": {
      "provenance": [],
      "collapsed_sections": [
        "KqYDlMQrWLbe",
        "p9PmCg4E75Et",
        "fk4V_6eRDavA"
      ],
      "toc_visible": true,
      "mount_file_id": "1kcYRQwbT8jdMSQrr_4aroPezvx0spwuz",
      "authorship_tag": "ABX9TyPY9oAU9a+CoHJ9HGnaJFRi",
      "include_colab_link": true
    },
    "kernelspec": {
      "display_name": "Python 3",
      "name": "python3"
    },
    "language_info": {
      "name": "python"
    }
  },
  "nbformat": 4,
  "nbformat_minor": 0
}