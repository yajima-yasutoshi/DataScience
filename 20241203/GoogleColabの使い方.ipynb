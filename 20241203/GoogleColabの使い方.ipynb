{
  "nbformat": 4,
  "nbformat_minor": 0,
  "metadata": {
    "colab": {
      "provenance": [],
      "collapsed_sections": [
        "rXKyB4WX6TMo",
        "FYompWKaZFvL",
        "ALpz2K-GYwzo"
      ],
      "include_colab_link": true
    },
    "kernelspec": {
      "name": "python3",
      "display_name": "Python 3"
    },
    "language_info": {
      "name": "python"
    }
  },
  "cells": [
    {
      "cell_type": "markdown",
      "metadata": {
        "id": "view-in-github",
        "colab_type": "text"
      },
      "source": [
        "<a href=\"https://colab.research.google.com/github/yajima-yasutoshi/DataScience/blob/main/20241203/GoogleColab%E3%81%AE%E4%BD%BF%E3%81%84%E6%96%B9.ipynb\" target=\"_parent\"><img src=\"https://colab.research.google.com/assets/colab-badge.svg\" alt=\"Open In Colab\"/></a>"
      ]
    },
    {
      "cell_type": "markdown",
      "source": [
        "# Google Colab の使い方と Python の復習"
      ],
      "metadata": {
        "id": "NWf9Gl3zIyIe"
      }
    },
    {
      "cell_type": "markdown",
      "source": [
        "## 資料の保存場所\n",
        "\n",
        "本日の講義の資料以下のサイトに保存されている。20241203\n",
        "\n",
        "https://github.com/yajima-yasutoshi/DataScience/tree/main/20241203\n",
        "\n",
        "\n",
        "  「GoogleColabの使い方.ipynb」をクリックし開き、以下の部分をクリックすると、自動的にGoogle Colab の環境で Colab ノートブックが扱えるようになる。\n",
        "\n",
        "\n",
        "  ![image.png](data:image/png;base64,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)"
      ],
      "metadata": {
        "id": "IjD4xP03KHYS"
      }
    },
    {
      "cell_type": "markdown",
      "source": [
        "## ファイルの保存\n",
        "\n",
        "このようにして開いたファイルは、以下のステップで自身の Google ドライブに保存すること。\n",
        "\n",
        "1. ファイル → ドライブにコピーを保存\n",
        "\n",
        "  を行い自身の Google ドライブに保存。また、最初に開いたファイルは閉じること。\n",
        "\n",
        "2. ファイル → 名前の変更\n",
        "\n",
        "  を行い、左上部分でファイル名を変更し、分かり易い名前に変更する。\n",
        "\n",
        "\n"
      ],
      "metadata": {
        "id": "DiuVKo6ZcfNt"
      }
    },
    {
      "cell_type": "markdown",
      "source": [
        "## 準備\n",
        "1. Chrome ブラウザを開き、Googleアカウントでログインした状態にする\n",
        "\n",
        "1. 「Google Drive」にアクセス\n",
        " - https://drive.google.com/ にアクセスする\n",
        " - マイドライブに中に「Colab Notebooks」が作られていることを確認\n",
        "    - 「Colab Notebooks」が作られていない場合は、以下のサイトにアクセスすることで自動的に作成される。\n",
        "\n",
        "      https://colab.research.google.com/\n",
        "\n",
        "1. Google Drive をブラウザにブックマークしておくと便利"
      ],
      "metadata": {
        "id": "YuredqkxcbR_"
      }
    },
    {
      "cell_type": "markdown",
      "source": [
        "# この講義の目的\n",
        "\n",
        "この講義では、以下の習得を目的とする。\n",
        "\n",
        "*   Google Colab の基本的な使い方\n",
        "*   Python プログラミングの復習\n",
        "\n"
      ],
      "metadata": {
        "id": "MKG1yjh1Z04i"
      }
    },
    {
      "cell_type": "markdown",
      "source": [
        "# Google Colaboratory とは何か\n",
        "\n",
        "* ブラウザ（Chrome）を使い、Pythonプログラムの開発と実行ができる環境\n",
        "* 学習ノートや簡単なレポートの作成\n",
        "\n",
        "### 主な特徴\n",
        "\n",
        "* AIを実行する環境が既に用意されている（CPUだけでなくGPUも利用できる）\n",
        "  * CPU （Central Processing Unit、中央処理装置）: コンピュータでのあらゆる処理を行う装置（部品）、数個から数十のコアから構成、高速な処理\n",
        "  * GPU （Graphics Processing Unit、画像処理装置）:計算処理に特化した装置、多数のコアから構成され、並列に処理が可能\n",
        "\n",
        "* 無料で使える。（複雑なAIを構築するためには有料プランが必要となる場合もある。）\n",
        "* プログラムを**Colabノーブック**に作成し、対話的にPythonが利用\n",
        "* Pythonプログラムや実行結果の共有が簡単\n",
        "* 報告資料などの作成も行える\n"
      ],
      "metadata": {
        "id": "fAkTsnPBY0QP"
      }
    },
    {
      "cell_type": "markdown",
      "source": [
        "# Google Colab の主な機能"
      ],
      "metadata": {
        "id": "D43sL4ZWOikf"
      }
    },
    {
      "cell_type": "markdown",
      "source": [
        "##セル\n",
        "Colab ノートブック には2種類のセルがある。\n",
        "* セルの追加には、**＋コード**、**＋テキスト** のボタンを使う\n",
        "* テキストセルはダブルクリックで再編集が可能。別のセルをクリックすると編集が終了する。\n",
        "* **↑** **↓**で、セルの上下移動が可能\n",
        "* **ゴミ箱マーク** で削除\n",
        "* 歯車のマークで細かな設定が可能"
      ],
      "metadata": {
        "id": "JP46pGB6XZLZ"
      }
    },
    {
      "cell_type": "markdown",
      "source": [
        "### コードセル\n",
        "Pythonコードを入力するためのセル  \n",
        "\n",
        "shiftを押しながら enter キーを押す、あるいは、\n",
        "セルの左のボタン（三角のマークがある）をクリックすると、セルに書かれたコードが実行される\n",
        "\n",
        "\n",
        "> セルの中に行番号を表示させることができる。\n",
        "> ツール → 設定 → エディター → 行番号にチェックを入れる\n",
        "\n"
      ],
      "metadata": {
        "id": "i6fj-rNiQL--"
      }
    },
    {
      "cell_type": "code",
      "source": [
        "a = 1\n",
        "b = 5\n",
        "print(a + b)"
      ],
      "metadata": {
        "id": "r5yO1JnqPUjT"
      },
      "execution_count": null,
      "outputs": []
    },
    {
      "cell_type": "markdown",
      "source": [
        "### テキストセル\n",
        "文章や数式などが入力でき、プログラムの説明などを記入するセル。\n",
        "\n",
        "ダブルクリックで再編集が可能。別のセルをクリックすると編集が終了する。\n",
        "\n",
        "記入には**マークダウン形式**が用いられる。\n",
        "\n",
        "どのように見えるかは、右側に自動的に表示されるので、確認しながら記述できる。"
      ],
      "metadata": {
        "id": "VDBjAWTJPlOq"
      }
    },
    {
      "cell_type": "markdown",
      "source": [
        "#### マークダウン表記の例\n",
        "\n",
        "- 箇条書き１\n",
        "- 箇条書き２\n",
        "- 箇条書き３\n",
        "\n",
        "### 見出し\n",
        "## 見出し\n",
        "# 見出し\n",
        "\n",
        "#### スペース2個で改行の例\n",
        "\n",
        "これでは\n",
        "改行されません。\n",
        "\n",
        "これで改行  \n",
        "されます。\n",
        "\n",
        "*Italic* 斜体や\n",
        "\n",
        "**太字** 太字\n",
        "\n"
      ],
      "metadata": {
        "id": "7RU1rNhuUXd2"
      }
    },
    {
      "cell_type": "markdown",
      "source": [
        "### 数式の入力\n",
        "数式の入力は LaTeX形式を使います。\n",
        "\n",
        "$$ y = a x^2 + b$$\n",
        "$$ y = \\frac{1}{x} $$"
      ],
      "metadata": {
        "id": "4hZRtSHLU6VX"
      }
    },
    {
      "cell_type": "markdown",
      "source": [
        "### 表を書く\n",
        "\n",
        "商品 | 金額\n",
        "-- | --\n",
        "りんご | 300\n",
        "みかん | 100\n",
        "ブドウ | 1,000"
      ],
      "metadata": {
        "id": "2EZJtICuIczB"
      }
    },
    {
      "cell_type": "markdown",
      "source": [
        "---\n",
        "---\n",
        "\n",
        "# Python の使い方\n"
      ],
      "metadata": {
        "id": "xR8kT6AEahqy"
      }
    },
    {
      "cell_type": "markdown",
      "source": [
        "## コードセルへの入力\n",
        "1. 「＋コード」をクリックし、何も入力されていないコードセルを作成（追加）し、そこに Python のコード書く\n",
        "\n",
        "2. コードを実行は、shiftを押しながら enter キーを押す、あるいは、\n",
        "セルの左のボタン（三角のマークがある）をクリックする。\n",
        "\n",
        "##コードの変更\n",
        "コードセルをクリックすることで、Pythonプログラムの変更ができる。"
      ],
      "metadata": {
        "id": "lXO96RYu4M9u"
      }
    },
    {
      "cell_type": "markdown",
      "source": [
        "## 変数\n",
        "\n",
        "変数名に使用できる文字は、アルファベット、数字、アンダースコアのみである。\n",
        "また、変数名は数字から始めることはできない。\n"
      ],
      "metadata": {
        "id": "xfcRxbAbtddy"
      }
    },
    {
      "cell_type": "code",
      "source": [
        "#変数への代入と演算、結果の表示\n",
        "a = 3\n",
        "b = 5\n",
        "c = a + b * 7\n",
        "print(c)"
      ],
      "metadata": {
        "id": "FZ1uF9sp2d1y"
      },
      "execution_count": null,
      "outputs": []
    },
    {
      "cell_type": "markdown",
      "source": [
        "## 変数の値の確認（画面への出力）\n",
        "\n",
        "変数に格納されている内容を確認するためには、\n",
        "以下のように変数をコードセルに入力して実行する。\n",
        "\n",
        "あるいは、print関数を用いてもよい。"
      ],
      "metadata": {
        "id": "yMYgLd5yRnEF"
      }
    },
    {
      "cell_type": "code",
      "source": [
        "c"
      ],
      "metadata": {
        "id": "Kns2ZDXxPBX4"
      },
      "execution_count": null,
      "outputs": []
    },
    {
      "cell_type": "code",
      "source": [
        "print(c)"
      ],
      "metadata": {
        "id": "DATn4nPCRjZR"
      },
      "execution_count": null,
      "outputs": []
    },
    {
      "cell_type": "markdown",
      "source": [
        "### print関数\n",
        "\n",
        "print 関数の中で文字列を表示するためには、\n",
        "```\n",
        "'計算結果'\n",
        "```\n",
        "のように、\n",
        "シングルクォーテーション\n",
        "あるいは\n",
        "ダブルクォーテーションで囲む必要がある。\n",
        "\n",
        "なお、シングルクォーテーション（shift+7）、\n",
        "ダブルクォーテーション（shift+2）\n",
        "どちらを用いても構わないが、\n",
        "統一して使うことで読みやすいプログラムとなる。"
      ],
      "metadata": {
        "id": "0dNzg0KyxIVg"
      }
    },
    {
      "cell_type": "code",
      "source": [
        "# メッセージを表示する\n",
        "print('計算結果')\n",
        "print('変数 a の値は', a)\n",
        "print('変数 b の値は', b)\n",
        "print('答えは', c, \"です\") # シングルクォーテーションとダブルクォーテーションが混在しているため、間違いではないが推奨できない"
      ],
      "metadata": {
        "id": "ultAuU4KO7Hm"
      },
      "execution_count": null,
      "outputs": []
    },
    {
      "cell_type": "markdown",
      "source": [
        "## キーボードからの入力\n",
        "\n",
        "キーボードから入力することで、変数にセットすることができる。\n"
      ],
      "metadata": {
        "id": "NWt-Z335t47R"
      }
    },
    {
      "cell_type": "code",
      "source": [
        "# キーボードから入力する\n",
        "s = input()\n",
        "s"
      ],
      "metadata": {
        "id": "UDHk9dXeSjM7"
      },
      "execution_count": null,
      "outputs": []
    },
    {
      "cell_type": "markdown",
      "source": [
        "適切なメッセージを出力することも可能である。\n"
      ],
      "metadata": {
        "id": "0GeY_EwvSqHr"
      }
    },
    {
      "cell_type": "code",
      "source": [
        "# キーボードから入力する\n",
        "s = input('整数を入力してください : ')\n",
        "print('入力は', s, 'でした。')"
      ],
      "metadata": {
        "id": "YyMahRSHPe3h"
      },
      "execution_count": null,
      "outputs": []
    },
    {
      "cell_type": "markdown",
      "source": [
        "## if を使った条件分岐"
      ],
      "metadata": {
        "id": "9hEUkRkpueDj"
      }
    },
    {
      "cell_type": "code",
      "source": [
        "#if文の例\n",
        "\n",
        "n = 20\n",
        "# 条件分岐\n",
        "if n > 10:\n",
        "  print(n, 'は 10 より大きいです。') # if が成立する場合のみ実行される"
      ],
      "metadata": {
        "id": "FI3viTx60Adr"
      },
      "execution_count": null,
      "outputs": []
    },
    {
      "cell_type": "code",
      "source": [
        "#and/or 条件の例\n",
        "\n",
        "n = 20\n",
        "# 条件分岐\n",
        "if n > 10 and n < 20:\n",
        "    print(n, 'は 10 より大きく 20より小さいです。')"
      ],
      "metadata": {
        "id": "u4sQTuRw0-q8"
      },
      "execution_count": null,
      "outputs": []
    },
    {
      "cell_type": "code",
      "source": [
        "# キーボードから入力する例\n",
        "\n",
        "s = input('整数を入力してください : ')\n",
        "n = int(s)\n",
        "\n",
        "# 条件分岐\n",
        "if n > 5:\n",
        "    print(n, 'は 5 より大きいです。')\n",
        "else:\n",
        "    print(n, 'は 5 以下です。')"
      ],
      "metadata": {
        "id": "vH0ypt_EPXyh"
      },
      "execution_count": null,
      "outputs": []
    },
    {
      "cell_type": "markdown",
      "source": [
        "## リスト、タプル、辞書\n",
        "\n",
        "リストもタプルのデータを配列として扱うための仕組みである。\n",
        "ただし、タプルは一度定義をすると後から要素の変更や追加ができないが、\n",
        "作成が高速に実行できる。"
      ],
      "metadata": {
        "id": "QXq5Dijj0Eq4"
      }
    },
    {
      "cell_type": "code",
      "source": [
        "#リストの例\n",
        "mylist =  ['東京', '品川', '新横浜', '名古屋', '京都', '新大阪', '新神戸', '岡山', '広島', '小倉', '博多']\n",
        "mylist1 = [5,6,7,8,9,10]\n",
        "\n",
        "#タプルの例\n",
        "mytuple1 = 1, 2, 4, 'abc'\n",
        "mytuple2 = ([1,2], mylist1, 'abc')\n",
        "\n",
        "#辞書\n",
        "mydict1 = {'りんご': 100, 'みかん': 300}\n",
        "mydict2 = {'性別': ['男', '女'], '年齢':[30, 49]}"
      ],
      "metadata": {
        "id": "0uTA-yEA4utv"
      },
      "execution_count": null,
      "outputs": []
    },
    {
      "cell_type": "markdown",
      "source": [
        "## 要素の指定\n",
        "\n",
        "リストやタプルの各要素を指定することができる。\n",
        "\n",
        "要素の最初が0番目と指定することに注意が必要。\n",
        "\n",
        "たとえば、\n",
        "```\n",
        "#  mylist[2]\n",
        "```\n",
        "は、3番目の要素になる。\n"
      ],
      "metadata": {
        "id": "xLt9zF5PTZFl"
      }
    },
    {
      "cell_type": "code",
      "source": [
        "print( mylist[2] )"
      ],
      "metadata": {
        "id": "PI1fQb5CUHWm"
      },
      "execution_count": null,
      "outputs": []
    },
    {
      "cell_type": "markdown",
      "source": [
        "0 は先頭の要素、-1は最後の要素となる。"
      ],
      "metadata": {
        "id": "XBLPBhyio4BP"
      }
    },
    {
      "cell_type": "code",
      "source": [
        "# 先頭の要素へのアクセス\n",
        "print( mylist[0] )\n",
        "\n",
        "# 最後の要素\n",
        "print( mylist[-1] )"
      ],
      "metadata": {
        "id": "NI0Jqz2VW_YI"
      },
      "execution_count": null,
      "outputs": []
    },
    {
      "cell_type": "markdown",
      "source": [
        "## range を使った連続する整数の生成"
      ],
      "metadata": {
        "id": "hPelpUoRVVB5"
      }
    },
    {
      "cell_type": "code",
      "source": [
        "list( range(0,3))"
      ],
      "metadata": {
        "id": "LgDDWQ3yVuKb"
      },
      "execution_count": null,
      "outputs": []
    },
    {
      "cell_type": "markdown",
      "source": [
        "3は含まれないことに注意が必要。また、以下のように最初の0を省略ができる。"
      ],
      "metadata": {
        "id": "zchDJsKiV6M8"
      }
    },
    {
      "cell_type": "code",
      "source": [
        "list( range(3))"
      ],
      "metadata": {
        "id": "wS1HKRTZVAR7"
      },
      "execution_count": null,
      "outputs": []
    },
    {
      "cell_type": "markdown",
      "source": [
        "最初と最後に等しい数値の場合は、空のリストが作られる。"
      ],
      "metadata": {
        "id": "URKFC3_Tpmay"
      }
    },
    {
      "cell_type": "code",
      "source": [
        "list( range(3,3))"
      ],
      "metadata": {
        "id": "PA_uBdj1VlKU"
      },
      "execution_count": null,
      "outputs": []
    },
    {
      "cell_type": "markdown",
      "source": [
        "## for 文を使った繰り返し"
      ],
      "metadata": {
        "id": "Qrjy73M20ir7"
      }
    },
    {
      "cell_type": "code",
      "source": [
        "# 繰り返し\n",
        "for i in range(3):\n",
        "   print('データマイニング')"
      ],
      "metadata": {
        "id": "I-12CDkYrX6u"
      },
      "execution_count": null,
      "outputs": []
    },
    {
      "cell_type": "code",
      "source": [
        "# 繰り返し\n",
        "for i in range(3):\n",
        "   print('データマイニング', end=\" \")"
      ],
      "metadata": {
        "id": "ehQeuIQ_QiQp"
      },
      "execution_count": null,
      "outputs": []
    },
    {
      "cell_type": "code",
      "source": [
        "# 繰り返し\n",
        "for i in range(3):\n",
        "   print(i)\n",
        "\n",
        "   print(i*3)\n",
        "\n",
        "print('終了')"
      ],
      "metadata": {
        "id": "WAmEZ7GiQ1e6"
      },
      "execution_count": null,
      "outputs": []
    },
    {
      "cell_type": "code",
      "source": [
        "# 繰り返し\n",
        "for i in range(3):\n",
        "  print(i)\n",
        "print(i*3)"
      ],
      "metadata": {
        "id": "QQgopY7tQ-RQ"
      },
      "execution_count": null,
      "outputs": []
    },
    {
      "cell_type": "code",
      "source": [
        "# 繰り返し\n",
        "for i in mylist:\n",
        "   print(i)"
      ],
      "metadata": {
        "id": "fF74-tLHRWQB"
      },
      "execution_count": null,
      "outputs": []
    },
    {
      "cell_type": "markdown",
      "source": [
        "## 範囲の指定\n",
        "[開始位置:終了位置（:ステップ）]\n",
        "\n",
        "**重要** リスト内の位置は0から数え始める。\n",
        "また、指定した「終了位置」の一つ手前までの範囲となる。\n",
        "\n",
        "したがって、\n",
        "\n",
        "```\n",
        "mylist1[2:3]\n",
        "```\n",
        "\n",
        "は2番目の要素のみとなる。（最初の要素を0と指定することに注意）"
      ],
      "metadata": {
        "id": "ZykEnYoFs0Aq"
      }
    },
    {
      "cell_type": "code",
      "source": [
        "mylist =  ['東京', '品川', '新横浜', '名古屋', '京都', '新大阪', '新神戸', '岡山', '広島', '小倉', '博多']"
      ],
      "metadata": {
        "id": "zgefK8aQS8Gv"
      },
      "execution_count": null,
      "outputs": []
    },
    {
      "cell_type": "code",
      "source": [
        "mylist[0:5]"
      ],
      "metadata": {
        "id": "uwJPZxx1YTJo"
      },
      "execution_count": null,
      "outputs": []
    },
    {
      "cell_type": "code",
      "source": [
        "mylist[2:3]"
      ],
      "metadata": {
        "id": "lJceb2TORTTW"
      },
      "execution_count": null,
      "outputs": []
    },
    {
      "cell_type": "code",
      "source": [
        "mylist[3:] # リストの最後まで"
      ],
      "metadata": {
        "id": "SqAu-AgL7UlY"
      },
      "execution_count": null,
      "outputs": []
    },
    {
      "cell_type": "code",
      "source": [
        "mylist[3:-1] # リストの最後の一つ手前まで"
      ],
      "metadata": {
        "id": "y1pSDcoO7ccR"
      },
      "execution_count": null,
      "outputs": []
    },
    {
      "cell_type": "code",
      "source": [
        "mylist[-2:] # リストの最後の二つ手前から最後まで"
      ],
      "metadata": {
        "id": "glDk5vNM7lg-"
      },
      "execution_count": null,
      "outputs": []
    },
    {
      "cell_type": "code",
      "source": [
        "mylist[0:8:2]"
      ],
      "metadata": {
        "id": "gB7K3FOusnST"
      },
      "execution_count": null,
      "outputs": []
    },
    {
      "cell_type": "markdown",
      "source": [
        "# 変数一覧の表示\n",
        "左端の {x} をクリックすると、\n",
        "現在使われている変数の一覧が表示される。"
      ],
      "metadata": {
        "id": "vH3xzRaT4C4S"
      }
    },
    {
      "cell_type": "markdown",
      "source": [
        "# スクラッチセル\n",
        "挿入 → スクラッチコードセル  \n",
        "\n",
        "とすると右側にコードセルが表示される。\n",
        "ファイルに残したくないプログラムを実行する際に使う。\n",
        "「×」で閉じることができる。"
      ],
      "metadata": {
        "id": "MvjUpdsjwIMF"
      }
    },
    {
      "cell_type": "markdown",
      "source": [
        "# モジュール\n",
        "データ分析に必要な機能は、モジュールを追加することで利用が可能となる。\n"
      ],
      "metadata": {
        "id": "rXKyB4WX6TMo"
      }
    },
    {
      "cell_type": "markdown",
      "source": [
        "### 良く使われるモジュール\n",
        "\n",
        "モジュール名 | 機能 | 参考 URL\n",
        "-- | -- | --\n",
        "Numpy     | 行列やベクトルの計算 | https://numpy.org/\n",
        "Pandas    | データ処理 | https://pandas.pydata.org/\n",
        "matplotlib| データの可視化 | https://matplotlib.org/\n",
        "seaborn   | データの可視化 | https://seaborn.pydata.org/\n",
        "plotly    | データの可視化  | https://plotly.com/\n",
        "scipy     | 数値計算  | https://scipy.org/\n",
        "scikit-learn |  機械学習 |  https://scikit-learn.org/"
      ],
      "metadata": {
        "id": "7zdgZiy-eg5R"
      }
    },
    {
      "cell_type": "markdown",
      "source": [
        "### モジュールのインポート\n",
        "\n",
        "ライブラリーのインポート方法\n",
        "\n",
        "### モジュール全体をインポートする\n",
        "\n",
        "```\n",
        "import matplotlib\n",
        "import pandas\n",
        "```\n",
        "\n",
        "### モジュール全体を名前を変更してインポートする場合\n",
        "```\n",
        "import matplotlib as mpl\n",
        "import pandas as pd\n",
        "\n",
        "\n",
        "```\n",
        "### モジュールから一部の機能のみをインポート場合\n",
        "\n",
        "```\n",
        "from matplotlib import pyplot as plt\n",
        "```\n",
        "\n"
      ],
      "metadata": {
        "id": "6RUSSS9iR-xZ"
      }
    },
    {
      "cell_type": "markdown",
      "source": [
        "math モジュールを使い、平方根を計算する"
      ],
      "metadata": {
        "id": "-bHVQIuGMr_7"
      }
    },
    {
      "cell_type": "code",
      "source": [
        "import math\n",
        "x = 2.0\n",
        "sqrtx = math.sqrt(x)\n",
        "print( x )"
      ],
      "metadata": {
        "id": "YDobUXPxMkp8"
      },
      "execution_count": null,
      "outputs": []
    },
    {
      "cell_type": "markdown",
      "source": [
        "as を使い別の名称で使う場合。モジュール名が長い場合に便利。"
      ],
      "metadata": {
        "id": "hnQhBkqcinv8"
      }
    },
    {
      "cell_type": "code",
      "source": [
        "import math as m\n",
        "x = 2.0\n",
        "sqrtx = m.sqrt(x)\n",
        "print( x )"
      ],
      "metadata": {
        "id": "n7LDfU3QMQez"
      },
      "execution_count": null,
      "outputs": []
    },
    {
      "cell_type": "markdown",
      "source": [
        "# スクラッチコードセル\n",
        "簡単なコードを試すことができるセル。ノートブックには残したくないが試してみたいコードがある場合に利用する。使い方は、\n",
        "\n",
        "> 挿入 → スクラッチ\n"
      ],
      "metadata": {
        "id": "-e-Jmli_Y2Un"
      }
    },
    {
      "cell_type": "markdown",
      "source": [
        "# 処理の中断\n",
        "プログラムが終了しない場合は、実行中のセルの左側にあるボタンをクリックすると、中断できます。"
      ],
      "metadata": {
        "id": "K-hsGAeJBeDg"
      }
    },
    {
      "cell_type": "code",
      "source": [
        "while True:\n",
        "    text = input()\n",
        "    print(text)"
      ],
      "metadata": {
        "id": "mkO7Dt2GBTV4"
      },
      "execution_count": null,
      "outputs": []
    },
    {
      "cell_type": "markdown",
      "source": [
        "# セッションの管理\n",
        "\n",
        "同時に複数のノートブックを操作しようとするとエラーになることがある。この場合は、\n",
        "\n",
        "> ランタイム → セッションの管理\n",
        "\n",
        "で起動しているセッションの一覧を表示させ、不要なものを終了させる必要がある。\n",
        "\n",
        "\n",
        "\n",
        "\n",
        "\n"
      ],
      "metadata": {
        "id": "cX-Rx2PxqbcW"
      }
    },
    {
      "cell_type": "markdown",
      "source": [
        "# コードスニペット\n",
        "便利なPythonコードの例がいくつか用意されている。使い方は、\n",
        "\n",
        "> 挿入 → コードスニペッド"
      ],
      "metadata": {
        "id": "FYompWKaZFvL"
      }
    },
    {
      "cell_type": "code",
      "source": [
        "import numpy as np\n",
        "#from matplotlib import pyplot as plt\n",
        "import matplotlib\n",
        "\n",
        "ys = 200 + np.random.randn(100)\n",
        "x = [x for x in range(len(ys))]\n",
        "\n",
        "matplotlib.pyplot.plot(x, ys, '-')\n",
        "matplotlib.pyplot.fill_between(x, ys, 195, where=(ys > 195), facecolor='g', alpha=0.6)\n",
        "\n",
        "matplotlib.pyplot.title(\"Fills and Alpha Example\")\n",
        "matplotlib.pyplot.show()"
      ],
      "metadata": {
        "id": "4fG2uOZGYz-f"
      },
      "execution_count": null,
      "outputs": []
    },
    {
      "cell_type": "code",
      "source": [
        "import numpy as np\n",
        "from matplotlib import pyplot as plt\n",
        "\n",
        "ys = 200 + np.random.randn(100)\n",
        "x = [x for x in range(len(ys))]\n",
        "\n",
        "plt.plot(x, ys, '-')\n",
        "plt.fill_between(x, ys, 195, where=(ys > 195), facecolor='g', alpha=0.6)\n",
        "\n",
        "plt.title(\"Fills and Alpha Example\")\n",
        "plt.show()"
      ],
      "metadata": {
        "id": "PxoVM7wqTn2N"
      },
      "execution_count": null,
      "outputs": []
    },
    {
      "cell_type": "markdown",
      "source": [
        "---\n",
        "---\n"
      ],
      "metadata": {
        "id": "_VmobHeu7QGk"
      }
    },
    {
      "cell_type": "markdown",
      "source": [
        "# データのファイルからの読み込み\n",
        "パソコン上に作成したエクセルファイルを Google Drive にアップロードして、Pythonプログラムで読み込んでみる。\n",
        "\n",
        "## エクセルファイルの作成  \n",
        "PCでエクセルを開き、適当な数値を入力しファイルを保存する。\n",
        "\n",
        "> 例えば、以下の表をエクセルで作る\n",
        ">\n",
        "> 商品|金額\n",
        ">  -- | --\n",
        "> りんご | 300\n",
        "> みかん | 200\n",
        "> スイカ | 1000\n",
        "\n",
        "### ドライブのマウント\n",
        "1. Colabにて、左端のフォルダーのアイコン\n",
        "\n",
        "![image.png](data:image/png;base64,iVBORw0KGgoAAAANSUhEUgAAADIAAAAtCAYAAADsvzj/AAAAAXNSR0IArs4c6QAAAARnQU1BAACxjwv8YQUAAAAJcEhZcwAADsMAAA7DAcdvqGQAAAFrSURBVGhD7dYxjoJQEAbgf1cSoljSoxYUFjY0VjTegprYS+I5LGw9gI0tnQ2JJaHWwpDYeAAtSIi7C5nEYhP37XNJZs18DTAvFD/zgHn7+IIX8E7Hf0+CcCNBuJEg3EgQbiQIN1qzVlEUWK/X2O12KMuSqt8NBgPMZjNYlkWV5mh1ZLvdIkmShyEqx+MRi8UC1+uVKs3R6shyuUSWZeh2u3BdF61Wi1buzuczTqdTfW7bNvr9fn3+SKfTwXA4xGg0gmmaVFXzVJBer4f5fI52u00rd9X2W61WSNOUKup0tmRjL3v1RMMwhOd5VFGX5zn2+z1dqWmsIzoOh0P9TlXdnE6nGI/HtPIz+Y9wI0G4kSDcSBBuJAg3LxOksTFex+VyqYfF2+3261lLK0gcx9hsNtC4VUn1gKIoqodSVVpbazKZwPd9GIZBlb9ThQiCAI7jUEWNVkc4kq8WNxKEGwnCjQThRoJwI0F4AT4BffSG7SCaQc0AAAAASUVORK5CYII=)\n",
        "\n",
        "をクリックし、ファイルメニューを開く。\n",
        "\n",
        "以下のコードセルを実行する。\n",
        "\n"
      ],
      "metadata": {
        "id": "ALpz2K-GYwzo"
      }
    },
    {
      "cell_type": "code",
      "source": [
        "from google.colab import drive\n",
        "drive.mount('/content/drive')"
      ],
      "metadata": {
        "id": "G4r4uiopjGJb"
      },
      "execution_count": null,
      "outputs": []
    },
    {
      "cell_type": "markdown",
      "source": [
        " drive の中の「MyDrive」が Google Drive のマイドライブとなる。"
      ],
      "metadata": {
        "id": "VTuLP4okj1vM"
      }
    },
    {
      "cell_type": "markdown",
      "source": [
        "\n",
        "### ファイルのGoogle Drive へのアップロード\n",
        "1. Google Drive で適当なフォルダーを作成\n",
        "2. PCのファイルをドラッグ＆ドロップでアップロードする。  \n",
        "あるいは、Google Driveで右クリックでメニューを開き、ファイルのアップロードを選択してもアップロードが可能である。\n",
        "\n",
        "### Colabで操作\n",
        "1. Driveメニューで目的のファイルにマウスを合わせ、ファイル名の右にある縦3つの「・」部分をクリックして「パスをコピー」を選択する。\n",
        "\n",
        "1. 以下のPythonコードの 3行目を先ほどコピーしたパスに変更する。ctrl+v でペーストされる。"
      ],
      "metadata": {
        "id": "HYnHd3cdjgKD"
      }
    },
    {
      "cell_type": "code",
      "source": [
        "import pandas\n",
        "\n",
        "# 以下の行を変更する\n",
        "file_name = '/content/drive/MyDrive/データアップロード/商品金額.xlsx'\n",
        "data= pandas.read_excel(file_name)\n",
        "\n",
        "#データを先頭から数行を表示する\n",
        "data.head()"
      ],
      "metadata": {
        "id": "nbQH_JnZeHAt"
      },
      "execution_count": null,
      "outputs": []
    },
    {
      "cell_type": "markdown",
      "source": [
        "\n",
        "## CSVファイルの読み込み\n",
        "\n",
        "> csvファイルはUTF-8で保存されている必要がある。うまく読み込めない場合は、エクセルで「CSV UTF-8」として保存すると良い。"
      ],
      "metadata": {
        "id": "BZ8V-tkH5skT"
      }
    },
    {
      "cell_type": "code",
      "source": [
        "import pandas\n",
        "\n",
        "data= pandas.read_csv('/content/drive/MyDrive/データアップロード/商品金額.csv')\n",
        "print( data.size )"
      ],
      "metadata": {
        "id": "cXc0-Hm1yRe7"
      },
      "execution_count": null,
      "outputs": []
    },
    {
      "cell_type": "code",
      "source": [
        "# 先頭の数行を表示させる\n",
        "data.head()"
      ],
      "metadata": {
        "id": "M1TYe7eKwvSO"
      },
      "execution_count": null,
      "outputs": []
    },
    {
      "cell_type": "markdown",
      "source": [
        "# 参考サイト\n",
        "- Google Colaboratory のWebページ\n",
        " - https://colab.research.google.com/\n"
      ],
      "metadata": {
        "id": "SpNdfz6mzUZK"
      }
    }
  ]
}