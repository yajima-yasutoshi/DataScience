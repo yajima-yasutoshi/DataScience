{
  "nbformat": 4,
  "nbformat_minor": 0,
  "metadata": {
    "colab": {
      "provenance": [],
      "collapsed_sections": [
        "8zFBC9q961jw",
        "ZcX_E1F-64Qu"
      ],
      "include_colab_link": true
    },
    "kernelspec": {
      "name": "python3",
      "display_name": "Python 3"
    },
    "language_info": {
      "name": "python"
    }
  },
  "cells": [
    {
      "cell_type": "markdown",
      "metadata": {
        "id": "view-in-github",
        "colab_type": "text"
      },
      "source": [
        "<a href=\"https://colab.research.google.com/github/yajima-yasutoshi/DataScience/blob/main/20241217/%E5%88%86%E6%9E%90%E8%AA%B2%E9%A1%8C1.ipynb\" target=\"_parent\"><img src=\"https://colab.research.google.com/assets/colab-badge.svg\" alt=\"Open In Colab\"/></a>"
      ]
    },
    {
      "cell_type": "markdown",
      "source": [
        "#分析課題1\n",
        "\n",
        "20241217\n"
      ],
      "metadata": {
        "id": "BYuJwEL85_Wu"
      }
    },
    {
      "cell_type": "markdown",
      "source": [
        "# 準備"
      ],
      "metadata": {
        "id": "8zFBC9q961jw"
      }
    },
    {
      "cell_type": "code",
      "source": [
        "# 日本語環境のインストール\n",
        "!pip install japanize-matplotlib\n",
        "\n",
        "# 必要なライブラリのインポート\n",
        "import pandas as pd\n",
        "import numpy as np\n",
        "import matplotlib.pyplot as plt\n",
        "import japanize_matplotlib\n",
        "import seaborn as sns\n",
        "import scipy.stats as st"
      ],
      "metadata": {
        "id": "g9TNYrU66eru"
      },
      "execution_count": null,
      "outputs": []
    },
    {
      "cell_type": "markdown",
      "source": [
        "---\n",
        "---\n",
        "# customer_data.csv を使う"
      ],
      "metadata": {
        "id": "msx9cbgJNrLD"
      }
    },
    {
      "cell_type": "markdown",
      "source": [
        "## データの読み込み\n",
        "\n",
        "以下のセルを実行することで、\n",
        "customer_data.csv に保存されたデータを\n",
        "データフレーム変数 df に読み込む。"
      ],
      "metadata": {
        "id": "xFM6pgEBEAe7"
      }
    },
    {
      "cell_type": "code",
      "source": [
        "# インターネット上にあるファイルを指定する\n",
        "url = 'https://raw.githubusercontent.com/yajima-yasutoshi/shunan-u/refs/heads/main/data/customer_data.csv'\n",
        "\n",
        "# df という変数に読み込むことにする\n",
        "df = pd.read_csv(url)"
      ],
      "metadata": {
        "id": "R7MDzfCoEAe8"
      },
      "execution_count": null,
      "outputs": []
    },
    {
      "cell_type": "markdown",
      "source": [
        "職業が公務員のレコードでBの利用回数の平均値の90％信頼区間を計算する。信頼区間の上限から下限を引いた値を計算せよ。\n"
      ],
      "metadata": {
        "id": "sv2u7MhnOHA9"
      }
    },
    {
      "cell_type": "markdown",
      "source": [
        "---\n",
        "---\n",
        "\n",
        "\n",
        "# Wineデータを使う\n",
        "\n",
        "今回の課題では、sklearn に組み込まれているサンプルデータを用いる。\n",
        "データの読み込みは、以下のように行う。"
      ],
      "metadata": {
        "id": "BpxjJtaORl_q"
      }
    },
    {
      "cell_type": "code",
      "source": [
        "from sklearn.datasets import load_wine\n",
        "# データの読み込み\n",
        "wine = load_wine()\n",
        "df = pd.DataFrame(wine.data, columns=wine.feature_names)"
      ],
      "metadata": {
        "id": "T3rUNpTkRmtL"
      },
      "execution_count": null,
      "outputs": []
    },
    {
      "cell_type": "markdown",
      "source": [
        "## 利用するデータ概要\n",
        "\n",
        "Wineデータセットは、イタリアの同じ地域で栽培された3種類のワインに\n",
        "含まれる成分を測定したデータ。\n",
        "13の項目がある。\n",
        "\n",
        "| 項目                          | 説明                                       |\n",
        "|---------------------------------|--------------------------------------------|\n",
        "| Alcohol（アルコール）           | ワインに含まれるアルコールの量。           |\n",
        "| Malic Acid（リンゴ酸）          | ワインに含まれるリンゴ酸の量。             |\n",
        "| Ash（灰分）                     | ワインの灰分の量。                         |\n",
        "| Alcalinity of Ash（灰分のアルカリ度） | 灰分のアルカリ度。                   |\n",
        "| Magnesium（マグネシウム）       | ワインに含まれるマグネシウムの量。         |\n",
        "| Total Phenols（総フェノール）   | ワインに含まれるフェノール類の総量。       |\n",
        "| Flavanoids（フラバノイド）      | ワインに含まれるフラバノイドの量。         |\n",
        "| Nonflavanoid Phenols（非フラバノイドフェノール） | ワインに含まれる非フラバノイドフェノールの量。 |\n",
        "| Proanthocyanins（プロアントシアニン） | ワインに含まれるプロアントシアニンの量。 |\n",
        "| Color Intensity（色の強度）     | ワインの色の強度。                         |\n",
        "| Hue（色相）                     | ワインの色相。                             |\n",
        "| OD280/OD315 of Diluted Wines（希釈ワインのOD280/OD315） | 希釈されたワインのOD280/OD315の比率。 |\n",
        "| Proline（プロリン）             | ワインに含まれるプロリンの量。             |"
      ],
      "metadata": {
        "id": "dLKZsXKXRmtL"
      }
    },
    {
      "cell_type": "markdown",
      "source": [
        "#（重要）課題を行う際の注意事項\n",
        "\n",
        "課題の中で外れ値に関する問いがあるが、実際に外れ値を除く操作は**行わない**こと。\n"
      ],
      "metadata": {
        "id": "0VzIQN7uiQtP"
      }
    }
  ]
}